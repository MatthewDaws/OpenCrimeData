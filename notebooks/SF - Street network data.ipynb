{
 "cells": [
  {
   "cell_type": "markdown",
   "metadata": {},
   "source": [
    "# San Francisco street network data\n",
    "\n",
    "https://data.sfgov.org/Geographic-Locations-and-Boundaries/San-Francisco-Basemap-Street-Centerlines/7hfy-8sz8\n",
    "\n",
    "- Select \"Export\" -> \"Shapefile\""
   ]
  },
  {
   "cell_type": "code",
   "execution_count": 14,
   "metadata": {
    "collapsed": true
   },
   "outputs": [],
   "source": [
    "%matplotlib inline\n",
    "import matplotlib.pyplot as plt\n",
    "import geopandas as gpd\n",
    "import os, collections\n",
    "\n",
    "datadir = os.path.join(\"..\", \"..\", \"..\", \"..\", \"Data\")"
   ]
  },
  {
   "cell_type": "code",
   "execution_count": 7,
   "metadata": {
    "collapsed": false
   },
   "outputs": [],
   "source": [
    "filename = os.path.join(datadir, \"San Francisco Basemap Street Centerlines\")\n",
    "frame = gpd.GeoDataFrame.from_file(filename)"
   ]
  },
  {
   "cell_type": "code",
   "execution_count": 16,
   "metadata": {
    "collapsed": false
   },
   "outputs": [
    {
     "data": {
      "text/html": [
       "<div>\n",
       "<table border=\"1\" class=\"dataframe\">\n",
       "  <thead>\n",
       "    <tr style=\"text-align: right;\">\n",
       "      <th></th>\n",
       "      <th>accepted</th>\n",
       "      <th>classcode</th>\n",
       "      <th>cnn</th>\n",
       "      <th>cnntext</th>\n",
       "      <th>district</th>\n",
       "      <th>f_node_cnn</th>\n",
       "      <th>geometry</th>\n",
       "      <th>jurisdicti</th>\n",
       "      <th>layer</th>\n",
       "      <th>lf_fadd</th>\n",
       "      <th>...</th>\n",
       "      <th>nhood</th>\n",
       "      <th>oneway</th>\n",
       "      <th>rt_fadd</th>\n",
       "      <th>rt_toadd</th>\n",
       "      <th>st_type</th>\n",
       "      <th>street</th>\n",
       "      <th>street_gc</th>\n",
       "      <th>streetname</th>\n",
       "      <th>t_node_cnn</th>\n",
       "      <th>zip_code</th>\n",
       "    </tr>\n",
       "  </thead>\n",
       "  <tbody>\n",
       "    <tr>\n",
       "      <th>0</th>\n",
       "      <td>N</td>\n",
       "      <td>0</td>\n",
       "      <td>15145000.0</td>\n",
       "      <td>15145000</td>\n",
       "      <td>None</td>\n",
       "      <td>26132000.0</td>\n",
       "      <td>LINESTRING (-122.4469424451799 37.757228921523...</td>\n",
       "      <td>None</td>\n",
       "      <td>PRIVATE</td>\n",
       "      <td>0.0</td>\n",
       "      <td>...</td>\n",
       "      <td>Twin Peaks</td>\n",
       "      <td>B</td>\n",
       "      <td>0.0</td>\n",
       "      <td>0.0</td>\n",
       "      <td>CT</td>\n",
       "      <td>CROWN</td>\n",
       "      <td>CROWN</td>\n",
       "      <td>CROWN CT</td>\n",
       "      <td>54223000.0</td>\n",
       "      <td>94114</td>\n",
       "    </tr>\n",
       "    <tr>\n",
       "      <th>1</th>\n",
       "      <td>Y</td>\n",
       "      <td>0</td>\n",
       "      <td>11305001.0</td>\n",
       "      <td>11305001</td>\n",
       "      <td>None</td>\n",
       "      <td>26255000.0</td>\n",
       "      <td>LINESTRING (-122.4479152656158 37.757589498018...</td>\n",
       "      <td>DPW</td>\n",
       "      <td>UPROW</td>\n",
       "      <td>1.0</td>\n",
       "      <td>...</td>\n",
       "      <td>Clarendon Heights</td>\n",
       "      <td>B</td>\n",
       "      <td>2.0</td>\n",
       "      <td>36.0</td>\n",
       "      <td>AVE</td>\n",
       "      <td>SAINT GERMAIN</td>\n",
       "      <td>SAINT GERMAIN</td>\n",
       "      <td>SAINT GERMAIN AVE</td>\n",
       "      <td>54224000.0</td>\n",
       "      <td>94114</td>\n",
       "    </tr>\n",
       "    <tr>\n",
       "      <th>2</th>\n",
       "      <td>Y</td>\n",
       "      <td>5</td>\n",
       "      <td>11305002.0</td>\n",
       "      <td>11305002</td>\n",
       "      <td>None</td>\n",
       "      <td>54224000.0</td>\n",
       "      <td>LINESTRING (-122.4488770135246 37.757536327477...</td>\n",
       "      <td>DPW</td>\n",
       "      <td>STREETS</td>\n",
       "      <td>39.0</td>\n",
       "      <td>...</td>\n",
       "      <td>Clarendon Heights</td>\n",
       "      <td>B</td>\n",
       "      <td>38.0</td>\n",
       "      <td>98.0</td>\n",
       "      <td>AVE</td>\n",
       "      <td>SAINT GERMAIN</td>\n",
       "      <td>SAINT GERMAIN</td>\n",
       "      <td>SAINT GERMAIN AVE</td>\n",
       "      <td>26247000.0</td>\n",
       "      <td>94114</td>\n",
       "    </tr>\n",
       "    <tr>\n",
       "      <th>3</th>\n",
       "      <td>Y</td>\n",
       "      <td>5</td>\n",
       "      <td>13798000.0</td>\n",
       "      <td>13798000</td>\n",
       "      <td>None</td>\n",
       "      <td>35015000.0</td>\n",
       "      <td>LINESTRING (-122.4665977274102 37.725924475312...</td>\n",
       "      <td>DPW</td>\n",
       "      <td>STREETS</td>\n",
       "      <td>221.0</td>\n",
       "      <td>...</td>\n",
       "      <td>Ingleside Terrace</td>\n",
       "      <td>F</td>\n",
       "      <td>222.0</td>\n",
       "      <td>298.0</td>\n",
       "      <td>ST</td>\n",
       "      <td>CORONA</td>\n",
       "      <td>CORONA</td>\n",
       "      <td>CORONA ST</td>\n",
       "      <td>35015000.0</td>\n",
       "      <td>94127</td>\n",
       "    </tr>\n",
       "    <tr>\n",
       "      <th>4</th>\n",
       "      <td>N</td>\n",
       "      <td>5</td>\n",
       "      <td>5389001.0</td>\n",
       "      <td>5389001</td>\n",
       "      <td>None</td>\n",
       "      <td>35016000.0</td>\n",
       "      <td>LINESTRING (-122.3808508035504 37.736279384703...</td>\n",
       "      <td>DPW</td>\n",
       "      <td>STREETS</td>\n",
       "      <td>0.0</td>\n",
       "      <td>...</td>\n",
       "      <td>Hunters Point</td>\n",
       "      <td>B</td>\n",
       "      <td>0.0</td>\n",
       "      <td>0.0</td>\n",
       "      <td>AVE</td>\n",
       "      <td>FAIRFAX</td>\n",
       "      <td>FAIRFAX</td>\n",
       "      <td>FAIRFAX AVE</td>\n",
       "      <td>35017000.0</td>\n",
       "      <td>94124</td>\n",
       "    </tr>\n",
       "  </tbody>\n",
       "</table>\n",
       "<p>5 rows × 22 columns</p>\n",
       "</div>"
      ],
      "text/plain": [
       "  accepted classcode         cnn   cnntext district  f_node_cnn  \\\n",
       "0        N         0  15145000.0  15145000     None  26132000.0   \n",
       "1        Y         0  11305001.0  11305001     None  26255000.0   \n",
       "2        Y         5  11305002.0  11305002     None  54224000.0   \n",
       "3        Y         5  13798000.0  13798000     None  35015000.0   \n",
       "4        N         5   5389001.0   5389001     None  35016000.0   \n",
       "\n",
       "                                            geometry jurisdicti    layer  \\\n",
       "0  LINESTRING (-122.4469424451799 37.757228921523...       None  PRIVATE   \n",
       "1  LINESTRING (-122.4479152656158 37.757589498018...        DPW    UPROW   \n",
       "2  LINESTRING (-122.4488770135246 37.757536327477...        DPW  STREETS   \n",
       "3  LINESTRING (-122.4665977274102 37.725924475312...        DPW  STREETS   \n",
       "4  LINESTRING (-122.3808508035504 37.736279384703...        DPW  STREETS   \n",
       "\n",
       "   lf_fadd   ...                 nhood oneway rt_fadd rt_toadd  st_type  \\\n",
       "0      0.0   ...            Twin Peaks      B     0.0      0.0       CT   \n",
       "1      1.0   ...     Clarendon Heights      B     2.0     36.0      AVE   \n",
       "2     39.0   ...     Clarendon Heights      B    38.0     98.0      AVE   \n",
       "3    221.0   ...     Ingleside Terrace      F   222.0    298.0       ST   \n",
       "4      0.0   ...         Hunters Point      B     0.0      0.0      AVE   \n",
       "\n",
       "          street      street_gc         streetname  t_node_cnn zip_code  \n",
       "0          CROWN          CROWN           CROWN CT  54223000.0    94114  \n",
       "1  SAINT GERMAIN  SAINT GERMAIN  SAINT GERMAIN AVE  54224000.0    94114  \n",
       "2  SAINT GERMAIN  SAINT GERMAIN  SAINT GERMAIN AVE  26247000.0    94114  \n",
       "3         CORONA         CORONA          CORONA ST  35015000.0    94127  \n",
       "4        FAIRFAX        FAIRFAX        FAIRFAX AVE  35017000.0    94124  \n",
       "\n",
       "[5 rows x 22 columns]"
      ]
     },
     "execution_count": 16,
     "metadata": {},
     "output_type": "execute_result"
    }
   ],
   "source": [
    "frame.head()"
   ]
  },
  {
   "cell_type": "code",
   "execution_count": 9,
   "metadata": {
    "collapsed": false
   },
   "outputs": [
    {
     "data": {
      "text/plain": [
       "Index(['accepted', 'classcode', 'cnn', 'cnntext', 'district', 'f_node_cnn',\n",
       "       'geometry', 'jurisdicti', 'layer', 'lf_fadd', 'lf_toadd', 'multigeom',\n",
       "       'nhood', 'oneway', 'rt_fadd', 'rt_toadd', 'st_type', 'street',\n",
       "       'street_gc', 'streetname', 't_node_cnn', 'zip_code'],\n",
       "      dtype='object')"
      ]
     },
     "execution_count": 9,
     "metadata": {},
     "output_type": "execute_result"
    }
   ],
   "source": [
    "frame.columns"
   ]
  },
  {
   "cell_type": "markdown",
   "metadata": {},
   "source": [
    "## Column/Field meanings\n",
    "\n",
    "- `accepted` : Boolean Y/N ???\n",
    "- `classcode` : Number between 0 and 6\n",
    "- `cnn` : Unique number id code\n",
    "- `cnntext` : As `cnn` but as a string\n",
    "- `district` : Always missing\n",
    "- `f_node_cnn` : Believe a code into the underlying graph structure\n",
    "- `geometry` : Obvious\n",
    "- `jurisdicti` : Missing or DPW\n",
    "- `layer` : See below\n",
    "- `lf_fadd` : Address information for left side; 0 means \"empty\"\n",
    "- `lf_toadd` : Ditto\n",
    "- `multigeom` : Boolean, but always F\n",
    "- `nhood` : One of a large number of neighboorhood names\n",
    "- `oneway` : One of \"B\", \"F\" or \"T\".  Guess that \"T\" means \"yes\" and \"F\" or \"B\" means \"no\".\n",
    "- `rt_fadd` : Address information for right side; 0 means \"empty\"\n",
    "- `rt_toadd` : Ditto\n",
    "- `st_type` : See \"names\" section below\n",
    "- `street` : Ditto\n",
    "- `street_gc` : Ditto\n",
    "- `streetname` : Ditto\n",
    "- `t_node_cnn` : Believe a code into the underlying graph structure\n",
    "- `zip_code` : Obvious"
   ]
  },
  {
   "cell_type": "code",
   "execution_count": 55,
   "metadata": {
    "collapsed": true
   },
   "outputs": [],
   "source": [
    "for _, row in frame.iterrows():\n",
    "    assert row.lf_fadd == int(row.lf_fadd)\n",
    "    assert row.lf_toadd == int(row.lf_toadd)\n",
    "    assert row.rt_fadd == int(row.rt_fadd)\n",
    "    assert row.rt_toadd == int(row.rt_toadd)\n",
    "    if row.lf_fadd == 0:\n",
    "        assert row.lf_toadd == 0\n",
    "    if row.lf_toadd == 0:\n",
    "        assert row.lf_fadd == 0\n",
    "    if row.rt_fadd == 0:\n",
    "        assert row.rt_toadd == 0\n",
    "    if row.rt_toadd == 0:\n",
    "        assert row.rt_fadd == 0"
   ]
  },
  {
   "cell_type": "code",
   "execution_count": 17,
   "metadata": {
    "collapsed": false
   },
   "outputs": [
    {
     "data": {
      "text/plain": [
       "Counter({'0': 1141,\n",
       "         '1': 102,\n",
       "         '2': 203,\n",
       "         '3': 1533,\n",
       "         '4': 2379,\n",
       "         '5': 10727,\n",
       "         '6': 109})"
      ]
     },
     "execution_count": 17,
     "metadata": {},
     "output_type": "execute_result"
    }
   ],
   "source": [
    "collections.Counter(frame[\"classcode\"])"
   ]
  },
  {
   "cell_type": "code",
   "execution_count": 26,
   "metadata": {
    "collapsed": false
   },
   "outputs": [],
   "source": [
    "assert len(set(frame.cnn)) == len(frame)\n",
    "for _, row in frame.iterrows():\n",
    "    assert int(row.cnn) == row.cnn\n",
    "    assert str(int(row.cnn)) == row.cnntext"
   ]
  },
  {
   "cell_type": "code",
   "execution_count": 27,
   "metadata": {
    "collapsed": false
   },
   "outputs": [
    {
     "data": {
      "text/plain": [
       "Counter({None: 16194})"
      ]
     },
     "execution_count": 27,
     "metadata": {},
     "output_type": "execute_result"
    }
   ],
   "source": [
    "collections.Counter(frame[\"district\"])"
   ]
  },
  {
   "cell_type": "code",
   "execution_count": 29,
   "metadata": {
    "collapsed": false
   },
   "outputs": [
    {
     "data": {
      "text/plain": [
       "Counter({None: 3015, 'DPW': 13179})"
      ]
     },
     "execution_count": 29,
     "metadata": {},
     "output_type": "execute_result"
    }
   ],
   "source": [
    "collections.Counter(frame.jurisdicti)"
   ]
  },
  {
   "cell_type": "code",
   "execution_count": 30,
   "metadata": {
    "collapsed": false
   },
   "outputs": [
    {
     "data": {
      "text/plain": [
       "Counter({'F': 16194})"
      ]
     },
     "execution_count": 30,
     "metadata": {},
     "output_type": "execute_result"
    }
   ],
   "source": [
    "collections.Counter(frame.multigeom)"
   ]
  },
  {
   "cell_type": "code",
   "execution_count": 31,
   "metadata": {
    "collapsed": false
   },
   "outputs": [
    {
     "data": {
      "text/plain": [
       "Counter({'Twin Peaks': 90,\n",
       "         'Clarendon Heights': 47,\n",
       "         'Ingleside Terrace': 103,\n",
       "         'Hunters Point': 236,\n",
       "         'Golden Gate Park': 127,\n",
       "         'Visitacion Valley': 420,\n",
       "         'Bayview Heights': 201,\n",
       "         'Potrero Hill': 476,\n",
       "         'South of Market': 359,\n",
       "         'Financial District South': 276,\n",
       "         'Telegraph Hill': 187,\n",
       "         'Miraloma Park': 164,\n",
       "         'Mission Bay': 279,\n",
       "         None: 1,\n",
       "         'Crocker Amazon': 212,\n",
       "         'Forest  Hill': 90,\n",
       "         'Golden Gate Heights': 129,\n",
       "         'West Portal': 93,\n",
       "         'Bernal Heights South': 453,\n",
       "         'Forest Hills Extension': 75,\n",
       "         'Oceanview': 86,\n",
       "         'Presidio': 439,\n",
       "         'Portola': 294,\n",
       "         'Russian Hill': 242,\n",
       "         'Inner Mission': 675,\n",
       "         'Bernal Heights North': 241,\n",
       "         'Eureka Valley - Dolores Height': 254,\n",
       "         'Financial District North': 360,\n",
       "         'Lakeshore': 192,\n",
       "         'Inner Richmond': 181,\n",
       "         'Inner Sunset': 249,\n",
       "         'Downtown - Tenderloin': 246,\n",
       "         'Ingleside': 134,\n",
       "         'Glen Park': 224,\n",
       "         'Mission Terrace': 265,\n",
       "         'Cow Hollow': 137,\n",
       "         'South Beach': 96,\n",
       "         'Lake': 109,\n",
       "         'Bayview District': 740,\n",
       "         'Excelsior': 303,\n",
       "         'Stonestown': 175,\n",
       "         'Forest Knolls': 65,\n",
       "         'Hayes Valley': 195,\n",
       "         'Duboce Triangle': 59,\n",
       "         'Outer Mission': 267,\n",
       "         'Western Addition': 141,\n",
       "         'Nob Hill': 238,\n",
       "         'Silver Terrace': 168,\n",
       "         'Mission Dolores': 137,\n",
       "         'Noe Valley': 370,\n",
       "         'Sunnyside': 158,\n",
       "         'Outer Richmond': 254,\n",
       "         'Marina': 236,\n",
       "         'Midtown Terrace': 83,\n",
       "         'Saint Francis Wood': 72,\n",
       "         'Ingleside Heights': 140,\n",
       "         'Yerba Buena Island': 41,\n",
       "         'San Francisco Bay': 2,\n",
       "         'Treasure Island': 158,\n",
       "         'North Beach': 94,\n",
       "         'Lakeside': 85,\n",
       "         'Monterey Heights': 40,\n",
       "         'Pine Lake Park': 37,\n",
       "         'Parkside': 296,\n",
       "         'Outer Parkside': 232,\n",
       "         'North Waterfront': 127,\n",
       "         'Jordan Park - Laurel Heights': 67,\n",
       "         'Lone Mountain': 120,\n",
       "         'Parnassus - Ashbury Heights': 98,\n",
       "         'Van Ness - Civic Center': 242,\n",
       "         'Lower Pacfic Heights': 156,\n",
       "         'Westwood Park': 100,\n",
       "         'Mount Davidson Manor': 56,\n",
       "         'Haight Ashbury': 109,\n",
       "         'Balboa Terrace': 42,\n",
       "         'Alamo Square': 45,\n",
       "         'Pacific Heights': 283,\n",
       "         'Presidio Heights': 81,\n",
       "         'Inner Parkside': 71,\n",
       "         'Buena Vista Park': 33,\n",
       "         'Corona Heights': 80,\n",
       "         'Merced Heights': 77,\n",
       "         'Anza Vista': 53,\n",
       "         'Westwood Highlands': 54,\n",
       "         'North Panhandle': 110,\n",
       "         'Central Sunset': 299,\n",
       "         'Diamond Heights': 60,\n",
       "         'Central Richmond': 251,\n",
       "         'Outer Sunset': 226,\n",
       "         'Merced Manor': 45,\n",
       "         'Sea Cliff': 54,\n",
       "         'Sherwood Forest': 25,\n",
       "         'Forest Hill': 1,\n",
       "         'Presisio': 1})"
      ]
     },
     "execution_count": 31,
     "metadata": {},
     "output_type": "execute_result"
    }
   ],
   "source": [
    "collections.Counter(frame.nhood)"
   ]
  },
  {
   "cell_type": "code",
   "execution_count": 32,
   "metadata": {
    "collapsed": false
   },
   "outputs": [
    {
     "data": {
      "text/plain": [
       "Counter({'B': 12279, 'F': 2083, 'T': 1832})"
      ]
     },
     "execution_count": 32,
     "metadata": {},
     "output_type": "execute_result"
    }
   ],
   "source": [
    "collections.Counter(frame.oneway)"
   ]
  },
  {
   "cell_type": "markdown",
   "metadata": {},
   "source": [
    "## Names\n",
    "\n",
    "- `street` and `street_gc` always agree, except in cases likes \"08TH\" / \"8TH\"\n",
    "- `st_type` can be None; if so then `street` and `streetname` agree\n",
    "- Otherwise `streetname` is `street` combined with `st_type`, and _maybe_ with \"NORTH\" etc. added"
   ]
  },
  {
   "cell_type": "code",
   "execution_count": 49,
   "metadata": {
    "collapsed": false
   },
   "outputs": [],
   "source": [
    "for _, row in frame.iterrows():\n",
    "    if row.street != row.street_gc:\n",
    "        assert row.street[0] == \"0\"\n",
    "        assert row.street[1:] == row.street_gc\n",
    "    if row.st_type is None:\n",
    "        assert row.street == row.streetname\n",
    "    else:\n",
    "        expect = row.street + \" \" + row.st_type\n",
    "        if expect != row.streetname:\n",
    "            assert row.streetname.startswith(expect)\n",
    "            postfix = row.streetname[len(expect):]\n",
    "            assert postfix[0] == \" \"\n",
    "            assert postfix[1:] in {\"NORTH\", \"SOUTH\", \"EAST\", \"WEST\"}"
   ]
  },
  {
   "cell_type": "markdown",
   "metadata": {},
   "source": [
    "## Layer\n",
    "\n",
    "Somewhat guessing based on QGIS and base maps etc.\n",
    "\n",
    "- PAPER, Paper_fwys, Paper_water: Paper, i.e. ficticious streets (e.g. where a street would logically exist were it not for something like a freeway being in the way)\n",
    "- PARKS etc.: Roads in parks.  As far as crime modelling goes, I don't see that these are different.\n",
    "- FREEWAYS: As you might guess\n",
    "- PRIVATE etc.: I think this is a legal thing; do _not_ appear to be inaccessible\n",
    "- PSEUDO: Only 2 (!) but like \"PAPER\" I think\n",
    "- UPROW: I believe these are staircases (semi-famous in SF)\n",
    "- STREETS etc.: Normal roads"
   ]
  },
  {
   "cell_type": "code",
   "execution_count": 56,
   "metadata": {
    "collapsed": false
   },
   "outputs": [
    {
     "data": {
      "text/plain": [
       "Counter({'FREEWAYS': 210,\n",
       "         'PAPER': 110,\n",
       "         'PARKS': 178,\n",
       "         'PRIVATE': 260,\n",
       "         'PSEUDO': 2,\n",
       "         'Paper_fwys': 213,\n",
       "         'Paper_water': 137,\n",
       "         'Parks_NPS_FtMaso': 23,\n",
       "         'Parks_NPS_Presid': 418,\n",
       "         'Private': 4,\n",
       "         'Private_parking': 9,\n",
       "         'STREETS': 14005,\n",
       "         'Streets': 25,\n",
       "         'Streets_HuntersP': 5,\n",
       "         'Streets_Pedestri': 163,\n",
       "         'UPROW': 245,\n",
       "         'streets_ti': 158,\n",
       "         'streets_ybi': 29})"
      ]
     },
     "execution_count": 56,
     "metadata": {},
     "output_type": "execute_result"
    }
   ],
   "source": [
    "collections.Counter(frame[\"layer\"])"
   ]
  },
  {
   "cell_type": "code",
   "execution_count": null,
   "metadata": {
    "collapsed": true
   },
   "outputs": [],
   "source": []
  }
 ],
 "metadata": {
  "kernelspec": {
   "display_name": "Python 3",
   "language": "python",
   "name": "python3"
  },
  "language_info": {
   "codemirror_mode": {
    "name": "ipython",
    "version": 3
   },
   "file_extension": ".py",
   "mimetype": "text/x-python",
   "name": "python",
   "nbconvert_exporter": "python",
   "pygments_lexer": "ipython3",
   "version": "3.6.0"
  }
 },
 "nbformat": 4,
 "nbformat_minor": 2
}
