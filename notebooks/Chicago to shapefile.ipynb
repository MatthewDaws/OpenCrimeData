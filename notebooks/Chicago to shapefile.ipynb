{
 "cells": [
  {
   "cell_type": "code",
   "execution_count": 1,
   "metadata": {
    "collapsed": true
   },
   "outputs": [],
   "source": [
    "import geopandas as gpd\n",
    "import os, lzma, csv, collections\n",
    "import pyproj\n",
    "import shapely.geometry\n",
    "import open_cp.sources.chicago"
   ]
  },
  {
   "cell_type": "code",
   "execution_count": 3,
   "metadata": {
    "collapsed": true
   },
   "outputs": [],
   "source": [
    "data_dir = os.path.join(\"/media\", \"disk\", \"Data\")\n",
    "#data_dir = os.path.join(\"..\", \"..\", \"..\", \"..\", \"Data\")\n",
    "#os.listdir(data_dir)\n",
    "filename = os.path.join(data_dir, \"chicago_all.csv.xz\")"
   ]
  },
  {
   "cell_type": "code",
   "execution_count": 5,
   "metadata": {
    "collapsed": false
   },
   "outputs": [
    {
     "data": {
      "text/plain": [
       "5768060"
      ]
     },
     "execution_count": 5,
     "metadata": {},
     "output_type": "execute_result"
    }
   ],
   "source": [
    "with lzma.open(filename, \"rt\", encoding=\"utf8\") as f:\n",
    "    reader = csv.reader(f)\n",
    "    header = next(reader)\n",
    "    data = []\n",
    "    for row in reader:\n",
    "        if row[15] == \"\":\n",
    "            continue\n",
    "        year = int(row[17])\n",
    "        if year <= 2001:\n",
    "            continue\n",
    "        block, x, y = row[3], float(row[15]), float(row[16])\n",
    "        x /= open_cp.sources.chicago._FEET_IN_METERS\n",
    "        y /= open_cp.sources.chicago._FEET_IN_METERS\n",
    "        data.append((block, x, y, row[5], row[6], row[7]))\n",
    "len(data)"
   ]
  },
  {
   "cell_type": "code",
   "execution_count": 6,
   "metadata": {
    "collapsed": false
   },
   "outputs": [
    {
     "data": {
      "text/html": [
       "<div>\n",
       "<table border=\"1\" class=\"dataframe\">\n",
       "  <thead>\n",
       "    <tr style=\"text-align: right;\">\n",
       "      <th></th>\n",
       "      <th>block</th>\n",
       "      <th>crime</th>\n",
       "      <th>location</th>\n",
       "      <th>type</th>\n",
       "      <th>geometry</th>\n",
       "    </tr>\n",
       "  </thead>\n",
       "  <tbody>\n",
       "    <tr>\n",
       "      <th>0</th>\n",
       "      <td>022XX N CANNON DR</td>\n",
       "      <td>THEFT</td>\n",
       "      <td>STREET</td>\n",
       "      <td>OVER $500</td>\n",
       "      <td>POINT (-87.63221518349633 41.92244026811861)</td>\n",
       "    </tr>\n",
       "    <tr>\n",
       "      <th>1</th>\n",
       "      <td>037XX N WILTON AVE</td>\n",
       "      <td>DECEPTIVE PRACTICE</td>\n",
       "      <td>OTHER</td>\n",
       "      <td>FRAUD OR CONFIDENCE GAME</td>\n",
       "      <td>POINT (-87.6532109705951 41.95014588475505)</td>\n",
       "    </tr>\n",
       "    <tr>\n",
       "      <th>2</th>\n",
       "      <td>077XX S EUCLID AVE</td>\n",
       "      <td>THEFT</td>\n",
       "      <td>RESIDENCE</td>\n",
       "      <td>AGG: FINANCIAL ID THEFT</td>\n",
       "      <td>POINT (-87.57728228874838 41.75463186307462)</td>\n",
       "    </tr>\n",
       "    <tr>\n",
       "      <th>3</th>\n",
       "      <td>068XX S WASHTENAW AVE</td>\n",
       "      <td>THEFT</td>\n",
       "      <td>APARTMENT</td>\n",
       "      <td>FROM BUILDING</td>\n",
       "      <td>POINT (-87.69071181858655 41.76929624572653)</td>\n",
       "    </tr>\n",
       "    <tr>\n",
       "      <th>4</th>\n",
       "      <td>0000X N KENTON AVE</td>\n",
       "      <td>PROSTITUTION</td>\n",
       "      <td>STREET</td>\n",
       "      <td>SOLICIT FOR PROSTITUTE</td>\n",
       "      <td>POINT (-87.74011082104049 41.88106436775494)</td>\n",
       "    </tr>\n",
       "  </tbody>\n",
       "</table>\n",
       "</div>"
      ],
      "text/plain": [
       "                   block               crime   location  \\\n",
       "0      022XX N CANNON DR               THEFT     STREET   \n",
       "1     037XX N WILTON AVE  DECEPTIVE PRACTICE      OTHER   \n",
       "2     077XX S EUCLID AVE               THEFT  RESIDENCE   \n",
       "3  068XX S WASHTENAW AVE               THEFT  APARTMENT   \n",
       "4     0000X N KENTON AVE        PROSTITUTION     STREET   \n",
       "\n",
       "                       type                                      geometry  \n",
       "0                 OVER $500  POINT (-87.63221518349633 41.92244026811861)  \n",
       "1  FRAUD OR CONFIDENCE GAME   POINT (-87.6532109705951 41.95014588475505)  \n",
       "2   AGG: FINANCIAL ID THEFT  POINT (-87.57728228874838 41.75463186307462)  \n",
       "3             FROM BUILDING  POINT (-87.69071181858655 41.76929624572653)  \n",
       "4    SOLICIT FOR PROSTITUTE  POINT (-87.74011082104049 41.88106436775494)  "
      ]
     },
     "execution_count": 6,
     "metadata": {},
     "output_type": "execute_result"
    }
   ],
   "source": [
    "proj = pyproj.Proj({\"init\":\"epsg:3528\"})\n",
    "\n",
    "frame = gpd.GeoDataFrame({\"block\" : [r[0] for r in data],\n",
    "    \"crime\" : [r[3] for r in data],\n",
    "    \"type\" : [r[4] for r in data],\n",
    "    \"location\" : [r[5] for r in data]\n",
    "    })\n",
    "\n",
    "geo = []\n",
    "for x, y in zip(*proj([r[1] for r in data], [r[2] for r in data], inverse=True)):\n",
    "    geo.append( shapely.geometry.Point(x,y) )\n",
    "frame.geometry = geo\n",
    "frame.crs = {\"init\" : \"epsg:4326\"}\n",
    "\n",
    "frame.head()"
   ]
  },
  {
   "cell_type": "markdown",
   "metadata": {},
   "source": [
    "### Save"
   ]
  },
  {
   "cell_type": "code",
   "execution_count": 5,
   "metadata": {
    "collapsed": true
   },
   "outputs": [],
   "source": [
    "frame.to_file(\"chicago_post_2001\")"
   ]
  },
  {
   "cell_type": "markdown",
   "metadata": {
    "collapsed": true
   },
   "source": [
    "### Further study\n",
    "\n",
    "http://blogs.findlaw.com/blotter/2015/01/whats-the-difference-between-burglary-robbery-and-theft.html\n",
    "\n",
    "- Theft is stealing\n",
    "- Robbery is theft with physical violence or threat of\n",
    "- Burglary is trespass with intent"
   ]
  },
  {
   "cell_type": "code",
   "execution_count": 7,
   "metadata": {
    "collapsed": false
   },
   "outputs": [
    {
     "data": {
      "text/plain": [
       "array(['THEFT', 'DECEPTIVE PRACTICE', 'PROSTITUTION', 'BATTERY', 'ASSAULT',\n",
       "       'ROBBERY', 'CRIMINAL DAMAGE', 'NARCOTICS', 'CRIMINAL TRESPASS',\n",
       "       'OFFENSE INVOLVING CHILDREN', 'OTHER OFFENSE',\n",
       "       'MOTOR VEHICLE THEFT', 'BURGLARY', 'PUBLIC PEACE VIOLATION',\n",
       "       'WEAPONS VIOLATION', 'ARSON', 'KIDNAPPING',\n",
       "       'INTERFERENCE WITH PUBLIC OFFICER', 'CRIM SEXUAL ASSAULT',\n",
       "       'SEX OFFENSE', 'GAMBLING', 'STALKING', 'INTIMIDATION',\n",
       "       'LIQUOR LAW VIOLATION', 'NON-CRIMINAL', 'PUBLIC INDECENCY',\n",
       "       'OBSCENITY', 'OTHER NARCOTIC VIOLATION',\n",
       "       'NON-CRIMINAL (SUBJECT SPECIFIED)', 'NON - CRIMINAL', 'HOMICIDE',\n",
       "       'CONCEALED CARRY LICENSE VIOLATION', 'HUMAN TRAFFICKING',\n",
       "       'RITUALISM'], dtype=object)"
      ]
     },
     "execution_count": 7,
     "metadata": {},
     "output_type": "execute_result"
    }
   ],
   "source": [
    "frame.crime.unique()"
   ]
  },
  {
   "cell_type": "code",
   "execution_count": 9,
   "metadata": {
    "collapsed": false
   },
   "outputs": [],
   "source": [
    "f = frame[(frame.crime == \"THEFT\") | (frame.crime == \"ROBBERY\")]\n",
    "f.to_file(\"chicago_post_2001_theft_robbery\")"
   ]
  },
  {
   "cell_type": "code",
   "execution_count": 10,
   "metadata": {
    "collapsed": true
   },
   "outputs": [],
   "source": [
    "f = frame[(frame.crime == \"BURGLARY\")]\n",
    "f.to_file(\"chicago_post_2001_burglary\")"
   ]
  },
  {
   "cell_type": "markdown",
   "metadata": {
    "collapsed": true
   },
   "source": [
    "# Old data"
   ]
  },
  {
   "cell_type": "code",
   "execution_count": 7,
   "metadata": {
    "collapsed": false
   },
   "outputs": [
    {
     "data": {
      "text/plain": [
       "5492749"
      ]
     },
     "execution_count": 7,
     "metadata": {},
     "output_type": "execute_result"
    }
   ],
   "source": [
    "filename = os.path.join(data_dir, \"chicago_all_old.csv\")\n",
    "with open(filename, \"rt\", encoding=\"utf8\") as f:\n",
    "    reader = csv.reader(f)\n",
    "    header = next(reader)\n",
    "    data = []\n",
    "    for row in reader:\n",
    "        if row[15] == \"\":\n",
    "            continue\n",
    "        block, x, y = row[3], float(row[15]), float(row[16])\n",
    "        x /= open_cp.sources.chicago._FEET_IN_METERS\n",
    "        y /= open_cp.sources.chicago._FEET_IN_METERS\n",
    "        data.append((block, x, y, row[5], row[6], row[7]))\n",
    "len(data)"
   ]
  },
  {
   "cell_type": "code",
   "execution_count": 8,
   "metadata": {
    "collapsed": false
   },
   "outputs": [
    {
     "data": {
      "text/html": [
       "<div>\n",
       "<table border=\"1\" class=\"dataframe\">\n",
       "  <thead>\n",
       "    <tr style=\"text-align: right;\">\n",
       "      <th></th>\n",
       "      <th>block</th>\n",
       "      <th>crime</th>\n",
       "      <th>location</th>\n",
       "      <th>type</th>\n",
       "      <th>geometry</th>\n",
       "    </tr>\n",
       "  </thead>\n",
       "  <tbody>\n",
       "    <tr>\n",
       "      <th>0</th>\n",
       "      <td>087XX S KINGSTON AVE</td>\n",
       "      <td>BATTERY</td>\n",
       "      <td>APARTMENT</td>\n",
       "      <td>DOMESTIC BATTERY SIMPLE</td>\n",
       "      <td>POINT (-87.56256927017955 41.73642174778224)</td>\n",
       "    </tr>\n",
       "    <tr>\n",
       "      <th>1</th>\n",
       "      <td>028XX E 106TH ST</td>\n",
       "      <td>WEAPONS VIOLATION</td>\n",
       "      <td>VEHICLE NON-COMMERCIAL</td>\n",
       "      <td>RECKLESS FIREARM DISCHARGE</td>\n",
       "      <td>POINT (-87.55449999320267 41.70286757095072)</td>\n",
       "    </tr>\n",
       "    <tr>\n",
       "      <th>2</th>\n",
       "      <td>002XX W SUPERIOR ST</td>\n",
       "      <td>MOTOR VEHICLE THEFT</td>\n",
       "      <td>STREET</td>\n",
       "      <td>AUTOMOBILE</td>\n",
       "      <td>POINT (-87.63433696578942 41.89569153235757)</td>\n",
       "    </tr>\n",
       "    <tr>\n",
       "      <th>3</th>\n",
       "      <td>016XX W 71ST ST</td>\n",
       "      <td>PUBLIC PEACE VIOLATION</td>\n",
       "      <td>STREET</td>\n",
       "      <td>RECKLESS CONDUCT</td>\n",
       "      <td>POINT (-87.66393039094419 41.76500767433839)</td>\n",
       "    </tr>\n",
       "    <tr>\n",
       "      <th>4</th>\n",
       "      <td>016XX W 71ST ST</td>\n",
       "      <td>BATTERY</td>\n",
       "      <td>SIDEWALK</td>\n",
       "      <td>AGGRAVATED:KNIFE/CUTTING INSTR</td>\n",
       "      <td>POINT (-87.66523915591245 41.76499059371392)</td>\n",
       "    </tr>\n",
       "  </tbody>\n",
       "</table>\n",
       "</div>"
      ],
      "text/plain": [
       "                  block                   crime                location  \\\n",
       "0  087XX S KINGSTON AVE                 BATTERY               APARTMENT   \n",
       "1      028XX E 106TH ST       WEAPONS VIOLATION  VEHICLE NON-COMMERCIAL   \n",
       "2   002XX W SUPERIOR ST     MOTOR VEHICLE THEFT                  STREET   \n",
       "3       016XX W 71ST ST  PUBLIC PEACE VIOLATION                  STREET   \n",
       "4       016XX W 71ST ST                 BATTERY                SIDEWALK   \n",
       "\n",
       "                             type  \\\n",
       "0         DOMESTIC BATTERY SIMPLE   \n",
       "1      RECKLESS FIREARM DISCHARGE   \n",
       "2                      AUTOMOBILE   \n",
       "3                RECKLESS CONDUCT   \n",
       "4  AGGRAVATED:KNIFE/CUTTING INSTR   \n",
       "\n",
       "                                       geometry  \n",
       "0  POINT (-87.56256927017955 41.73642174778224)  \n",
       "1  POINT (-87.55449999320267 41.70286757095072)  \n",
       "2  POINT (-87.63433696578942 41.89569153235757)  \n",
       "3  POINT (-87.66393039094419 41.76500767433839)  \n",
       "4  POINT (-87.66523915591245 41.76499059371392)  "
      ]
     },
     "execution_count": 8,
     "metadata": {},
     "output_type": "execute_result"
    }
   ],
   "source": [
    "proj = pyproj.Proj({\"init\":\"epsg:3528\"})\n",
    "\n",
    "frame = gpd.GeoDataFrame({\"block\" : [r[0] for r in data],\n",
    "    \"crime\" : [r[3] for r in data],\n",
    "    \"type\" : [r[4] for r in data],\n",
    "    \"location\" : [r[5] for r in data]\n",
    "    })\n",
    "\n",
    "geo = []\n",
    "for x, y in zip(*proj([r[1] for r in data], [r[2] for r in data], inverse=True)):\n",
    "    geo.append( shapely.geometry.Point(x,y) )\n",
    "frame.geometry = geo\n",
    "frame.crs = {\"init\" : \"epsg:4326\"}\n",
    "\n",
    "frame.head()"
   ]
  },
  {
   "cell_type": "code",
   "execution_count": 9,
   "metadata": {
    "collapsed": true
   },
   "outputs": [],
   "source": [
    "frame.to_file(\"chicago_old\")"
   ]
  },
  {
   "cell_type": "code",
   "execution_count": null,
   "metadata": {
    "collapsed": true
   },
   "outputs": [],
   "source": []
  }
 ],
 "metadata": {
  "kernelspec": {
   "display_name": "Python 3",
   "language": "python",
   "name": "python3"
  },
  "language_info": {
   "codemirror_mode": {
    "name": "ipython",
    "version": 3
   },
   "file_extension": ".py",
   "mimetype": "text/x-python",
   "name": "python",
   "nbconvert_exporter": "python",
   "pygments_lexer": "ipython3",
   "version": "3.6.0"
  }
 },
 "nbformat": 4,
 "nbformat_minor": 2
}
