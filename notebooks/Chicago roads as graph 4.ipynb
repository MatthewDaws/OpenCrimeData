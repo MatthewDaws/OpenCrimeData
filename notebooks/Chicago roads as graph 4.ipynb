{
 "cells": [
  {
   "cell_type": "markdown",
   "metadata": {},
   "source": [
    "# Use the data from notebook 3 to randomise locations"
   ]
  },
  {
   "cell_type": "code",
   "execution_count": 15,
   "metadata": {
    "collapsed": true
   },
   "outputs": [],
   "source": [
    "%matplotlib inline\n",
    "import matplotlib.pyplot as plt\n",
    "\n",
    "import geopandas as gpd\n",
    "import os, bz2, csv, collections, json, sys, pickle, lzma\n",
    "import numpy as np\n",
    "\n",
    "import open_cp.network\n",
    "import open_cp.geometry\n",
    "import open_cp.sources.chicago\n",
    "import matplotlib.patches\n",
    "import shapely.geometry, descartes\n",
    "\n",
    "import tilemapbase\n",
    "import pyproj\n",
    "proj = pyproj.Proj({\"init\":\"epsg:3528\"})"
   ]
  },
  {
   "cell_type": "code",
   "execution_count": 2,
   "metadata": {
    "collapsed": true
   },
   "outputs": [],
   "source": [
    "data_dir = os.path.join(\"/media\", \"disk\", \"Data\")\n",
    "#data_dir = os.path.join(\"..\", \"..\", \"..\", \"..\", \"Data\")\n",
    "#os.listdir(data_dir)\n",
    "filename = os.path.join(data_dir, \"chicago_all.csv.xz\")"
   ]
  },
  {
   "cell_type": "code",
   "execution_count": null,
   "metadata": {
    "collapsed": false
   },
   "outputs": [],
   "source": [
    "with lzma.open(filename, \"rt\", encoding=\"utf8\") as f:\n",
    "    reader = csv.reader(f)\n",
    "    header = next(reader)\n",
    "    data = []\n",
    "    for row in reader:\n",
    "        if row[15] == \"\":\n",
    "            continue\n",
    "        year = int(row[17])\n",
    "        if year <= 2001:\n",
    "            continue\n",
    "        block, x, y = row[3], float(row[15]), float(row[16])\n",
    "        x /= open_cp.sources.chicago._FEET_IN_METERS\n",
    "        y /= open_cp.sources.chicago._FEET_IN_METERS\n",
    "        if x < 10 or y < 10:\n",
    "            continue\n",
    "        data.append((block, x, y, row[5], row[6], row[7], row[2], row[0]))"
   ]
  },
  {
   "cell_type": "code",
   "execution_count": null,
   "metadata": {
    "collapsed": false
   },
   "outputs": [],
   "source": [
    "crime_points = [shapely.geometry.Point(x,y) for _,x,y,*z in data]\n",
    "xcs = np.asarray([x for _,x,y,*z in data])\n",
    "ycs = np.asarray([y for _,x,y,*z in data])\n",
    "len(xcs)"
   ]
  },
  {
   "cell_type": "code",
   "execution_count": null,
   "metadata": {
    "collapsed": false
   },
   "outputs": [],
   "source": [
    "frame = gpd.read_file(\"chicago_regions_simple_segments_merged\")"
   ]
  },
  {
   "cell_type": "markdown",
   "metadata": {},
   "source": [
    "### Solve by iterating over points\n",
    "\n",
    "This seems a bit slower..."
   ]
  },
  {
   "cell_type": "code",
   "execution_count": null,
   "metadata": {
    "collapsed": false
   },
   "outputs": [],
   "source": [
    "import rtree\n",
    "\n",
    "index = rtree.index.Index(((i,geo.bounds,None) for i, geo in enumerate(frame.geometry)))"
   ]
  },
  {
   "cell_type": "code",
   "execution_count": null,
   "metadata": {
    "collapsed": false
   },
   "outputs": [],
   "source": [
    "containing_geo = []\n",
    "for i, (x, y, pt) in enumerate(zip(xcs, ycs, crime_points)):\n",
    "    choices = [i for i in index.intersection((x, y)) if frame.geometry[i].intersects(pt)]\n",
    "    if len(choices) == 0:\n",
    "        containing_geo.append(None)\n",
    "    else:\n",
    "        containing_geo.append(choices[0])\n",
    "    assert len(choices) <= 1\n",
    "    if i % 10000 == 0:\n",
    "        print(i, file=sys.__stdout__)"
   ]
  },
  {
   "cell_type": "markdown",
   "metadata": {},
   "source": [
    "### Solve by iterating over polys\n",
    "\n",
    "Think this is faster, though it's still slow..."
   ]
  },
  {
   "cell_type": "code",
   "execution_count": null,
   "metadata": {
    "collapsed": false
   },
   "outputs": [],
   "source": [
    "len(frame.geometry)"
   ]
  },
  {
   "cell_type": "code",
   "execution_count": null,
   "metadata": {
    "collapsed": false
   },
   "outputs": [],
   "source": [
    "ii = np.arange(len(data))\n",
    "to_geo = [None for _ in data]\n",
    "for index, geo in enumerate(frame.geometry):\n",
    "    xmin, ymin, xmax, ymax = geo.bounds\n",
    "    mask = (xcs >= xmin) & (xcs <= xmax) & (ycs >= ymin) & (ycs <= ymax)\n",
    "    for i in ii[mask]:\n",
    "        if geo.intersects(crime_points[i]):\n",
    "            to_geo[i] = index\n",
    "    if index % 100 == 0:\n",
    "        print(index, file=sys.__stdout__)"
   ]
  },
  {
   "cell_type": "markdown",
   "metadata": {},
   "source": [
    "## Check agree"
   ]
  },
  {
   "cell_type": "code",
   "execution_count": null,
   "metadata": {
    "collapsed": false
   },
   "outputs": [],
   "source": [
    "containing_geo == to_geo"
   ]
  },
  {
   "cell_type": "markdown",
   "metadata": {},
   "source": [
    "# Load some geometry\n",
    "\n",
    "Clip to an outline to stop massive polygons on the boundary"
   ]
  },
  {
   "cell_type": "code",
   "execution_count": null,
   "metadata": {
    "collapsed": false
   },
   "outputs": [],
   "source": [
    "outline = gpd.io.file.read_file(os.path.join(data_dir, \"Chicago_Areas.geojson\"))\n",
    "outline = outline.to_crs({\"init\":\"epsg:3528\"})\n",
    "outline = outline.unary_union\n",
    "outline"
   ]
  },
  {
   "cell_type": "markdown",
   "metadata": {},
   "source": [
    "### Visualise outliers\n",
    "\n",
    "There are 3 of them.  We don't care..."
   ]
  },
  {
   "cell_type": "code",
   "execution_count": null,
   "metadata": {
    "collapsed": false
   },
   "outputs": [],
   "source": [
    "outliers = []\n",
    "for row, geo_index in zip(data, to_geo):\n",
    "    if geo_index is None:\n",
    "        outliers.append((row[1], row[2]))\n",
    "outliers = np.asarray(outliers)\n",
    "\n",
    "fig, ax = plt.subplots(figsize=(8,8))\n",
    "ax.add_patch(descartes.PolygonPatch(outline, fc=\"none\", ec=\"black\", linewidth=1))\n",
    "ax.scatter(*outliers.T)\n",
    "ax.set_aspect(1)\n",
    "outliers.shape"
   ]
  },
  {
   "cell_type": "markdown",
   "metadata": {},
   "source": [
    "## Buffer and prepare for random assignment"
   ]
  },
  {
   "cell_type": "code",
   "execution_count": null,
   "metadata": {
    "collapsed": false
   },
   "outputs": [],
   "source": [
    "outline = outline.buffer(50)\n",
    "geo = [p.buffer(10) for p in frame.geometry]\n",
    "geo = [g.intersection(outline) for g in geo]"
   ]
  },
  {
   "cell_type": "code",
   "execution_count": null,
   "metadata": {
    "collapsed": false
   },
   "outputs": [],
   "source": [
    "computed = {\"outline\" : outline, \"geo\" : geo, \"to_geo\" : to_geo, \"data\" : data}\n",
    "with lzma.open(\"chicago_computed_4.pic.xz\", \"wb\") as f:\n",
    "    pickle.dump(computed, f)"
   ]
  },
  {
   "cell_type": "markdown",
   "metadata": {},
   "source": [
    "# Resample\n",
    "\n",
    "Idea is reallocate points to a random place in the containing geometry."
   ]
  },
  {
   "cell_type": "code",
   "execution_count": 3,
   "metadata": {
    "collapsed": true
   },
   "outputs": [],
   "source": [
    "with lzma.open(\"chicago_computed_4.pic.xz\", \"rb\") as f:\n",
    "    computed = pickle.load(f)\n",
    "outline = computed[\"outline\"]\n",
    "geo = computed[\"geo\"]\n",
    "to_geo = computed[\"to_geo\"]\n",
    "data = computed[\"data\"]"
   ]
  },
  {
   "cell_type": "code",
   "execution_count": null,
   "metadata": {
    "collapsed": false
   },
   "outputs": [],
   "source": [
    "problem_rows = []\n",
    "for count, (row, i) in enumerate(zip(data, to_geo)):\n",
    "    if i is None:\n",
    "        continue\n",
    "    if geo[i].is_empty:\n",
    "        print(row)\n",
    "        problem_rows.append(count)"
   ]
  },
  {
   "cell_type": "code",
   "execution_count": null,
   "metadata": {
    "collapsed": false
   },
   "outputs": [],
   "source": [
    "fig, ax = plt.subplots(figsize=(8,8))\n",
    "ax.add_patch(descartes.PolygonPatch(outline, fc=\"none\", ec=\"black\", linewidth=1))\n",
    "x, y = 342649.44343521784, 588676.6803623462\n",
    "d = 10000\n",
    "ax.scatter(x, y)\n",
    "ax.set(xlim=[x-d,x+d], ylim=[y-d,y+d])\n",
    "ax.set_aspect(1)"
   ]
  },
  {
   "cell_type": "markdown",
   "metadata": {
    "collapsed": true
   },
   "source": [
    "# Uniform in each cell"
   ]
  },
  {
   "cell_type": "code",
   "execution_count": 4,
   "metadata": {
    "collapsed": true
   },
   "outputs": [],
   "source": [
    "point_cache = dict()\n",
    "\n",
    "def make_point(p, size=200):\n",
    "    xmin, ymin, xmax, ymax = p.bounds\n",
    "    xd, yd = xmax-xmin, ymax-ymin\n",
    "    xx = np.random.random(size) * xd + xmin\n",
    "    yy = np.random.random(size) * yd + ymin\n",
    "    pts = shapely.geometry.MultiPoint(np.asarray([xx,yy]).T)\n",
    "    pts = pts.intersection(p)\n",
    "    try:\n",
    "        return [list(pt.coords)[0] for pt in pts]\n",
    "    except TypeError:\n",
    "        return [list(pts.coords)[0]]\n",
    "\n",
    "def fetch(geo_index):\n",
    "    if geo_index not in point_cache or len(point_cache[geo_index]) == 0:\n",
    "        point_cache[geo_index] = make_point(geo[geo_index])\n",
    "    return point_cache[geo_index].pop()"
   ]
  },
  {
   "cell_type": "code",
   "execution_count": 5,
   "metadata": {
    "collapsed": false
   },
   "outputs": [],
   "source": [
    "new_data = []\n",
    "for count, (row, i) in enumerate(zip(data, to_geo)):\n",
    "    if i is None or geo[i].is_empty:\n",
    "        continue\n",
    "    x, y = fetch(i)\n",
    "    x *= open_cp.sources.chicago._FEET_IN_METERS\n",
    "    y *= open_cp.sources.chicago._FEET_IN_METERS\n",
    "    new_row = (row[0], x, y) +  row[3:]\n",
    "    new_data.append(new_row)\n",
    "    if count % 5000 == 0:\n",
    "        print(count, \"/\", len(data), file=sys.__stdout__)"
   ]
  },
  {
   "cell_type": "code",
   "execution_count": 20,
   "metadata": {
    "collapsed": true
   },
   "outputs": [],
   "source": [
    "def write(filename, new_data):\n",
    "    header = [\"BLOCK\", \"X\", \"Y\", \"CRIME\", \"SUB-TYPE\", \"LOCATION\", \"TIMESTAMP\", \"CASE\"]\n",
    "    with bz2.open(filename, \"wt\") as f:\n",
    "        w = csv.writer(f)\n",
    "        w.writerow(header)\n",
    "        w.writerows(new_data)"
   ]
  },
  {
   "cell_type": "code",
   "execution_count": 7,
   "metadata": {
    "collapsed": false
   },
   "outputs": [],
   "source": [
    "write(\"chicago_new_data_test.csv.bz2\", new_data)"
   ]
  },
  {
   "cell_type": "markdown",
   "metadata": {
    "collapsed": true
   },
   "source": [
    "# Uniform subject to max movement"
   ]
  },
  {
   "cell_type": "code",
   "execution_count": 19,
   "metadata": {
    "collapsed": false
   },
   "outputs": [
    {
     "name": "stdout",
     "output_type": "stream",
     "text": [
      "Skipping ('058XX N RIVER RD', 339111.3251484376, 590374.7211080089, 'STALKING', 'SIMPLE', 'PARKING LOT/GARAGE(NON.RESID.)', '07/06/2007 11:00:00 AM', '5646133')\n",
      "Skipping ('117XX W IRVING PARK RD', 334443.6180978042, 587151.156411163, 'THEFT', 'FROM BUILDING', 'FACTORY/MANUFACTURING BUILDING', '09/30/2007 03:00:00 PM', '5810856')\n",
      "Skipping ('058XX N RIVER RD', 339111.3251484376, 590374.7211080089, 'CRIMINAL TRESPASS', 'TO LAND', 'CTA PLATFORM', '11/13/2007 05:48:00 PM', '5908727')\n",
      "Skipping ('007XX W OHARE ST', 333630.1069238366, 592855.7930286146, 'CRIMINAL TRESPASS', 'TO STATE SUP LAND', 'AIRPORT EXTERIOR - SECURE AREA', '01/14/2015 10:15:00 AM', '9940426')\n",
      "Skipping ('058XX N RIVER RD', 339111.3251484376, 590374.7211080089, 'THEFT', '$500 AND UNDER', 'CTA GARAGE / OTHER PROPERTY', '05/04/2008 01:00:00 PM', '6249350')\n",
      "Skipping ('042XX N DIVISION ST', 334268.35810341255, 587134.6972116897, 'NARCOTICS', 'POSS: HEROIN(WHITE)', 'STREET', '03/13/2009 02:30:00 PM', '6803263')\n",
      "Skipping ('005XX W OHARE ST', 337757.4035917631, 588480.3891686276, 'THEFT', 'OVER $500', 'AIRPORT EXTERIOR - NON-SECURE AREA', '04/08/2010 08:40:00 AM', '7454063')\n",
      "Skipping ('0000X W STAGING AREA A ST', 333770.0101193597, 592918.5818266054, 'BATTERY', 'SIMPLE', 'AIRPORT EXTERIOR - NON-SECURE AREA', '10/04/2010 07:28:00 AM', '7753783')\n",
      "Skipping ('005XX W OHARE ST', 337757.4035917631, 588480.3891686276, 'BATTERY', 'SIMPLE', 'AIRPORT BUILDING NON-TERMINAL - SECURE AREA', '04/17/2011 09:30:00 AM', '8033630')\n",
      "Skipping ('007XX W OHARE ST', 333630.1069238366, 592855.7930286146, 'CRIMINAL TRESPASS', 'TO STATE SUP LAND', 'AIRPORT EXTERIOR - SECURE AREA', '01/14/2012 06:13:00 AM', '8446048')\n",
      "Skipping ('005XX W OHARE ST', 337788.79799075844, 588519.4035673791, 'THEFT', 'OVER $500', 'AIRPORT EXTERIOR - NON-SECURE AREA', '01/17/2012 04:00:00 PM', '8452081')\n",
      "Skipping ('007XX W OHARE ST', 333630.1069238366, 592855.7930286146, 'CRIMINAL TRESPASS', 'TO STATE SUP LAND', 'AIRPORT EXTERIOR - SECURE AREA', '03/05/2012 02:35:00 PM', '8514335')\n",
      "Skipping ('007XX W OHARE ST', 333630.1069238366, 592855.7930286146, 'DECEPTIVE PRACTICE', 'COUNTERFEITING DOCUMENT', 'AIRPORT EXTERIOR - NON-SECURE AREA', '05/25/2012 05:55:00 AM', '8657230')\n",
      "Skipping ('007XX W OHARE ST', 333630.1069238366, 592855.7930286146, 'THEFT', '$500 AND UNDER', 'AIRPORT EXTERIOR - SECURE AREA', '06/23/2013 08:15:00 PM', '9197341')\n",
      "Skipping ('107XX W IRVING PARK RD', 336698.22362565686, 587454.4324014582, 'BATTERY', 'SIMPLE', 'OTHER COMMERCIAL TRANSPORTATION', '03/01/2016 09:45:00 AM', '10440198')\n",
      "Skipping ('043XX N DIVISION ST', 334267.13890345156, 587346.8380049012, 'WEAPONS VIOLATION', 'UNLAWFUL POSS OF HANDGUN', 'ALLEY', '07/01/2003 06:54:00 PM', '2821921')\n",
      "Skipping ('107XX W IRVING PARK RD', 336698.22362565686, 587454.4324014582, 'THEFT', 'OVER $500', 'AIRPORT EXTERIOR - NON-SECURE AREA', '11/09/2016 06:30:00 AM', '10748318')\n",
      "Skipping ('007XX W OHARE ST', 333630.1069238366, 592855.7930286146, 'ASSAULT', 'SIMPLE', 'AIRPORT EXTERIOR - NON-SECURE AREA', '05/18/2017 12:50:00 PM', '10953752')\n",
      "Skipping ('117XX W IRVING PARK RD', 334491.77649626316, 587130.4300118262, 'ASSAULT', 'AGGRAVATED: HANDGUN', 'STREET', '07/09/2017 09:00:00 AM', '11014885')\n",
      "Skipping ('117XX W IRVING PARK RD', 334480.1940966338, 587135.6116116605, 'ASSAULT', 'SIMPLE', 'WAREHOUSE', '07/21/2006 09:15:00 PM', '4883535')\n"
     ]
    }
   ],
   "source": [
    "max_movement = 30\n",
    "\n",
    "new_data = []\n",
    "for count, (row, i) in enumerate(zip(data, to_geo)):\n",
    "    if i is None or geo[i].is_empty:\n",
    "        continue\n",
    "    xx, yy = row[1], row[2]\n",
    "    p = shapely.geometry.Point(xx, yy).buffer(max_movement).intersection(geo[i])\n",
    "    if p.area < 1:\n",
    "        print(\"Skipping\", row)\n",
    "        continue\n",
    "    while True:\n",
    "        options = make_point(p, 10)\n",
    "        if len(options) > 0:\n",
    "            break\n",
    "    x, y = options[0]\n",
    "    x *= open_cp.sources.chicago._FEET_IN_METERS\n",
    "    y *= open_cp.sources.chicago._FEET_IN_METERS\n",
    "    new_row = (row[0], x, y) +  row[3:]\n",
    "    new_data.append(new_row)\n",
    "    if count % 5000 == 0:\n",
    "        print(count, \"/\", len(data), file=sys.__stdout__)    "
   ]
  },
  {
   "cell_type": "code",
   "execution_count": 21,
   "metadata": {
    "collapsed": true
   },
   "outputs": [],
   "source": [
    "write(\"chicago_new_data_test1.csv.bz2\", new_data)"
   ]
  },
  {
   "cell_type": "code",
   "execution_count": null,
   "metadata": {
    "collapsed": true
   },
   "outputs": [],
   "source": []
  }
 ],
 "metadata": {
  "kernelspec": {
   "display_name": "Python 3",
   "language": "python",
   "name": "python3"
  },
  "language_info": {
   "codemirror_mode": {
    "name": "ipython",
    "version": 3
   },
   "file_extension": ".py",
   "mimetype": "text/x-python",
   "name": "python",
   "nbconvert_exporter": "python",
   "pygments_lexer": "ipython3",
   "version": "3.6.0"
  }
 },
 "nbformat": 4,
 "nbformat_minor": 2
}
