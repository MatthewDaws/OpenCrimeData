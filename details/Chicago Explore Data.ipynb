{
 "cells": [
  {
   "cell_type": "code",
   "execution_count": 2,
   "metadata": {
    "collapsed": true
   },
   "outputs": [],
   "source": [
    "import os, sys\n",
    "sys.path.insert(0, os.path.abspath(\"..\"))"
   ]
  },
  {
   "cell_type": "markdown",
   "metadata": {},
   "source": [
    "# Chicago data\n",
    "\n",
    "We have already done this somewhat in `open_cp`, but let's do it again for completeness."
   ]
  },
  {
   "cell_type": "code",
   "execution_count": 3,
   "metadata": {
    "collapsed": true
   },
   "outputs": [],
   "source": [
    "import os, lzma, csv, collections, datetime\n",
    "import pyproj\n",
    "import numpy as np"
   ]
  },
  {
   "cell_type": "code",
   "execution_count": 19,
   "metadata": {
    "collapsed": false
   },
   "outputs": [
    {
     "name": "stdout",
     "output_type": "stream",
     "text": [
      "['ID', 'Case Number', 'Date', 'Block', 'IUCR', 'Primary Type', 'Description', 'Location Description', 'Arrest', 'Domestic', 'Beat', 'District', 'Ward', 'Community Area', 'FBI Code', 'X Coordinate', 'Y Coordinate', 'Year', 'Updated On', 'Latitude', 'Longitude', 'Location']\n",
      "['5189091', 'HM779248', '10/12/2006 10:58:00 AM', '108XX S AVENUE G', '1750', 'OFFENSE INVOLVING CHILDREN', 'CHILD ABUSE', 'RESIDENCE', 'false', 'false', '0432', '004', '10', '52', '20', '1203183', '1833703', '2006', '04/15/2016 08:55:02 AM', '41.698387427', '-87.531655723', '(41.698387427, -87.531655723)']\n"
     ]
    }
   ],
   "source": [
    "datadir = os.path.join(\"/media\", \"disk\", \"Data\")\n",
    "filename = os.path.join(datadir, \"chicago_all.csv.xz\")\n",
    "\n",
    "def gen():\n",
    "    with lzma.open(filename, \"rt\", encoding=\"UTF8\") as f:\n",
    "        yield from csv.reader(f)\n",
    "        \n",
    "def gen_data():\n",
    "    reader = gen()\n",
    "    header = next(reader)\n",
    "    yield from reader\n",
    "\n",
    "rows = gen()\n",
    "header = next(rows)\n",
    "print(header)\n",
    "print(next(rows))"
   ]
  },
  {
   "cell_type": "markdown",
   "metadata": {},
   "source": [
    "Same again, but for the \"old\" file"
   ]
  },
  {
   "cell_type": "code",
   "execution_count": 15,
   "metadata": {
    "collapsed": false
   },
   "outputs": [
    {
     "name": "stdout",
     "output_type": "stream",
     "text": [
      "['ID', 'Case Number', 'Date', 'Block', 'IUCR', 'Primary Type', 'Description', 'Location Description', 'Arrest', 'Domestic', 'Beat', 'District', 'Ward', 'Community Area', 'FBI Code', 'X Coordinate', 'Y Coordinate', 'Year', 'Updated On', 'Latitude', 'Longitude', 'Location']\n",
      "['9625135', 'HX275356', '05/24/2014 11:53:00 PM', '087XX S KINGSTON AVE', '0486', 'BATTERY', 'DOMESTIC BATTERY SIMPLE', 'APARTMENT', 'true', 'true', '0423', '004', '7', '46', '08B', '1194619', '1847489', '2014', '05/31/2014 12:40:12 PM', '41.736431989689265', '-87.56256025376493', '(41.736431989689265, -87.56256025376493)']\n"
     ]
    }
   ],
   "source": [
    "datadir = os.path.join(\"/media\", \"disk\", \"Data\")\n",
    "filename = os.path.join(datadir, \"chicago_all_old.csv\")\n",
    "\n",
    "def gen():\n",
    "    with open(filename, \"rt\", encoding=\"UTF8\") as f:\n",
    "        yield from csv.reader(f)\n",
    "        \n",
    "def gen_data():\n",
    "    reader = gen()\n",
    "    header = next(reader)\n",
    "    yield from reader\n",
    "\n",
    "rows = gen()\n",
    "header = next(rows)\n",
    "print(header)\n",
    "print(next(rows))"
   ]
  },
  {
   "cell_type": "markdown",
   "metadata": {},
   "source": [
    "# ID Numbers\n",
    "\n",
    "- `ID` is unique\n",
    "- `Case Number` is nearly unique.  No obvious pattern in the repeats.  Quite a few are \"HOMICIDE\"."
   ]
  },
  {
   "cell_type": "code",
   "execution_count": 61,
   "metadata": {
    "collapsed": true
   },
   "outputs": [],
   "source": [
    "ids, cases = [], []\n",
    "for row in gen_data():\n",
    "    ids.append(row[0])\n",
    "    cases.append(row[1])"
   ]
  },
  {
   "cell_type": "code",
   "execution_count": 62,
   "metadata": {
    "collapsed": false
   },
   "outputs": [
    {
     "data": {
      "text/plain": [
       "(5536001, 5536001)"
      ]
     },
     "execution_count": 62,
     "metadata": {},
     "output_type": "execute_result"
    }
   ],
   "source": [
    "len(ids), len(set(ids))"
   ]
  },
  {
   "cell_type": "code",
   "execution_count": 63,
   "metadata": {
    "collapsed": false
   },
   "outputs": [
    {
     "data": {
      "text/plain": [
       "(5536001, 5535722)"
      ]
     },
     "execution_count": 63,
     "metadata": {},
     "output_type": "execute_result"
    }
   ],
   "source": [
    "len(cases), len(set(cases))"
   ]
  },
  {
   "cell_type": "code",
   "execution_count": 64,
   "metadata": {
    "collapsed": false
   },
   "outputs": [],
   "source": [
    "counter = collections.defaultdict(int)\n",
    "for case in cases:\n",
    "    counter[case] += 1\n",
    "counter = {case:count for case,count in counter.items() if count>1}"
   ]
  },
  {
   "cell_type": "code",
   "execution_count": 65,
   "metadata": {
    "collapsed": false
   },
   "outputs": [],
   "source": [
    "case_repeats = collections.defaultdict(list)\n",
    "for row in gen_data():\n",
    "    if row[1] in counter:\n",
    "        case_repeats[row[1]].append(row)"
   ]
  },
  {
   "cell_type": "code",
   "execution_count": 66,
   "metadata": {
    "collapsed": false
   },
   "outputs": [
    {
     "name": "stdout",
     "output_type": "stream",
     "text": [
      "HX258236 ['Date', 'Block', 'IUCR', 'Primary Type', 'Description', 'Location Description', 'Arrest', 'District', 'Ward', 'FBI Code', 'X Coordinate', 'Y Coordinate', 'Updated On', 'Latitude', 'Longitude', 'Location']\n",
      "HX238885 ['Date', 'Block', 'IUCR', 'Primary Type', 'Description', 'Location Description', 'Beat', 'District', 'Ward', 'Community Area', 'FBI Code', 'X Coordinate', 'Y Coordinate', 'Year', 'Updated On', 'Latitude', 'Longitude', 'Location']\n",
      "HX230593 ['Updated On']\n",
      "HX229324 ['Updated On']\n",
      "HV394360 ['Date', 'IUCR', 'Primary Type', 'Description', 'Location Description', 'FBI Code', 'Y Coordinate', 'Year', 'Updated On', 'Latitude', 'Longitude', 'Location']\n",
      "HX219632 ['Date', 'Block', 'IUCR', 'Primary Type', 'Description', 'Location Description', 'Arrest', 'Beat', 'District', 'Ward', 'Community Area', 'FBI Code', 'X Coordinate', 'Y Coordinate', 'Year', 'Updated On', 'Latitude', 'Longitude', 'Location']\n",
      "HX191030 ['Date', 'Block', 'IUCR', 'Primary Type', 'Description', 'Location Description', 'Beat', 'District', 'Ward', 'Community Area', 'FBI Code', 'X Coordinate', 'Y Coordinate', 'Year', 'Updated On', 'Latitude', 'Longitude', 'Location']\n",
      "HX170572 ['Date', 'Arrest', 'Updated On']\n",
      "HX119907 ['Updated On']\n",
      "HX111221 ['Date', 'Block', 'IUCR', 'Primary Type', 'Description', 'Location Description', 'Beat', 'Ward', 'Community Area', 'FBI Code', 'Year', 'Updated On']\n",
      "HW523463 ['Date', 'Updated On']\n",
      "HW492267 ['Date', 'Location Description', 'Updated On']\n",
      "HW495229 ['Updated On']\n",
      "HW486725 ['Date', 'Updated On']\n",
      "HW540050 ['Updated On']\n",
      "HW416567 ['Date', 'Block', 'IUCR', 'Primary Type', 'Description', 'Location Description', 'Arrest', 'Beat', 'District', 'Ward', 'Community Area', 'FBI Code', 'X Coordinate', 'Y Coordinate', 'Updated On', 'Latitude', 'Longitude', 'Location']\n",
      "HW405390 ['Updated On']\n",
      "HW395269 ['Updated On']\n",
      "HW338584 ['Updated On']\n",
      "HW303843 ['Date', 'Block', 'IUCR', 'Primary Type', 'Description', 'Location Description', 'Beat', 'District', 'Ward', 'Community Area', 'FBI Code', 'X Coordinate', 'Y Coordinate', 'Updated On', 'Latitude', 'Longitude', 'Location']\n",
      "HW286248 ['Updated On']\n",
      "HW163948 ['Updated On']\n",
      "HW132598 ['Updated On']\n",
      "HW131920 ['Updated On']\n",
      "HV620483 ['Date', 'Updated On']\n",
      "VV588979 ['Date', 'Location Description', 'Updated On']\n",
      "HV528532 ['Date', 'Updated On']\n",
      "HV495203 ['Updated On']\n",
      "HV490538 ['Date', 'Location Description', 'Updated On']\n",
      "HV470563 ['Date', 'Block', 'IUCR', 'Primary Type', 'Description', 'Location Description', 'Arrest', 'Domestic', 'Beat', 'District', 'Ward', 'Community Area', 'FBI Code', 'X Coordinate', 'Y Coordinate', 'Updated On', 'Latitude', 'Longitude', 'Location']\n",
      "HV450944 ['Updated On']\n",
      "HV446329 ['Date', 'Updated On']\n",
      "HV440764 ['Date', 'Updated On']\n",
      "HV412015 ['Updated On']\n",
      "HV402064 ['Updated On']\n",
      "HV397322 ['Date', 'Updated On']\n",
      "HV363936 ['Date', 'Updated On']\n",
      "HV359989 ['Updated On']\n",
      "HV005095 ['Updated On']\n",
      "HV338591 ['Date', 'Location Description', 'Updated On']\n",
      "HV341781 ['Updated On']\n",
      "HV328499 ['Date', 'Updated On']\n",
      "HV324883 ['Updated On']\n",
      "HV303630 ['Date', 'Updated On']\n",
      "HV295764 ['Date', 'Updated On']\n",
      "HV280450 ['Date', 'Updated On']\n",
      "HV269776 ['Updated On']\n",
      "HV217424 ['Date', 'Updated On']\n",
      "HV164849 ['Updated On']\n",
      " ['Date', 'Block', 'IUCR', 'Primary Type', 'Description', 'Location Description', 'Arrest', 'Beat', 'District', 'Ward', 'Community Area', 'FBI Code', 'X Coordinate', 'Y Coordinate', 'Year', 'Updated On', 'Latitude', 'Longitude', 'Location']\n",
      "HV128067 ['Updated On']\n",
      "HT649448 ['Updated On']\n",
      "HT646724 ['Updated On']\n",
      "HT576362 ['Date', 'Updated On']\n",
      "HT572234 ['Updated On']\n",
      "HT558544 ['Date', 'Updated On']\n",
      "HT491143 ['Date', 'Updated On']\n",
      "HT479527 ['Date', 'Updated On']\n",
      "HT421725 ['Updated On']\n",
      "HT341462 ['Date']\n",
      "HT155546 ['Date', 'IUCR', 'Description', 'Location Description', 'Arrest', 'Updated On']\n",
      "HS638640 ['Date']\n",
      "HS492813 ['Date', 'Location Description']\n",
      "HS496074 ['Updated On']\n",
      "HS367475 ['Date', 'Location Description']\n",
      "HS349558 ['Updated On']\n",
      "HS325550 ['Date']\n",
      "HS313197 ['Updated On']\n",
      "HS286987 ['Date']\n",
      "HS256531 ['Date']\n",
      "HS269432 ['Updated On']\n",
      "HS264473 ['Updated On']\n",
      "HS148319 ['Date', 'Block', 'IUCR', 'Primary Type', 'Description', 'Location Description', 'Beat', 'District', 'Ward', 'Community Area', 'FBI Code', 'X Coordinate', 'Y Coordinate', 'Updated On', 'Latitude', 'Longitude', 'Location']\n",
      "HR682134 ['Location Description']\n",
      "HR351627 ['Date', 'Updated On']\n",
      "HR547827 ['Updated On']\n",
      "HR511382 ['Date', 'Location Description']\n",
      "HR334204 ['Date']\n",
      "HR300068 ['Date']\n",
      "HR246998 ['Date', 'Block', 'IUCR', 'Primary Type', 'Description', 'Location Description', 'FBI Code', 'X Coordinate', 'Y Coordinate', 'Updated On', 'Latitude', 'Longitude', 'Location']\n",
      "HR180267 ['Updated On']\n",
      "HP665739 ['Date']\n",
      "HP572693 ['Date', 'Updated On']\n",
      "HP510137 ['Date']\n",
      "HP431726 ['Date']\n",
      "HP424011 ['Date']\n",
      "HP287673 ['Updated On']\n",
      "HP101233 ['Date']\n",
      "HN323540 ['Date']\n",
      "HN701397 ['Date']\n",
      "HN633367 ['Date']\n",
      "HN243399 ['Arrest']\n",
      "HN239664 ['Date', 'Location Description', 'Updated On']\n",
      "HN181190 ['Block', 'X Coordinate', 'Y Coordinate', 'Latitude', 'Longitude', 'Location']\n",
      "HN152307 ['Date']\n",
      "HM646109 ['Date']\n",
      "HM575626 ['Date']\n",
      "HM492478 ['Date']\n",
      "HM509037 ['Block', 'X Coordinate', 'Y Coordinate', 'Latitude', 'Longitude', 'Location']\n",
      "HM371254 ['Date']\n",
      "HM443007 ['Date']\n",
      "HM370791 ['Date']\n",
      "HM256511 ['Date', 'Block', 'X Coordinate', 'Y Coordinate', 'Latitude', 'Longitude', 'Location']\n",
      "HM169818 ['Date']\n",
      "HM154020 ['Date']\n",
      "HL527629 ['Date']\n",
      "HL475827 ['Date']\n",
      "HL230043 ['Date']\n",
      "HL135476 ['Date', 'X Coordinate', 'Y Coordinate', 'Latitude', 'Longitude', 'Location']\n",
      "HL112637 ['Date']\n",
      "HK827036 ['Date']\n",
      "HK778184 ['Date']\n",
      "HK729807 ['Date']\n",
      "HK509310 ['Date']\n",
      "HJ808429 ['Date']\n",
      "HJ796008 ['Date']\n",
      "HJ767943 ['Date']\n",
      "HJ761890 ['Date']\n",
      "HJ756295 ['Date']\n",
      "HJ678090 ['Updated On']\n",
      "HJ550192 ['Date']\n",
      "HJ506204 ['Date', 'Location Description']\n",
      "HJ460302 ['Date']\n",
      "HJ454908 ['Updated On']\n",
      "HJ368546 ['Date']\n",
      "HJ320635 ['Date']\n",
      "HJ309480 ['Date']\n",
      "HJ309452 ['Date']\n",
      "HJ254860 ['Date']\n",
      "HJ220710 ['Date']\n",
      "HJ154371 ['Date', 'Block', 'Location Description', 'X Coordinate', 'Y Coordinate', 'Latitude', 'Longitude', 'Location']\n",
      "HJ104730 ['Date']\n",
      "HH769051 ['Date']\n",
      "HH470866 ['Date', 'Location Description']\n",
      "HH662108 ['Date']\n",
      "HH648843 ['Date']\n",
      "HH641455 ['Date']\n",
      "G262626 ['Date', 'Year']\n",
      "HH546846 ['Date']\n",
      "HH524632 ['Date']\n",
      "HH494479 ['Updated On']\n",
      "HH461078 ['Date', 'Updated On']\n",
      "HH462985 ['X Coordinate', 'Y Coordinate', 'Latitude', 'Longitude', 'Location']\n",
      "HH301285 ['Date']\n",
      "HH257676 ['Date']\n",
      "HH245450 ['Date', 'Updated On']\n",
      "HH205535 ['Location Description']\n",
      "HH108838 ['Date']\n",
      "G768259 ['Block', 'Ward']\n",
      "G614514 ['Date']\n",
      "G594535 ['Date']\n",
      "G592219 ['Block']\n",
      "G501252 ['Date', 'Block', 'Location Description', 'Domestic', 'Beat', 'District', 'Ward', 'Community Area', 'X Coordinate', 'Y Coordinate', 'Latitude', 'Longitude', 'Location']\n",
      "G433824 ['Date', 'Updated On']\n",
      "G386706 ['Date']\n",
      "G401835 ['X Coordinate', 'Y Coordinate', 'Latitude', 'Longitude', 'Location']\n",
      "G362854 ['Date']\n",
      "G183906 ['Date']\n",
      "G219399 ['Date']\n",
      "G137655 ['Arrest']\n",
      "G023235 ['Date']\n"
     ]
    }
   ],
   "source": [
    "for key in case_repeats:\n",
    "    uniques = set(tuple(row)[1:] for row in case_repeats[key])\n",
    "    if len(uniques) > 1:\n",
    "        titles = []\n",
    "        for i, title in enumerate(header[1:]):\n",
    "            if len(set(row[i] for row in uniques)) > 1:\n",
    "                titles.append(title)\n",
    "        print(key, titles)"
   ]
  },
  {
   "cell_type": "markdown",
   "metadata": {},
   "source": [
    "# Types and Descriptions"
   ]
  },
  {
   "cell_type": "code",
   "execution_count": 67,
   "metadata": {
    "collapsed": false
   },
   "outputs": [
    {
     "data": {
      "text/plain": [
       "defaultdict(set,\n",
       "            {'ARSON': {'AGGRAVATED',\n",
       "              'ATTEMPT ARSON',\n",
       "              'BY EXPLOSIVE',\n",
       "              'BY FIRE',\n",
       "              'POS: CHEMICAL/DRY-ICE DEVICE',\n",
       "              'POS: EXPLOSIVE/INCENDIARY DEV'},\n",
       "             'ASSAULT': {'AGG PO HANDS NO/MIN INJURY',\n",
       "              'AGG PRO.EMP: HANDGUN',\n",
       "              'AGG PRO.EMP: OTHER DANG WEAPON',\n",
       "              'AGG PRO.EMP: OTHER FIREARM',\n",
       "              'AGG PRO.EMP:KNIFE/CUTTING INST',\n",
       "              'AGGRAVATED PO: HANDGUN',\n",
       "              'AGGRAVATED PO: OTHER DANG WEAP',\n",
       "              'AGGRAVATED PO: OTHER FIREARM',\n",
       "              'AGGRAVATED PO:KNIFE/CUT INSTR',\n",
       "              'AGGRAVATED: HANDGUN',\n",
       "              'AGGRAVATED: OTHER DANG WEAPON',\n",
       "              'AGGRAVATED: OTHER FIREARM',\n",
       "              'AGGRAVATED:KNIFE/CUTTING INSTR',\n",
       "              'PRO EMP HANDS NO/MIN INJURY',\n",
       "              'SIMPLE'},\n",
       "             'BATTERY': {'AGG PO HANDS ETC SERIOUS INJ',\n",
       "              'AGG PO HANDS NO/MIN INJURY',\n",
       "              'AGG PRO EMP HANDS SERIOUS INJ',\n",
       "              'AGG PRO.EMP: HANDGUN',\n",
       "              'AGG PRO.EMP: OTHER DANG WEAPON',\n",
       "              'AGG PRO.EMP: OTHER FIREARM',\n",
       "              'AGG PRO.EMP:KNIFE/CUTTING INST',\n",
       "              'AGG: HANDS/FIST/FEET NO/MINOR INJURY',\n",
       "              'AGG: HANDS/FIST/FEET SERIOUS INJURY',\n",
       "              'AGGRAVATED DOMESTIC BATTERY',\n",
       "              'AGGRAVATED DOMESTIC BATTERY: HANDGUN',\n",
       "              'AGGRAVATED DOMESTIC BATTERY: HANDS/FIST/FEET SERIOUS INJURY',\n",
       "              'AGGRAVATED DOMESTIC BATTERY: KNIFE/CUTTING INST',\n",
       "              'AGGRAVATED DOMESTIC BATTERY: OTHER DANG WEAPON',\n",
       "              'AGGRAVATED DOMESTIC BATTERY: OTHER FIREARM',\n",
       "              'AGGRAVATED OF A CHILD',\n",
       "              'AGGRAVATED OF A SENIOR CITIZEN',\n",
       "              'AGGRAVATED OF A UNBORN CHILD',\n",
       "              'AGGRAVATED PO: HANDGUN',\n",
       "              'AGGRAVATED PO: KNIFE/CUT INSTR',\n",
       "              'AGGRAVATED PO: OTHER DANG WEAP',\n",
       "              'AGGRAVATED PO: OTHER FIREARM',\n",
       "              'AGGRAVATED: HANDGUN',\n",
       "              'AGGRAVATED: OTHER DANG WEAPON',\n",
       "              'AGGRAVATED: OTHER FIREARM',\n",
       "              'AGGRAVATED:KNIFE/CUTTING INSTR',\n",
       "              'DOMESTIC BATTERY SIMPLE',\n",
       "              'OF UNBORN CHILD',\n",
       "              'PRO EMP HANDS NO/MIN INJURY',\n",
       "              'SIMPLE'},\n",
       "             'BURGLARY': {'ATTEMPT FORCIBLE ENTRY',\n",
       "              'FORCIBLE ENTRY',\n",
       "              'HOME INVASION',\n",
       "              'UNLAWFUL ENTRY'},\n",
       "             'CONCEALED CARRY LICENSE VIOLATION': {'OTHER'},\n",
       "             'CRIM SEXUAL ASSAULT': {'AGGRAVATED: HANDGUN',\n",
       "              'AGGRAVATED: KNIFE/CUT INSTR',\n",
       "              'AGGRAVATED: OTHER',\n",
       "              'AGGRAVATED: OTHER DANG WEAPON',\n",
       "              'AGGRAVATED: OTHER FIREARM',\n",
       "              'ATTEMPT AGG: HANDGUN',\n",
       "              'ATTEMPT AGG: KNIFE/CUT INSTR',\n",
       "              'ATTEMPT AGG: OTHER',\n",
       "              'ATTEMPT AGG: OTHER DANG WEAPON',\n",
       "              'ATTEMPT AGG: OTHER FIREARM',\n",
       "              'ATTEMPT NON-AGGRAVATED',\n",
       "              'NON-AGGRAVATED',\n",
       "              'PREDATORY'},\n",
       "             'CRIMINAL DAMAGE': {'CRIMINAL DEFACEMENT',\n",
       "              'INSTITUTIONAL VANDALISM',\n",
       "              'LIBRARY VANDALISM',\n",
       "              'TO CITY OF CHICAGO PROPERTY',\n",
       "              'TO FIRE FIGHT.APP.EQUIP',\n",
       "              'TO PROPERTY',\n",
       "              'TO STATE SUP PROP',\n",
       "              'TO VEHICLE'},\n",
       "             'CRIMINAL TRESPASS': {'TO AIRPORT',\n",
       "              'TO LAND',\n",
       "              'TO RESIDENCE',\n",
       "              'TO STATE SUP LAND',\n",
       "              'TO VEHICLE'},\n",
       "             'DECEPTIVE PRACTICE': {'AGGRAVATED COMPUTER TAMPERING',\n",
       "              'AGGRAVATED FINANCIAL IDENTITY THEFT',\n",
       "              'ALTER COINS',\n",
       "              'ATTEMPT - FINANCIAL IDENTITY THEFT',\n",
       "              'BOGUS CHECK',\n",
       "              'COMPUTER FRAUD',\n",
       "              'COUNTERFEIT CHECK',\n",
       "              'COUNTERFEITING DOCUMENT',\n",
       "              'CREDIT CARD FRAUD',\n",
       "              'DECEPTIVE COLLECTION PRACTICES',\n",
       "              'EMBEZZLEMENT',\n",
       "              'FINAN EXPLOIT-ELDERLY/DISABLED',\n",
       "              'FINANCIAL IDENTITY THEFT $300 AND UNDER',\n",
       "              'FINANCIAL IDENTITY THEFT OVER $ 300',\n",
       "              'FORGERY',\n",
       "              'FRAUD OR CONFIDENCE GAME',\n",
       "              'ILLEGAL POSSESSION CASH CARD',\n",
       "              'ILLEGAL USE CASH CARD',\n",
       "              'IMPERSONATION',\n",
       "              'INSURANCE FRAUD',\n",
       "              'LIBRARY THEFT',\n",
       "              'PAY TV SERVICE OFFENSES',\n",
       "              'POSS. KEYS OR DEV.TO COIN MACH',\n",
       "              'STOLEN PROP: BUY/RECEIVE/POS.',\n",
       "              'THEFT BY LESSEE,MOTOR VEH',\n",
       "              'THEFT BY LESSEE,NON-VEH',\n",
       "              'THEFT OF LABOR/SERVICES',\n",
       "              'THEFT OF LOST/MISLAID PROP',\n",
       "              'UNAUTHORIZED VIDEOTAPING',\n",
       "              'UNIDENTIFIABLE RECORDING SOUND',\n",
       "              'UNLAWFUL USE OF A COMPUTER',\n",
       "              'UNLAWFUL USE OF RECORDED SOUND'},\n",
       "             'DOMESTIC VIOLENCE': {'DOMESTIC VIOLENCE'},\n",
       "             'GAMBLING': {'BOLITA OR BOLI PUL/OFFICE',\n",
       "              'BOLITA OR BOLI PUL/RUNNER',\n",
       "              'BOLITA OR BOLI PUL/WRITER',\n",
       "              'BOOKMAKING/HORSES',\n",
       "              'BOOKMAKING/SPORTS',\n",
       "              'GAME/AMUSEMENT DEVICE',\n",
       "              'GAME/CARDS',\n",
       "              'GAME/DICE',\n",
       "              'ILLEGAL ILL LOTTERY',\n",
       "              'LOTTERY/OTHER',\n",
       "              'LOTTERY/PARI-MUTUEL',\n",
       "              'LOTTERY/PARLAY CARDS',\n",
       "              'NATIONAL LOTTERY',\n",
       "              'OTHER',\n",
       "              'POLICY/OTHER',\n",
       "              'REGISTER FED GAMBLING STAMP',\n",
       "              'SPORTS TAMPERING',\n",
       "              'VIOL CHARITABLE GAME ACT',\n",
       "              'WIREROOM/HORSES',\n",
       "              'WIREROOM/SPORTS'},\n",
       "             'HOMICIDE': {'FIRST DEGREE MURDER',\n",
       "              'INVOLUNTARY MANSLAUGHTER',\n",
       "              'RECKLESS HOMICIDE'},\n",
       "             'INTERFERE WITH PUBLIC OFFICER': {'AIDING ARRESTEE ESCAPE',\n",
       "              'BRIBERY',\n",
       "              'CONCEALING/AIDING A FUGITIVE',\n",
       "              'CONTRABAND IN PRISON',\n",
       "              'ESCAPE',\n",
       "              'INTERFERENCE JUDICIAL PROCESS',\n",
       "              'OBSTRUCTING JUSTICE',\n",
       "              'OBSTRUCTING SERVICE',\n",
       "              'OFFICIAL MISCONDUCT',\n",
       "              'REFUSING TO AID AN OFFICER',\n",
       "              'RESIST/OBSTRUCT/DISARM OFFICER'},\n",
       "             'INTERFERENCE WITH PUBLIC OFFICER': {'AIDING ARRESTEE ESCAPE',\n",
       "              'BRIBERY',\n",
       "              'CONCEALING/AIDING A FUGITIVE',\n",
       "              'CONTRABAND IN PRISON',\n",
       "              'ESCAPE',\n",
       "              'INTERFERENCE JUDICIAL PROCESS',\n",
       "              'OBSTRUCTING IDENTIFICATION',\n",
       "              'OBSTRUCTING JUSTICE',\n",
       "              'OBSTRUCTING SERVICE',\n",
       "              'OFFICIAL MISCONDUCT',\n",
       "              'REFUSING TO AID AN OFFICER',\n",
       "              'RESIST/OBSTRUCT/DISARM OFFICER'},\n",
       "             'INTIMIDATION': {'COMPELLING CONFESSION',\n",
       "              'COMPELLING ORG MEMBERSHIP',\n",
       "              'EDUCATIONAL INTIMIDAITON',\n",
       "              'EXTORTION',\n",
       "              'INTIMIDATION'},\n",
       "             'KIDNAPPING': {'AGGRAVATED',\n",
       "              'CHILD ABDUCTION/STRANGER',\n",
       "              'FORCIBLE DETENTION',\n",
       "              'KIDNAPPING',\n",
       "              'UNLAWFUL INTERFERE/VISITATION',\n",
       "              'UNLAWFUL RESTRAINT'},\n",
       "             'LIQUOR LAW VIOLATION': {'EMPLOY MINOR',\n",
       "              'ILLEGAL CONSUMPTION BY MINOR',\n",
       "              'ILLEGAL POSSESSION BY MINOR',\n",
       "              'LIQUOR LICENSE VIOLATION',\n",
       "              'MINOR MISREPRESENT AGE',\n",
       "              'SELL/GIVE/DEL LIQUOR TO MINOR'},\n",
       "             'MOTOR VEHICLE THEFT': {'ATT: AUTOMOBILE',\n",
       "              'ATT: TRUCK, BUS, MOTOR HOME',\n",
       "              'ATTEMPT: CYCLE, SCOOTER, BIKE NO VIN',\n",
       "              'ATTEMPT: CYCLE, SCOOTER, BIKE W-VIN',\n",
       "              'AUTOMOBILE',\n",
       "              'CYCLE, SCOOTER, BIKE NO VIN',\n",
       "              'CYCLE, SCOOTER, BIKE W-VIN',\n",
       "              'THEFT/RECOVERY: AUTOMOBILE',\n",
       "              'THEFT/RECOVERY: CYCLE, SCOOTER, BIKE NO VIN',\n",
       "              'THEFT/RECOVERY: CYCLE, SCOOTER, BIKE W-VIN',\n",
       "              'THEFT/RECOVERY: TRUCK,BUS,MHOME',\n",
       "              'TRUCK, BUS, MOTOR HOME'},\n",
       "             'NARCOTICS': {'ALTER/FORGE PRESCRIPTION',\n",
       "              'ATTEMPT POSSESSION CANNABIS',\n",
       "              'ATTEMPT POSSESSION NARCOTICS',\n",
       "              'CALCULATED CANNABIS CONSPIRACY',\n",
       "              'CANNABIS PLANT',\n",
       "              'CONT SUBS:FAIL TO MAINT RECORD',\n",
       "              'CRIMINAL DRUG CONSPIRACY',\n",
       "              'DEL CONT SUBS TO PERSON <18',\n",
       "              'DELIVER CANNABIS TO PERSON <18',\n",
       "              'FAIL REGISTER LIC:CONT SUBS',\n",
       "              'FAILURE TO KEEP HYPO RECORDS',\n",
       "              'FORFEIT PROPERTY',\n",
       "              'FOUND SUSPECT NARCOTICS',\n",
       "              'MANU/DEL:CANNABIS 10GM OR LESS',\n",
       "              'MANU/DEL:CANNABIS OVER 10 GMS',\n",
       "              'MANU/DELIVER: HALLUCINOGEN',\n",
       "              'MANU/DELIVER: HEROIN (WHITE)',\n",
       "              'MANU/DELIVER: HEROIN(BRN/TAN)',\n",
       "              'MANU/DELIVER: METHAMPHETAMINES',\n",
       "              'MANU/DELIVER:AMPHETAMINES',\n",
       "              'MANU/DELIVER:BARBITUATES',\n",
       "              'MANU/DELIVER:COCAINE',\n",
       "              'MANU/DELIVER:CRACK',\n",
       "              'MANU/DELIVER:HEROIN(BLACK TAR)',\n",
       "              'MANU/DELIVER:LOOK-ALIKE DRUG',\n",
       "              'MANU/DELIVER:PCP',\n",
       "              'MANU/DELIVER:SYNTHETIC DRUGS',\n",
       "              'MANU/POSS. W/INTENT TO DELIVER: SYNTHETIC MARIJUANA',\n",
       "              'POS: HYPODERMIC NEEDLE',\n",
       "              'POSS: AMPHETAMINES',\n",
       "              'POSS: BARBITUATES',\n",
       "              'POSS: CANNABIS 30GMS OR LESS',\n",
       "              'POSS: CANNABIS MORE THAN 30GMS',\n",
       "              'POSS: COCAINE',\n",
       "              'POSS: CRACK',\n",
       "              'POSS: HALLUCINOGENS',\n",
       "              'POSS: HEROIN(BLACK TAR)',\n",
       "              'POSS: HEROIN(BRN/TAN)',\n",
       "              'POSS: HEROIN(WHITE)',\n",
       "              'POSS: LOOK-ALIKE DRUGS',\n",
       "              'POSS: METHAMPHETAMINES',\n",
       "              'POSS: PCP',\n",
       "              'POSS: SYNTHETIC DRUGS',\n",
       "              'POSSESSION OF DRUG EQUIPMENT',\n",
       "              'POSSESSION: SYNTHETIC MARIJUANA',\n",
       "              'SALE/DEL DRUG PARAPHERNALIA',\n",
       "              'SALE/DEL HYPODERMIC NEEDLE',\n",
       "              'SOLICIT NARCOTICS ON PUBLICWAY'},\n",
       "             'NON - CRIMINAL': {'FOID - REVOCATION'},\n",
       "             'NON-CRIMINAL': {'FOUND PASSPORT', 'LOST PASSPORT'},\n",
       "             'NON-CRIMINAL (SUBJECT SPECIFIED)': {'NOTIFICATION OF CIVIL NO CONTACT ORDER'},\n",
       "             'OBSCENITY': {'OBSCENE MATTER',\n",
       "              'OBSCENITY',\n",
       "              'SALE/DIST OBSCENE MAT TO MINOR'},\n",
       "             'OFFENSE INVOLVING CHILDREN': {'AGG CRIM SEX ABUSE FAM MEMBER',\n",
       "              'AGG SEX ASSLT OF CHILD FAM MBR',\n",
       "              'CHILD ABANDONMENT',\n",
       "              'CHILD ABDUCTION',\n",
       "              'CHILD ABUSE',\n",
       "              'CHILD PORNOGRAPHY',\n",
       "              'CONTRIBUTE CRIM DELINQUENCY JUVENILE',\n",
       "              'CONTRIBUTE DELINQUENCY OF A CHILD',\n",
       "              'CRIM SEX ABUSE BY FAM MEMBER',\n",
       "              'ENDANGERING LIFE/HEALTH CHILD',\n",
       "              'HARBOR RUNAWAY',\n",
       "              'OTHER OFFENSE',\n",
       "              'POS: PORNOGRAPHIC PRINT',\n",
       "              'SALE TOBACCO PRODUCTS TO MINOR',\n",
       "              'SEX ASSLT OF CHILD BY FAM MBR'},\n",
       "             'OFFENSES INVOLVING CHILDREN': {'CHILD ABANDONMENT',\n",
       "              'CONTRIBUTE CRIM DELINQUENCY JUVENILE',\n",
       "              'SALE TOBACCO PRODUCTS TO MINOR'},\n",
       "             'OTHER NARCOTIC VIOLATION': {'INTOXICATING COMPOUNDS'},\n",
       "             'OTHER OFFENSE': {'ABUSE/NEGLECT: CARE FACILITY',\n",
       "              'ANIMAL ABUSE/NEGLECT',\n",
       "              'ANIMAL FIGHTING',\n",
       "              'BOARD PLANE WITH WEAPON',\n",
       "              'COMPOUNDING A CRIME',\n",
       "              'DISCLOSE DV VICTIM LOCATION',\n",
       "              'EAVESDROPPING',\n",
       "              'FALSE/STOLEN/ALTERED TRP',\n",
       "              'FIREARM REGISTRATION VIOLATION',\n",
       "              'GUN OFFENDER: ANNUAL REGISTRATION',\n",
       "              'GUN OFFENDER: DUTY TO REGISTER',\n",
       "              'GUN OFFENDER: DUTY TO REPORT CHANGE OF INFORMATION',\n",
       "              'HARASSMENT BY ELECTRONIC MEANS',\n",
       "              'HARASSMENT BY TELEPHONE',\n",
       "              'HAZARDOUS MATERIALS VIOLATION',\n",
       "              'INTERFERE W/ HIGHER EDUCATION',\n",
       "              'LICENSE VIOLATION',\n",
       "              'MONEY LAUNDERING',\n",
       "              'OBSCENE TELEPHONE CALLS',\n",
       "              'OTHER ARSON/EXPLOSIVE INCIDENT',\n",
       "              'OTHER CRIME AGAINST PERSON',\n",
       "              'OTHER CRIME INVOLVING PROPERTY',\n",
       "              'OTHER VEHICLE OFFENSE',\n",
       "              'OTHER WEAPONS VIOLATION',\n",
       "              'PAROLE VIOLATION',\n",
       "              'POSSESSION OF BURGLARY TOOLS',\n",
       "              'PROBATION VIOLATION',\n",
       "              'SEX OFFENDER: FAIL REG NEW ADD',\n",
       "              'SEX OFFENDER: FAIL TO REGISTER',\n",
       "              'SEX OFFENDER: PROHIBITED ZONE',\n",
       "              'TAMPER WITH MOTOR VEHICLE',\n",
       "              'TELEPHONE THREAT',\n",
       "              'UNLAWFUL USE OF BODY ARMOR',\n",
       "              'VEHICLE TITLE/REG OFFENSE',\n",
       "              'VIO BAIL BOND: DOM VIOLENCE',\n",
       "              'VIOLATE ORDER OF PROTECTION',\n",
       "              'VIOLATION GPS MONITORING DEVICE',\n",
       "              'VIOLATION OF SMOKING BAN',\n",
       "              'VIOLENT OFFENDER: ANNUAL REGISTRATION',\n",
       "              'VIOLENT OFFENDER: DUTY TO REGISTER'},\n",
       "             'OTHER OFFENSE ': {'VIOLATION GPS MONITORING DEVICE '},\n",
       "             'PROSTITUTION': {'CAB OPERATION',\n",
       "              'CALL OPERATION',\n",
       "              'IN TAVERN',\n",
       "              'JUVENILE PIMPING',\n",
       "              'KEEP PLACE OF JUV PROSTITUTION',\n",
       "              'KEEP PLACE OF PROSTITUTION',\n",
       "              'OTHER PROSTITUTION OFFENSE',\n",
       "              'PANDERING',\n",
       "              'PATRONIZE JUVENILE PROSTITUTE',\n",
       "              'PATRONIZING A PROSTITUTE',\n",
       "              'PIMPING',\n",
       "              'SOLICIT FOR BUSINESS',\n",
       "              'SOLICIT FOR PROSTITUTE',\n",
       "              'SOLICIT OFF PUBLIC WAY',\n",
       "              'SOLICIT ON PUBLIC WAY'},\n",
       "             'PUBLIC INDECENCY': {'LICENSED PREMISE'},\n",
       "             'PUBLIC PEACE VIOLATION': {'ARMED VIOLENCE',\n",
       "              'ARSON THREAT',\n",
       "              'BOMB THREAT',\n",
       "              'FALSE FIRE ALARM',\n",
       "              'FALSE POLICE REPORT',\n",
       "              'INTERFERE W/ EMERGENCY EQUIP',\n",
       "              'LOOTING',\n",
       "              'MOB ACTION',\n",
       "              'OTHER VIOLATION',\n",
       "              'PEEPING TOM',\n",
       "              'PUBLIC DEMONSTRATION',\n",
       "              'RECKLESS CONDUCT',\n",
       "              'SELL/ADVERTISE FIREWORKS'},\n",
       "             'RITUALISM': {'AGG RIT MUT: HANDS/FIST/FEET NO/MINOR INJURY',\n",
       "              'AGG RIT MUT: HANDS/FIST/FEET SERIOUS INJURY',\n",
       "              'AGG RITUAL MUT:HANDGUN',\n",
       "              'AGG RITUAL MUT:KNIFE/CUTTING I',\n",
       "              'AGG RITUAL MUT:OTH DANG WEAPON'},\n",
       "             'ROBBERY': {'AGGRAVATED',\n",
       "              'AGGRAVATED VEHICULAR HIJACKING',\n",
       "              'ARMED: HANDGUN',\n",
       "              'ARMED: OTHER DANGEROUS WEAPON',\n",
       "              'ARMED: OTHER FIREARM',\n",
       "              'ARMED:KNIFE/CUTTING INSTRUMENT',\n",
       "              'ATTEMPT: AGGRAVATED',\n",
       "              'ATTEMPT: ARMED-HANDGUN',\n",
       "              'ATTEMPT: ARMED-KNIFE/CUT INSTR',\n",
       "              'ATTEMPT: ARMED-OTHER DANG WEAP',\n",
       "              'ATTEMPT: ARMED-OTHER FIREARM',\n",
       "              'ATTEMPT: STRONGARM-NO WEAPON',\n",
       "              'STRONGARM - NO WEAPON',\n",
       "              'VEHICULAR HIJACKING'},\n",
       "             'SEX OFFENSE': {'ADULTRY',\n",
       "              'AGG CRIMINAL SEXUAL ABUSE',\n",
       "              'ATT AGG CRIM SEXUAL ABUSE',\n",
       "              'ATT AGG CRIMINAL SEXUAL ABUSE',\n",
       "              'ATT CRIM SEXUAL ABUSE',\n",
       "              'BIGAMY',\n",
       "              'CRIMINAL SEXUAL ABUSE',\n",
       "              'CRIMINAL TRANSMISSION OF HIV',\n",
       "              'FORNICATION',\n",
       "              'INDECENT SOLICITATION/ADULT',\n",
       "              'INDECENT SOLICITATION/CHILD',\n",
       "              'MARRYING A BIGAMIST',\n",
       "              'OTHER',\n",
       "              'PUBLIC INDECENCY',\n",
       "              'SEX RELATION IN FAMILY',\n",
       "              'SEXUAL EXPLOITATION OF A CHILD'},\n",
       "             'STALKING': {'AGGRAVATED',\n",
       "              'CYBERSTALKING',\n",
       "              'SIMPLE',\n",
       "              'VIOLATION OF STALKING NO CONTACT ORDER'},\n",
       "             'THEFT': {'$300 AND UNDER',\n",
       "              '$500 AND UNDER',\n",
       "              'AGG: FINANCIAL ID THEFT',\n",
       "              'ATTEMPT FINANCIAL IDENTITY THEFT',\n",
       "              'ATTEMPT THEFT',\n",
       "              'DELIVERY CONTAINER THEFT',\n",
       "              'FINANCIAL ID THEFT: OVER $300',\n",
       "              'FINANCIAL ID THEFT:$300 &UNDER',\n",
       "              'FROM BUILDING',\n",
       "              'FROM COIN-OP MACHINE/DEVICE',\n",
       "              'OVER $300',\n",
       "              'OVER $500',\n",
       "              'POCKET-PICKING',\n",
       "              'PURSE-SNATCHING',\n",
       "              'RETAIL THEFT'},\n",
       "             'WEAPONS VIOLATION': {'DEFACE IDENT MARKS OF FIREARM',\n",
       "              'POS: FIREARM AT SCHOOL',\n",
       "              'POSS FIREARM/AMMO:NO FOID CARD',\n",
       "              'RECKLESS FIREARM DISCHARGE',\n",
       "              'REGISTER OF SALES BY DEALER',\n",
       "              'UNLAWFUL POSS AMMUNITION',\n",
       "              'UNLAWFUL POSS OF HANDGUN',\n",
       "              'UNLAWFUL POSS OTHER FIREARM',\n",
       "              'UNLAWFUL SALE HANDGUN',\n",
       "              'UNLAWFUL SALE OTHER FIREARM',\n",
       "              'UNLAWFUL SALE/DELIVERY OF FIREARM AT SCHOOL',\n",
       "              'UNLAWFUL USE HANDGUN',\n",
       "              'UNLAWFUL USE OTHER DANG WEAPON',\n",
       "              'UNLAWFUL USE OTHER FIREARM',\n",
       "              'UNLAWFUL USE/SALE AIR RIFLE',\n",
       "              'USE OF METAL PIERCING BULLETS'}})"
      ]
     },
     "execution_count": 67,
     "metadata": {},
     "output_type": "execute_result"
    }
   ],
   "source": [
    "types = collections.defaultdict(set)\n",
    "type_index = header.index('Primary Type')\n",
    "desc_index = header.index('Description')\n",
    "for row in gen_data():\n",
    "    types[row[type_index]].add(row[desc_index])\n",
    "types"
   ]
  },
  {
   "cell_type": "markdown",
   "metadata": {},
   "source": [
    "# Locations"
   ]
  },
  {
   "cell_type": "code",
   "execution_count": 6,
   "metadata": {
    "collapsed": false
   },
   "outputs": [
    {
     "name": "stdout",
     "output_type": "stream",
     "text": [
      "174\n"
     ]
    },
    {
     "data": {
      "text/plain": [
       "{'',\n",
       " 'ABANDONED BUILDING',\n",
       " 'AIRCRAFT',\n",
       " 'AIRPORT BUILDING NON-TERMINAL - NON-SECURE AREA',\n",
       " 'AIRPORT BUILDING NON-TERMINAL - SECURE AREA',\n",
       " 'AIRPORT EXTERIOR - NON-SECURE AREA',\n",
       " 'AIRPORT EXTERIOR - SECURE AREA',\n",
       " 'AIRPORT PARKING LOT',\n",
       " 'AIRPORT TERMINAL LOWER LEVEL - NON-SECURE AREA',\n",
       " 'AIRPORT TERMINAL LOWER LEVEL - SECURE AREA',\n",
       " 'AIRPORT TERMINAL MEZZANINE - NON-SECURE AREA',\n",
       " 'AIRPORT TERMINAL UPPER LEVEL - NON-SECURE AREA',\n",
       " 'AIRPORT TERMINAL UPPER LEVEL - SECURE AREA',\n",
       " 'AIRPORT TRANSPORTATION SYSTEM (ATS)',\n",
       " 'AIRPORT VENDING ESTABLISHMENT',\n",
       " 'AIRPORT/AIRCRAFT',\n",
       " 'ALLEY',\n",
       " 'ANIMAL HOSPITAL',\n",
       " 'APARTMENT',\n",
       " 'APPLIANCE STORE',\n",
       " 'ATHLETIC CLUB',\n",
       " 'ATM (AUTOMATIC TELLER MACHINE)',\n",
       " 'AUTO',\n",
       " 'AUTO / BOAT / RV DEALERSHIP',\n",
       " 'BANK',\n",
       " 'BANQUET HALL',\n",
       " 'BAR OR TAVERN',\n",
       " 'BARBER SHOP/BEAUTY SALON',\n",
       " 'BARBERSHOP',\n",
       " 'BASEMENT',\n",
       " 'BOAT/WATERCRAFT',\n",
       " 'BOWLING ALLEY',\n",
       " 'BRIDGE',\n",
       " 'CAR WASH',\n",
       " 'CEMETARY',\n",
       " 'CHA APARTMENT',\n",
       " 'CHA BREEZEWAY',\n",
       " 'CHA ELEVATOR',\n",
       " 'CHA GROUNDS',\n",
       " 'CHA HALLWAY',\n",
       " 'CHA HALLWAY/STAIRWELL/ELEVATOR',\n",
       " 'CHA LOBBY',\n",
       " 'CHA PARKING LOT',\n",
       " 'CHA PARKING LOT/GROUNDS',\n",
       " 'CHA PLAY LOT',\n",
       " 'CHA STAIRWELL',\n",
       " 'CHURCH',\n",
       " 'CHURCH PROPERTY',\n",
       " 'CHURCH/SYNAGOGUE/PLACE OF WORSHIP',\n",
       " 'CLEANERS/LAUNDROMAT',\n",
       " 'CLEANING STORE',\n",
       " 'CLUB',\n",
       " 'COACH HOUSE',\n",
       " 'COIN OPERATED MACHINE',\n",
       " 'COLLEGE/UNIVERSITY GROUNDS',\n",
       " 'COLLEGE/UNIVERSITY RESIDENCE HALL',\n",
       " 'COMMERCIAL / BUSINESS OFFICE',\n",
       " 'CONSTRUCTION SITE',\n",
       " 'CONVENIENCE STORE',\n",
       " 'COUNTY JAIL',\n",
       " 'CREDIT UNION',\n",
       " 'CTA \"L\" PLATFORM',\n",
       " 'CTA \"L\" TRAIN',\n",
       " 'CTA BUS',\n",
       " 'CTA BUS STOP',\n",
       " 'CTA GARAGE / OTHER PROPERTY',\n",
       " 'CTA PLATFORM',\n",
       " 'CTA PROPERTY',\n",
       " 'CTA STATION',\n",
       " 'CTA TRACKS - RIGHT OF WAY',\n",
       " 'CTA TRAIN',\n",
       " 'CURRENCY EXCHANGE',\n",
       " 'DAY CARE CENTER',\n",
       " 'DELIVERY TRUCK',\n",
       " 'DEPARTMENT STORE',\n",
       " 'DRIVEWAY',\n",
       " 'DRIVEWAY - RESIDENTIAL',\n",
       " 'DRUG STORE',\n",
       " 'DUMPSTER',\n",
       " 'ELEVATOR',\n",
       " 'EXPRESSWAY EMBANKMENT',\n",
       " 'FACTORY',\n",
       " 'FACTORY/MANUFACTURING BUILDING',\n",
       " 'FEDERAL BUILDING',\n",
       " 'FIRE STATION',\n",
       " 'FOREST PRESERVE',\n",
       " 'FUNERAL PARLOR',\n",
       " 'GANGWAY',\n",
       " 'GARAGE',\n",
       " 'GARAGE/AUTO REPAIR',\n",
       " 'GAS STATION',\n",
       " 'GAS STATION DRIVE/PROP.',\n",
       " 'GOVERNMENT BUILDING',\n",
       " 'GOVERNMENT BUILDING/PROPERTY',\n",
       " 'GROCERY FOOD STORE',\n",
       " 'HALLWAY',\n",
       " 'HIGHWAY/EXPRESSWAY',\n",
       " 'HOSPITAL',\n",
       " 'HOSPITAL BUILDING/GROUNDS',\n",
       " 'HOTEL',\n",
       " 'HOTEL/MOTEL',\n",
       " 'HOUSE',\n",
       " 'JAIL / LOCK-UP FACILITY',\n",
       " 'JUNK YARD/GARBAGE DUMP',\n",
       " 'LAGOON',\n",
       " 'LAKE',\n",
       " 'LAKEFRONT/WATERFRONT/RIVERBANK',\n",
       " 'LAUNDRY ROOM',\n",
       " 'LIBRARY',\n",
       " 'LIQUOR STORE',\n",
       " 'LIVERY AUTO',\n",
       " 'LIVERY STAND OFFICE',\n",
       " 'LOADING DOCK',\n",
       " 'MEDICAL/DENTAL OFFICE',\n",
       " 'MOTEL',\n",
       " 'MOVIE HOUSE/THEATER',\n",
       " 'NEWSSTAND',\n",
       " 'NURSING HOME',\n",
       " 'NURSING HOME/RETIREMENT HOME',\n",
       " 'OFFICE',\n",
       " 'OTHER',\n",
       " 'OTHER COMMERCIAL TRANSPORTATION',\n",
       " 'OTHER RAILROAD PROP / TRAIN DEPOT',\n",
       " 'PARK PROPERTY',\n",
       " 'PARKING LOT',\n",
       " 'PARKING LOT/GARAGE(NON.RESID.)',\n",
       " 'PAWN SHOP',\n",
       " 'POLICE FACILITY/VEH PARKING LOT',\n",
       " 'POOL ROOM',\n",
       " 'POOLROOM',\n",
       " 'PORCH',\n",
       " 'PRAIRIE',\n",
       " 'PUBLIC GRAMMAR SCHOOL',\n",
       " 'PUBLIC HIGH SCHOOL',\n",
       " 'RAILROAD PROPERTY',\n",
       " 'RESIDENCE',\n",
       " 'RESIDENCE PORCH/HALLWAY',\n",
       " 'RESIDENCE-GARAGE',\n",
       " 'RESIDENTIAL YARD (FRONT/BACK)',\n",
       " 'RESTAURANT',\n",
       " 'RETAIL STORE',\n",
       " 'RIVER',\n",
       " 'RIVER BANK',\n",
       " 'ROOMING HOUSE',\n",
       " 'SAVINGS AND LOAN',\n",
       " 'SCHOOL YARD',\n",
       " 'SCHOOL, PRIVATE, BUILDING',\n",
       " 'SCHOOL, PRIVATE, GROUNDS',\n",
       " 'SCHOOL, PUBLIC, BUILDING',\n",
       " 'SCHOOL, PUBLIC, GROUNDS',\n",
       " 'SEWER',\n",
       " 'SIDEWALK',\n",
       " 'SMALL RETAIL STORE',\n",
       " 'SPORTS ARENA/STADIUM',\n",
       " 'STAIRWELL',\n",
       " 'STREET',\n",
       " 'TAVERN',\n",
       " 'TAVERN/LIQUOR STORE',\n",
       " 'TAXI CAB',\n",
       " 'TAXICAB',\n",
       " 'TRAILER',\n",
       " 'TRUCK',\n",
       " 'TRUCKING TERMINAL',\n",
       " 'VACANT LOT',\n",
       " 'VACANT LOT/LAND',\n",
       " 'VEHICLE - DELIVERY TRUCK',\n",
       " 'VEHICLE - OTHER RIDE SERVICE',\n",
       " 'VEHICLE NON-COMMERCIAL',\n",
       " 'VEHICLE-COMMERCIAL',\n",
       " 'VESTIBULE',\n",
       " 'WAREHOUSE',\n",
       " 'WOODED AREA',\n",
       " 'YARD',\n",
       " 'YMCA'}"
      ]
     },
     "execution_count": 6,
     "metadata": {},
     "output_type": "execute_result"
    }
   ],
   "source": [
    "index = header.index('Location Description')\n",
    "locations = set(row[index] for row in gen_data())\n",
    "print(len(locations))\n",
    "locations"
   ]
  },
  {
   "cell_type": "markdown",
   "metadata": {},
   "source": [
    "# Geocoding\n",
    "\n",
    "- `Location` is just `Latitude` and `Longitude` combined\n",
    "- http://spatialreference.org/ref/epsg/2790/\n",
    "- Agrees exactly with X/Y coords if we use the US Survey foot."
   ]
  },
  {
   "cell_type": "code",
   "execution_count": 69,
   "metadata": {
    "collapsed": false
   },
   "outputs": [
    {
     "data": {
      "text/plain": [
       "43252"
      ]
     },
     "execution_count": 69,
     "metadata": {},
     "output_type": "execute_result"
    }
   ],
   "source": [
    "lat_index = header.index('Latitude')\n",
    "lon_index = header.index('Longitude')\n",
    "location_index = header.index('Location')\n",
    "no_location_count = 0\n",
    "for row in gen_data():\n",
    "    lat, lon = row[lat_index], row[lon_index]\n",
    "    location = row[location_index]\n",
    "    empty_count = sum(x == \"\" for x in [lat, lon, location])\n",
    "    if empty_count == 3:\n",
    "        no_location_count += 1\n",
    "        continue\n",
    "    assert empty_count == 0\n",
    "    assert location[0] == \"(\" and location[-1] == \")\"\n",
    "    location = [x.strip() for x in location[1:-1].split(\",\")]\n",
    "    assert len(location) == 2\n",
    "    assert location[0] == lat\n",
    "    assert location[1] == lon\n",
    "no_location_count"
   ]
  },
  {
   "cell_type": "code",
   "execution_count": 70,
   "metadata": {
    "collapsed": false
   },
   "outputs": [
    {
     "data": {
      "text/plain": [
       "((5492749,), dtype('float64'), (5492749,), dtype('int64'))"
      ]
     },
     "execution_count": 70,
     "metadata": {},
     "output_type": "execute_result"
    }
   ],
   "source": [
    "x_index = header.index('X Coordinate')\n",
    "y_index = header.index('Y Coordinate')\n",
    "longs, lats = [], []\n",
    "xcoords, ycoords = [], []\n",
    "for row in gen_data():\n",
    "    lat, lon = row[lat_index], row[lon_index]\n",
    "    x, y = row[x_index], row[y_index]\n",
    "    empty_count = sum(x == \"\" for x in [lat, lon, x, y])\n",
    "    if empty_count == 4:\n",
    "        continue\n",
    "    assert empty_count == 0\n",
    "    lat, lon = float(lat), float(lon)\n",
    "    assert x == str(int(x))\n",
    "    assert y == str(int(y))\n",
    "    longs.append(lon)\n",
    "    lats.append(lat)\n",
    "    xcoords.append(int(x))\n",
    "    ycoords.append(int(y))\n",
    "longs = np.asarray(longs)\n",
    "lats = np.asarray(lats)\n",
    "xcoords = np.asarray(xcoords)\n",
    "ycoords = np.asarray(ycoords)\n",
    "longs.shape, longs.dtype, xcoords.shape, xcoords.dtype"
   ]
  },
  {
   "cell_type": "code",
   "execution_count": 71,
   "metadata": {
    "collapsed": true
   },
   "outputs": [],
   "source": [
    "proj = pyproj.Proj({\"init\":\"epsg:2790\"})\n",
    "xcs, ycs = proj(longs, lats)"
   ]
  },
  {
   "cell_type": "code",
   "execution_count": 72,
   "metadata": {
    "collapsed": false
   },
   "outputs": [
    {
     "data": {
      "text/plain": [
       "(2.0, 4.0)"
      ]
     },
     "execution_count": 72,
     "metadata": {},
     "output_type": "execute_result"
    }
   ],
   "source": [
    "conversion = 0.3048\n",
    "xd = np.floor(xcs / conversion + 0.5) - xcoords\n",
    "yd = np.floor(ycs / conversion + 0.5) - ycoords\n",
    "np.max(np.abs(xd)), np.max(np.abs(yd))"
   ]
  },
  {
   "cell_type": "code",
   "execution_count": 73,
   "metadata": {
    "collapsed": false
   },
   "outputs": [
    {
     "data": {
      "text/plain": [
       "(0.0, 0.0)"
      ]
     },
     "execution_count": 73,
     "metadata": {},
     "output_type": "execute_result"
    }
   ],
   "source": [
    "conversion = 1200 / 3937\n",
    "xd = np.floor(xcs / conversion + 0.5) - xcoords\n",
    "yd = np.floor(ycs / conversion + 0.5) - ycoords\n",
    "np.max(np.abs(xd)), np.max(np.abs(yd))"
   ]
  },
  {
   "cell_type": "code",
   "execution_count": 74,
   "metadata": {
    "collapsed": false
   },
   "outputs": [
    {
     "data": {
      "text/plain": [
       "4.8213663914170217e-24"
      ]
     },
     "execution_count": 74,
     "metadata": {},
     "output_type": "execute_result"
    }
   ],
   "source": [
    "x, y = proj(xcoords * conversion, ycoords * conversion, inverse=True)\n",
    "diff = (x - longs)**2 + (y - lats)**2\n",
    "np.max(diff)"
   ]
  },
  {
   "cell_type": "markdown",
   "metadata": {},
   "source": [
    "# Timestamps"
   ]
  },
  {
   "cell_type": "code",
   "execution_count": 20,
   "metadata": {
    "collapsed": false
   },
   "outputs": [
    {
     "data": {
      "text/plain": [
       "0"
      ]
     },
     "execution_count": 20,
     "metadata": {},
     "output_type": "execute_result"
    }
   ],
   "source": [
    "fmt = \"%m/%d/%Y %I:%M:%S %p\"\n",
    "\n",
    "missing_date_count = 0\n",
    "date_index = header.index(\"Date\")\n",
    "dates = []\n",
    "for row in gen_data():\n",
    "    if row[date_index] == \"\":\n",
    "        missing_date_count += 1\n",
    "        continue\n",
    "    dates.append(datetime.datetime.strptime(row[date_index], fmt))\n",
    "missing_date_count"
   ]
  },
  {
   "cell_type": "code",
   "execution_count": 21,
   "metadata": {
    "collapsed": false
   },
   "outputs": [
    {
     "data": {
      "text/plain": [
       "(datetime.datetime(2001, 1, 1, 0, 0), datetime.datetime(2017, 8, 9, 23, 59))"
      ]
     },
     "execution_count": 21,
     "metadata": {},
     "output_type": "execute_result"
    }
   ],
   "source": [
    "min(dates), max(dates)"
   ]
  },
  {
   "cell_type": "code",
   "execution_count": 22,
   "metadata": {
    "collapsed": true
   },
   "outputs": [],
   "source": [
    "assert not all(dt.second==0 for dt in dates)"
   ]
  },
  {
   "cell_type": "markdown",
   "metadata": {},
   "source": [
    "# Use the library"
   ]
  },
  {
   "cell_type": "code",
   "execution_count": 4,
   "metadata": {
    "collapsed": true
   },
   "outputs": [],
   "source": [
    "import impute.chicago"
   ]
  },
  {
   "cell_type": "code",
   "execution_count": 5,
   "metadata": {
    "collapsed": false
   },
   "outputs": [
    {
     "data": {
      "text/plain": [
       "Row(id='5189091', crime_type='OFFENSE INVOLVING CHILDREN', crime_subtype='CHILD ABUSE', location='RESIDENCE', address='108XX S AVENUE G', datetime=datetime.datetime(2006, 10, 12, 10, 58), point=(-87.531655723, 41.698387427))"
      ]
     },
     "execution_count": 5,
     "metadata": {},
     "output_type": "execute_result"
    }
   ],
   "source": [
    "with lzma.open(filename, \"rt\", encoding=\"utf8\") as file:\n",
    "    row = next(impute.chicago.load(file))\n",
    "row"
   ]
  },
  {
   "cell_type": "code",
   "execution_count": 6,
   "metadata": {
    "collapsed": false
   },
   "outputs": [
    {
     "data": {
      "text/plain": [
       "6405860"
      ]
     },
     "execution_count": 6,
     "metadata": {},
     "output_type": "execute_result"
    }
   ],
   "source": [
    "count = 0\n",
    "with lzma.open(filename, \"rt\", encoding=\"utf8\") as file:\n",
    "    for row in impute.chicago.load(file):\n",
    "        count += 1\n",
    "count"
   ]
  },
  {
   "cell_type": "code",
   "execution_count": 7,
   "metadata": {
    "collapsed": true
   },
   "outputs": [],
   "source": [
    "def filter(row):\n",
    "    return row.crime_type.startswith(\"BURG\") and row.datetime >= datetime.datetime(2016,1,1)\n",
    "\n",
    "with lzma.open(filename, \"rt\", encoding=\"utf8\") as file:\n",
    "    frame = impute.chicago.to_geoframe(file, filter)"
   ]
  },
  {
   "cell_type": "code",
   "execution_count": 8,
   "metadata": {
    "collapsed": false
   },
   "outputs": [
    {
     "data": {
      "text/html": [
       "<div>\n",
       "<table border=\"1\" class=\"dataframe\">\n",
       "  <thead>\n",
       "    <tr style=\"text-align: right;\">\n",
       "      <th></th>\n",
       "      <th>id</th>\n",
       "      <th>crime_type</th>\n",
       "      <th>crime_subtype</th>\n",
       "      <th>location</th>\n",
       "      <th>address</th>\n",
       "      <th>datetime</th>\n",
       "      <th>geometry</th>\n",
       "    </tr>\n",
       "  </thead>\n",
       "  <tbody>\n",
       "    <tr>\n",
       "      <th>0</th>\n",
       "      <td>10511547</td>\n",
       "      <td>BURGLARY</td>\n",
       "      <td>FORCIBLE ENTRY</td>\n",
       "      <td>RESTAURANT</td>\n",
       "      <td>068XX N SHERIDAN RD</td>\n",
       "      <td>2016-05-05 00:50:00</td>\n",
       "      <td>POINT (-87.660994398 42.005849323)</td>\n",
       "    </tr>\n",
       "    <tr>\n",
       "      <th>1</th>\n",
       "      <td>10511583</td>\n",
       "      <td>BURGLARY</td>\n",
       "      <td>UNLAWFUL ENTRY</td>\n",
       "      <td>APARTMENT</td>\n",
       "      <td>014XX W LELAND AVE</td>\n",
       "      <td>2016-05-05 08:30:00</td>\n",
       "      <td>POINT (-87.665255481 41.967109706)</td>\n",
       "    </tr>\n",
       "    <tr>\n",
       "      <th>2</th>\n",
       "      <td>10511668</td>\n",
       "      <td>BURGLARY</td>\n",
       "      <td>UNLAWFUL ENTRY</td>\n",
       "      <td>APARTMENT</td>\n",
       "      <td>075XX S MAY ST</td>\n",
       "      <td>2016-05-05 07:45:00</td>\n",
       "      <td>POINT (-87.652689305 41.756801414)</td>\n",
       "    </tr>\n",
       "    <tr>\n",
       "      <th>3</th>\n",
       "      <td>10511676</td>\n",
       "      <td>BURGLARY</td>\n",
       "      <td>ATTEMPT FORCIBLE ENTRY</td>\n",
       "      <td>APARTMENT</td>\n",
       "      <td>052XX S JUSTINE ST</td>\n",
       "      <td>2016-05-05 08:20:00</td>\n",
       "      <td>POINT (-87.663496806 41.798797735)</td>\n",
       "    </tr>\n",
       "    <tr>\n",
       "      <th>4</th>\n",
       "      <td>10511681</td>\n",
       "      <td>BURGLARY</td>\n",
       "      <td>FORCIBLE ENTRY</td>\n",
       "      <td>APARTMENT</td>\n",
       "      <td>029XX N RACINE AVE</td>\n",
       "      <td>2016-05-05 19:15:00</td>\n",
       "      <td>POINT (-87.65881512199999 41.935549294)</td>\n",
       "    </tr>\n",
       "  </tbody>\n",
       "</table>\n",
       "</div>"
      ],
      "text/plain": [
       "         id crime_type           crime_subtype    location  \\\n",
       "0  10511547   BURGLARY          FORCIBLE ENTRY  RESTAURANT   \n",
       "1  10511583   BURGLARY          UNLAWFUL ENTRY   APARTMENT   \n",
       "2  10511668   BURGLARY          UNLAWFUL ENTRY   APARTMENT   \n",
       "3  10511676   BURGLARY  ATTEMPT FORCIBLE ENTRY   APARTMENT   \n",
       "4  10511681   BURGLARY          FORCIBLE ENTRY   APARTMENT   \n",
       "\n",
       "               address            datetime  \\\n",
       "0  068XX N SHERIDAN RD 2016-05-05 00:50:00   \n",
       "1   014XX W LELAND AVE 2016-05-05 08:30:00   \n",
       "2       075XX S MAY ST 2016-05-05 07:45:00   \n",
       "3   052XX S JUSTINE ST 2016-05-05 08:20:00   \n",
       "4   029XX N RACINE AVE 2016-05-05 19:15:00   \n",
       "\n",
       "                                  geometry  \n",
       "0       POINT (-87.660994398 42.005849323)  \n",
       "1       POINT (-87.665255481 41.967109706)  \n",
       "2       POINT (-87.652689305 41.756801414)  \n",
       "3       POINT (-87.663496806 41.798797735)  \n",
       "4  POINT (-87.65881512199999 41.935549294)  "
      ]
     },
     "execution_count": 8,
     "metadata": {},
     "output_type": "execute_result"
    }
   ],
   "source": [
    "frame.head()"
   ]
  },
  {
   "cell_type": "code",
   "execution_count": 9,
   "metadata": {
    "collapsed": false
   },
   "outputs": [
    {
     "data": {
      "text/plain": [
       "5536001"
      ]
     },
     "execution_count": 9,
     "metadata": {},
     "output_type": "execute_result"
    }
   ],
   "source": [
    "old_filename = os.path.join(datadir, \"chicago_all_old.csv\")\n",
    "count = 0\n",
    "for row in impute.chicago.load(old_filename):\n",
    "    count += 1\n",
    "count"
   ]
  },
  {
   "cell_type": "code",
   "execution_count": null,
   "metadata": {
    "collapsed": true
   },
   "outputs": [],
   "source": []
  }
 ],
 "metadata": {
  "kernelspec": {
   "display_name": "Python 3",
   "language": "python",
   "name": "python3"
  },
  "language_info": {
   "codemirror_mode": {
    "name": "ipython",
    "version": 3
   },
   "file_extension": ".py",
   "mimetype": "text/x-python",
   "name": "python",
   "nbconvert_exporter": "python",
   "pygments_lexer": "ipython3",
   "version": "3.6.0"
  }
 },
 "nbformat": 4,
 "nbformat_minor": 2
}
