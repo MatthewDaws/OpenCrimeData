{
 "cells": [
  {
   "cell_type": "code",
   "execution_count": 1,
   "metadata": {
    "collapsed": true
   },
   "outputs": [],
   "source": [
    "import sys, os\n",
    "sys.path.insert(0, os.path.abspath(os.path.join(\"..\")))"
   ]
  },
  {
   "cell_type": "markdown",
   "metadata": {},
   "source": [
    "# Pyproj issues\n",
    "\n",
    "Trying to work out why the hashes of my \"redistributed\" data were different between using my home PC running Windows 10, and an (old) office machine running Debian linux.\n",
    "\n",
    "These tests are performed on the same code and input data.  Running Anaconda Python 3.6.0 on Windows 10, and Anaconda Python 3.6.1 on Ubuntu in a virtual machine.\n",
    "\n",
    "- Same version of `pyproj`\n",
    "- The hashes below confirm that the same data is loaded\n",
    "- However, we see that the projected points are different.\n",
    "- After saving and reloading, we see that this is because of tiny differences in the numbers.\n",
    "- Also replicated on a native Ubuntu install of Python 3.5 (same version of `pyproj`)."
   ]
  },
  {
   "cell_type": "code",
   "execution_count": 2,
   "metadata": {
    "collapsed": false
   },
   "outputs": [
    {
     "data": {
      "text/plain": [
       "'1.9.5.1'"
      ]
     },
     "execution_count": 2,
     "metadata": {},
     "output_type": "execute_result"
    }
   ],
   "source": [
    "import os, bz2, hashlib, io, pickle\n",
    "import numpy as np\n",
    "import opencrimedata.san_francisco as sf\n",
    "import pyproj\n",
    "pyproj.__version__"
   ]
  },
  {
   "cell_type": "code",
   "execution_count": 5,
   "metadata": {
    "collapsed": false
   },
   "outputs": [
    {
     "data": {
      "text/plain": [
       "Row(category='NON-CRIMINAL', description='LOST PROPERTY', datetime=datetime.datetime(2015, 1, 19, 14, 0), block='18TH ST / VALENCIA ST', point=(-122.42158168137, 37.7617007179518), idd='15006027571000', incident='150060275')"
      ]
     },
     "execution_count": 5,
     "metadata": {},
     "output_type": "execute_result"
    }
   ],
   "source": [
    "#datadir = os.path.join(\"/media\", \"disk\", \"Data\")\n",
    "#datadir = os.path.join(\"..\", \"..\", \"..\", \"..\", \"Data\")\n",
    "#datadir = os.path.join(\"e:\\\\\", \"Data\")\n",
    "datadir = os.path.join(\"..\", \"..\", \"Downloads\")\n",
    "def gen():\n",
    "    filename = os.path.join(datadir, \"SF_Police_Department_Incidents.csv.bz2\")\n",
    "    with bz2.open(filename, \"rt\", encoding=\"UTF8\") as f:\n",
    "        yield from sf.load(f)\n",
    "\n",
    "next(gen())"
   ]
  },
  {
   "cell_type": "code",
   "execution_count": 6,
   "metadata": {
    "collapsed": true
   },
   "outputs": [],
   "source": [
    "proj = sf.projector()"
   ]
  },
  {
   "cell_type": "code",
   "execution_count": 7,
   "metadata": {
    "collapsed": true
   },
   "outputs": [],
   "source": [
    "points = np.asarray([row.point for row, _ in zip(gen(), range(10000))])\n",
    "xcs, ycs = proj(*points.T)\n",
    "ppoints = np.asarray([xcs, ycs]).T"
   ]
  },
  {
   "cell_type": "code",
   "execution_count": 8,
   "metadata": {
    "collapsed": true
   },
   "outputs": [],
   "source": [
    "def hash_array(ar):\n",
    "    with io.BytesIO() as f:\n",
    "        np.save(f, ar, allow_pickle=False)\n",
    "        out = f.getvalue()\n",
    "    msg = hashlib.sha256()\n",
    "    msg.update(out)\n",
    "    return msg.hexdigest()"
   ]
  },
  {
   "cell_type": "code",
   "execution_count": 15,
   "metadata": {
    "collapsed": false
   },
   "outputs": [
    {
     "data": {
      "text/plain": [
       "'39a2e5dc8eeb2e5d3fab8aaad5ae8fdfb52fdbb5f2de45b1d8584ca5a095eef2'"
      ]
     },
     "execution_count": 15,
     "metadata": {},
     "output_type": "execute_result"
    }
   ],
   "source": [
    "hash_array(points)"
   ]
  },
  {
   "cell_type": "code",
   "execution_count": 16,
   "metadata": {
    "collapsed": false
   },
   "outputs": [
    {
     "data": {
      "text/plain": [
       "'3faf28b8ac71960285499e82f35e2ab3ccadd1278689659fea351589f37a2b17'"
      ]
     },
     "execution_count": 16,
     "metadata": {},
     "output_type": "execute_result"
    }
   ],
   "source": [
    "hash_array(ppoints)"
   ]
  },
  {
   "cell_type": "code",
   "execution_count": null,
   "metadata": {
    "collapsed": true
   },
   "outputs": [],
   "source": [
    "with bz2.open(\"sf_proj_win.pic.bz2\", \"w\") as f:\n",
    "    pickle.dump(ppoints, f)"
   ]
  },
  {
   "cell_type": "markdown",
   "metadata": {},
   "source": [
    "# And on linux"
   ]
  },
  {
   "cell_type": "code",
   "execution_count": 9,
   "metadata": {
    "collapsed": false
   },
   "outputs": [
    {
     "data": {
      "text/plain": [
       "'39a2e5dc8eeb2e5d3fab8aaad5ae8fdfb52fdbb5f2de45b1d8584ca5a095eef2'"
      ]
     },
     "execution_count": 9,
     "metadata": {},
     "output_type": "execute_result"
    }
   ],
   "source": [
    "hash_array(points)"
   ]
  },
  {
   "cell_type": "code",
   "execution_count": 10,
   "metadata": {
    "collapsed": false
   },
   "outputs": [
    {
     "data": {
      "text/plain": [
       "'ac46917d55a7defb0db5986536d188810bd48541d954d9a685d7b0ec5fa2edbe'"
      ]
     },
     "execution_count": 10,
     "metadata": {},
     "output_type": "execute_result"
    }
   ],
   "source": [
    "hash_array(ppoints)"
   ]
  },
  {
   "cell_type": "code",
   "execution_count": 11,
   "metadata": {
    "collapsed": true
   },
   "outputs": [],
   "source": [
    "with bz2.open(\"sf_proj_linux.pic.bz2\", \"w\") as f:\n",
    "    pickle.dump(ppoints, f)"
   ]
  },
  {
   "cell_type": "markdown",
   "metadata": {},
   "source": [
    "# Compare"
   ]
  },
  {
   "cell_type": "code",
   "execution_count": 3,
   "metadata": {
    "collapsed": true
   },
   "outputs": [],
   "source": [
    "with bz2.open(\"sf_proj_win.pic.bz2\") as f:\n",
    "    win_pp = pickle.load(f)\n",
    "with bz2.open(\"sf_proj_linux.pic.bz2\") as f:\n",
    "    linux_pp = pickle.load(f)    "
   ]
  },
  {
   "cell_type": "code",
   "execution_count": 5,
   "metadata": {
    "collapsed": false
   },
   "outputs": [
    {
     "data": {
      "text/plain": [
       "array([[  0.00000000e+00,   1.39698386e-09],\n",
       "       [  0.00000000e+00,   1.39698386e-09],\n",
       "       [  0.00000000e+00,   1.39698386e-09],\n",
       "       ..., \n",
       "       [  0.00000000e+00,   0.00000000e+00],\n",
       "       [  0.00000000e+00,   0.00000000e+00],\n",
       "       [  0.00000000e+00,   0.00000000e+00]])"
      ]
     },
     "execution_count": 5,
     "metadata": {},
     "output_type": "execute_result"
    }
   ],
   "source": [
    "win_pp - linux_pp"
   ]
  },
  {
   "cell_type": "code",
   "execution_count": null,
   "metadata": {
    "collapsed": true
   },
   "outputs": [],
   "source": []
  }
 ],
 "metadata": {
  "kernelspec": {
   "display_name": "Python 3",
   "language": "python",
   "name": "python3"
  },
  "language_info": {
   "codemirror_mode": {
    "name": "ipython",
    "version": 3
   },
   "file_extension": ".py",
   "mimetype": "text/x-python",
   "name": "python",
   "nbconvert_exporter": "python",
   "pygments_lexer": "ipython3",
   "version": "3.6.0"
  }
 },
 "nbformat": 4,
 "nbformat_minor": 2
}
