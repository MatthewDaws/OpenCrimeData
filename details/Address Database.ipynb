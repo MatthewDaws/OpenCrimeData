{
 "cells": [
  {
   "cell_type": "code",
   "execution_count": 1,
   "metadata": {
    "collapsed": false
   },
   "outputs": [],
   "source": [
    "import os, sys\n",
    "sys.path.insert(0, os.path.abspath(os.path.join(\"..\")))"
   ]
  },
  {
   "cell_type": "markdown",
   "metadata": {},
   "source": [
    "# Open source address data\n",
    "\n",
    "Available from:\n",
    "\n",
    "http://results.openaddresses.io/"
   ]
  },
  {
   "cell_type": "code",
   "execution_count": 2,
   "metadata": {
    "collapsed": true
   },
   "outputs": [],
   "source": [
    "import os, zipfile, csv, io\n",
    "import pandas as pd\n",
    "import geopandas as gpd\n",
    "import shapely.geometry\n",
    "\n",
    "import impute.address as address"
   ]
  },
  {
   "cell_type": "markdown",
   "metadata": {},
   "source": [
    "## San Francisco"
   ]
  },
  {
   "cell_type": "code",
   "execution_count": 5,
   "metadata": {
    "collapsed": false
   },
   "outputs": [
    {
     "data": {
      "text/plain": [
       "['san_benito',\n",
       " 'santa_cruz',\n",
       " 'san_luis_obispo',\n",
       " 'san_francisco',\n",
       " 'santa_clara',\n",
       " 'san_diego',\n",
       " 'san_bernardino',\n",
       " 'san_joaquin',\n",
       " 'san_mateo',\n",
       " 'santa_barbara']"
      ]
     },
     "execution_count": 5,
     "metadata": {},
     "output_type": "execute_result"
    }
   ],
   "source": [
    "#datadir = os.path.join(\"/media\", \"disk\", \"Data\")\n",
    "datadir = os.path.abspath(os.path.join(\"..\", \"..\", \"..\", \"..\", \"Data\"))\n",
    "filename = os.path.join(datadir, \"openaddr-collected-us_west.zip\")\n",
    "[name for state, name in address.filenames(filename) if state == \"ca\" and name.startswith(\"san\")]"
   ]
  },
  {
   "cell_type": "code",
   "execution_count": 6,
   "metadata": {
    "collapsed": false
   },
   "outputs": [
    {
     "data": {
      "text/html": [
       "<div>\n",
       "<table border=\"1\" class=\"dataframe\">\n",
       "  <thead>\n",
       "    <tr style=\"text-align: right;\">\n",
       "      <th></th>\n",
       "      <th>street</th>\n",
       "      <th>number</th>\n",
       "      <th>unit</th>\n",
       "      <th>city</th>\n",
       "      <th>district</th>\n",
       "      <th>region</th>\n",
       "      <th>postcode</th>\n",
       "      <th>idd</th>\n",
       "      <th>hash</th>\n",
       "      <th>geometry</th>\n",
       "    </tr>\n",
       "  </thead>\n",
       "  <tbody>\n",
       "    <tr>\n",
       "      <th>0</th>\n",
       "      <td>04TH ST</td>\n",
       "      <td>1550</td>\n",
       "      <td></td>\n",
       "      <td></td>\n",
       "      <td></td>\n",
       "      <td></td>\n",
       "      <td>94158</td>\n",
       "      <td></td>\n",
       "      <td>440744266f56a9bf</td>\n",
       "      <td>POINT (-122.3912672 37.7690928)</td>\n",
       "    </tr>\n",
       "    <tr>\n",
       "      <th>1</th>\n",
       "      <td>04TH ST</td>\n",
       "      <td>1505</td>\n",
       "      <td></td>\n",
       "      <td></td>\n",
       "      <td></td>\n",
       "      <td></td>\n",
       "      <td>94158</td>\n",
       "      <td></td>\n",
       "      <td>f33f6b9db38d76de</td>\n",
       "      <td>POINT (-122.3908502 37.7694259)</td>\n",
       "    </tr>\n",
       "    <tr>\n",
       "      <th>2</th>\n",
       "      <td>04TH ST</td>\n",
       "      <td>1475</td>\n",
       "      <td></td>\n",
       "      <td></td>\n",
       "      <td></td>\n",
       "      <td></td>\n",
       "      <td>94158</td>\n",
       "      <td></td>\n",
       "      <td>dc0a2ae2da975762</td>\n",
       "      <td>POINT (-122.3910682 37.7706807)</td>\n",
       "    </tr>\n",
       "    <tr>\n",
       "      <th>3</th>\n",
       "      <td>BUCHANAN ST</td>\n",
       "      <td>1111</td>\n",
       "      <td></td>\n",
       "      <td></td>\n",
       "      <td></td>\n",
       "      <td></td>\n",
       "      <td>94115</td>\n",
       "      <td></td>\n",
       "      <td>2169e924bb27c37c</td>\n",
       "      <td>POINT (-122.4289542 37.7802883)</td>\n",
       "    </tr>\n",
       "    <tr>\n",
       "      <th>4</th>\n",
       "      <td>BUCHANAN ST</td>\n",
       "      <td>1160</td>\n",
       "      <td></td>\n",
       "      <td></td>\n",
       "      <td></td>\n",
       "      <td></td>\n",
       "      <td>94115</td>\n",
       "      <td></td>\n",
       "      <td>923925b8b1bfd184</td>\n",
       "      <td>POINT (-122.428577 37.7806267)</td>\n",
       "    </tr>\n",
       "  </tbody>\n",
       "</table>\n",
       "</div>"
      ],
      "text/plain": [
       "        street number unit city district region postcode idd  \\\n",
       "0      04TH ST   1550                              94158       \n",
       "1      04TH ST   1505                              94158       \n",
       "2      04TH ST   1475                              94158       \n",
       "3  BUCHANAN ST   1111                              94115       \n",
       "4  BUCHANAN ST   1160                              94115       \n",
       "\n",
       "               hash                         geometry  \n",
       "0  440744266f56a9bf  POINT (-122.3912672 37.7690928)  \n",
       "1  f33f6b9db38d76de  POINT (-122.3908502 37.7694259)  \n",
       "2  dc0a2ae2da975762  POINT (-122.3910682 37.7706807)  \n",
       "3  2169e924bb27c37c  POINT (-122.4289542 37.7802883)  \n",
       "4  923925b8b1bfd184   POINT (-122.428577 37.7806267)  "
      ]
     },
     "execution_count": 6,
     "metadata": {},
     "output_type": "execute_result"
    }
   ],
   "source": [
    "frame = address.read_to_geo_frame(filename, \"ca\", \"san_francisco\")\n",
    "frame.head()"
   ]
  },
  {
   "cell_type": "code",
   "execution_count": 7,
   "metadata": {
    "collapsed": false
   },
   "outputs": [
    {
     "data": {
      "text/html": [
       "<div>\n",
       "<table border=\"1\" class=\"dataframe\">\n",
       "  <thead>\n",
       "    <tr style=\"text-align: right;\">\n",
       "      <th></th>\n",
       "      <th>street</th>\n",
       "      <th>number</th>\n",
       "      <th>geometry</th>\n",
       "    </tr>\n",
       "  </thead>\n",
       "  <tbody>\n",
       "    <tr>\n",
       "      <th>0</th>\n",
       "      <td>04TH ST</td>\n",
       "      <td>1550</td>\n",
       "      <td>POINT (-122.3912672 37.7690928)</td>\n",
       "    </tr>\n",
       "    <tr>\n",
       "      <th>1</th>\n",
       "      <td>04TH ST</td>\n",
       "      <td>1505</td>\n",
       "      <td>POINT (-122.3908502 37.7694259)</td>\n",
       "    </tr>\n",
       "    <tr>\n",
       "      <th>2</th>\n",
       "      <td>04TH ST</td>\n",
       "      <td>1475</td>\n",
       "      <td>POINT (-122.3910682 37.7706807)</td>\n",
       "    </tr>\n",
       "    <tr>\n",
       "      <th>3</th>\n",
       "      <td>BUCHANAN ST</td>\n",
       "      <td>1111</td>\n",
       "      <td>POINT (-122.4289542 37.7802883)</td>\n",
       "    </tr>\n",
       "    <tr>\n",
       "      <th>4</th>\n",
       "      <td>BUCHANAN ST</td>\n",
       "      <td>1160</td>\n",
       "      <td>POINT (-122.428577 37.7806267)</td>\n",
       "    </tr>\n",
       "  </tbody>\n",
       "</table>\n",
       "</div>"
      ],
      "text/plain": [
       "        street number                         geometry\n",
       "0      04TH ST   1550  POINT (-122.3912672 37.7690928)\n",
       "1      04TH ST   1505  POINT (-122.3908502 37.7694259)\n",
       "2      04TH ST   1475  POINT (-122.3910682 37.7706807)\n",
       "3  BUCHANAN ST   1111  POINT (-122.4289542 37.7802883)\n",
       "4  BUCHANAN ST   1160   POINT (-122.428577 37.7806267)"
      ]
     },
     "execution_count": 7,
     "metadata": {},
     "output_type": "execute_result"
    }
   ],
   "source": [
    "frame = frame.drop([\"unit\", \"city\", \"district\", \"region\", \"postcode\", \"idd\", \"hash\"], axis=1)\n",
    "frame.head()"
   ]
  },
  {
   "cell_type": "code",
   "execution_count": 8,
   "metadata": {
    "collapsed": true
   },
   "outputs": [],
   "source": [
    "frame.to_file(\"san_francisco_addresses\")"
   ]
  },
  {
   "cell_type": "markdown",
   "metadata": {},
   "source": [
    "## Dallas"
   ]
  },
  {
   "cell_type": "code",
   "execution_count": 9,
   "metadata": {
    "collapsed": false
   },
   "outputs": [
    {
     "data": {
      "text/plain": [
       "['dallas']"
      ]
     },
     "execution_count": 9,
     "metadata": {},
     "output_type": "execute_result"
    }
   ],
   "source": [
    "filename = os.path.join(datadir, \"openaddr-collected-us_south.zip\")\n",
    "[name for state, name in address.filenames(filename) if state == \"tx\" and name.startswith(\"dallas\")]"
   ]
  },
  {
   "cell_type": "code",
   "execution_count": 10,
   "metadata": {
    "collapsed": false
   },
   "outputs": [
    {
     "data": {
      "text/html": [
       "<div>\n",
       "<table border=\"1\" class=\"dataframe\">\n",
       "  <thead>\n",
       "    <tr style=\"text-align: right;\">\n",
       "      <th></th>\n",
       "      <th>street</th>\n",
       "      <th>number</th>\n",
       "      <th>unit</th>\n",
       "      <th>city</th>\n",
       "      <th>district</th>\n",
       "      <th>region</th>\n",
       "      <th>postcode</th>\n",
       "      <th>idd</th>\n",
       "      <th>hash</th>\n",
       "      <th>geometry</th>\n",
       "    </tr>\n",
       "  </thead>\n",
       "  <tbody>\n",
       "    <tr>\n",
       "      <th>0</th>\n",
       "      <td></td>\n",
       "      <td></td>\n",
       "      <td></td>\n",
       "      <td></td>\n",
       "      <td>COLLIN COUNTY</td>\n",
       "      <td></td>\n",
       "      <td></td>\n",
       "      <td></td>\n",
       "      <td>9e61faffd7d3fea4</td>\n",
       "      <td>POINT (-96.8201038 33.0109558)</td>\n",
       "    </tr>\n",
       "    <tr>\n",
       "      <th>1</th>\n",
       "      <td></td>\n",
       "      <td></td>\n",
       "      <td></td>\n",
       "      <td></td>\n",
       "      <td>COLLIN COUNTY</td>\n",
       "      <td></td>\n",
       "      <td></td>\n",
       "      <td></td>\n",
       "      <td>765e66a8800205e3</td>\n",
       "      <td>POINT (-96.8335747 33.0221938)</td>\n",
       "    </tr>\n",
       "    <tr>\n",
       "      <th>2</th>\n",
       "      <td></td>\n",
       "      <td></td>\n",
       "      <td></td>\n",
       "      <td></td>\n",
       "      <td>COLLIN COUNTY</td>\n",
       "      <td></td>\n",
       "      <td></td>\n",
       "      <td></td>\n",
       "      <td>f5365da60d8eebb9</td>\n",
       "      <td>POINT (-96.8334097 33.0190284)</td>\n",
       "    </tr>\n",
       "    <tr>\n",
       "      <th>3</th>\n",
       "      <td></td>\n",
       "      <td></td>\n",
       "      <td></td>\n",
       "      <td></td>\n",
       "      <td>COLLIN COUNTY</td>\n",
       "      <td></td>\n",
       "      <td></td>\n",
       "      <td></td>\n",
       "      <td>fe7e651c8e266b8a</td>\n",
       "      <td>POINT (-96.7420401 32.9861107)</td>\n",
       "    </tr>\n",
       "    <tr>\n",
       "      <th>4</th>\n",
       "      <td></td>\n",
       "      <td></td>\n",
       "      <td></td>\n",
       "      <td></td>\n",
       "      <td>COLLIN COUNTY</td>\n",
       "      <td></td>\n",
       "      <td></td>\n",
       "      <td></td>\n",
       "      <td>d26456a2f75557df</td>\n",
       "      <td>POINT (-96.7417485 32.9861081)</td>\n",
       "    </tr>\n",
       "  </tbody>\n",
       "</table>\n",
       "</div>"
      ],
      "text/plain": [
       "  street number unit city       district region postcode idd  \\\n",
       "0                          COLLIN COUNTY                       \n",
       "1                          COLLIN COUNTY                       \n",
       "2                          COLLIN COUNTY                       \n",
       "3                          COLLIN COUNTY                       \n",
       "4                          COLLIN COUNTY                       \n",
       "\n",
       "               hash                        geometry  \n",
       "0  9e61faffd7d3fea4  POINT (-96.8201038 33.0109558)  \n",
       "1  765e66a8800205e3  POINT (-96.8335747 33.0221938)  \n",
       "2  f5365da60d8eebb9  POINT (-96.8334097 33.0190284)  \n",
       "3  fe7e651c8e266b8a  POINT (-96.7420401 32.9861107)  \n",
       "4  d26456a2f75557df  POINT (-96.7417485 32.9861081)  "
      ]
     },
     "execution_count": 10,
     "metadata": {},
     "output_type": "execute_result"
    }
   ],
   "source": [
    "frame = address.read_to_geo_frame(filename, \"tx\", \"dallas\")\n",
    "frame.head()"
   ]
  },
  {
   "cell_type": "code",
   "execution_count": 11,
   "metadata": {
    "collapsed": false
   },
   "outputs": [
    {
     "data": {
      "text/html": [
       "<div>\n",
       "<table border=\"1\" class=\"dataframe\">\n",
       "  <thead>\n",
       "    <tr style=\"text-align: right;\">\n",
       "      <th></th>\n",
       "      <th>street</th>\n",
       "      <th>number</th>\n",
       "      <th>geometry</th>\n",
       "    </tr>\n",
       "  </thead>\n",
       "  <tbody>\n",
       "    <tr>\n",
       "      <th>0</th>\n",
       "      <td></td>\n",
       "      <td></td>\n",
       "      <td>POINT (-96.8201038 33.0109558)</td>\n",
       "    </tr>\n",
       "    <tr>\n",
       "      <th>1</th>\n",
       "      <td></td>\n",
       "      <td></td>\n",
       "      <td>POINT (-96.8335747 33.0221938)</td>\n",
       "    </tr>\n",
       "    <tr>\n",
       "      <th>2</th>\n",
       "      <td></td>\n",
       "      <td></td>\n",
       "      <td>POINT (-96.8334097 33.0190284)</td>\n",
       "    </tr>\n",
       "    <tr>\n",
       "      <th>3</th>\n",
       "      <td></td>\n",
       "      <td></td>\n",
       "      <td>POINT (-96.7420401 32.9861107)</td>\n",
       "    </tr>\n",
       "    <tr>\n",
       "      <th>4</th>\n",
       "      <td></td>\n",
       "      <td></td>\n",
       "      <td>POINT (-96.7417485 32.9861081)</td>\n",
       "    </tr>\n",
       "  </tbody>\n",
       "</table>\n",
       "</div>"
      ],
      "text/plain": [
       "  street number                        geometry\n",
       "0                POINT (-96.8201038 33.0109558)\n",
       "1                POINT (-96.8335747 33.0221938)\n",
       "2                POINT (-96.8334097 33.0190284)\n",
       "3                POINT (-96.7420401 32.9861107)\n",
       "4                POINT (-96.7417485 32.9861081)"
      ]
     },
     "execution_count": 11,
     "metadata": {},
     "output_type": "execute_result"
    }
   ],
   "source": [
    "frame = frame.drop([\"unit\", \"city\", \"district\", \"region\", \"postcode\", \"idd\", \"hash\"], axis=1)\n",
    "frame.head()"
   ]
  },
  {
   "cell_type": "code",
   "execution_count": 12,
   "metadata": {
    "collapsed": true
   },
   "outputs": [],
   "source": [
    "frame.to_file(\"dallas_addresses\")"
   ]
  },
  {
   "cell_type": "markdown",
   "metadata": {},
   "source": [
    "## Chicago"
   ]
  },
  {
   "cell_type": "code",
   "execution_count": 13,
   "metadata": {
    "collapsed": false
   },
   "outputs": [
    {
     "data": {
      "text/plain": [
       "['cook']"
      ]
     },
     "execution_count": 13,
     "metadata": {},
     "output_type": "execute_result"
    }
   ],
   "source": [
    "filename = os.path.join(datadir, \"openaddr-collected-us_midwest.zip\")\n",
    "[name for state, name in address.filenames(filename) if state == \"il\" and name.startswith(\"cook\")]"
   ]
  },
  {
   "cell_type": "code",
   "execution_count": 14,
   "metadata": {
    "collapsed": false
   },
   "outputs": [
    {
     "data": {
      "text/html": [
       "<div>\n",
       "<table border=\"1\" class=\"dataframe\">\n",
       "  <thead>\n",
       "    <tr style=\"text-align: right;\">\n",
       "      <th></th>\n",
       "      <th>street</th>\n",
       "      <th>number</th>\n",
       "      <th>unit</th>\n",
       "      <th>city</th>\n",
       "      <th>district</th>\n",
       "      <th>region</th>\n",
       "      <th>postcode</th>\n",
       "      <th>idd</th>\n",
       "      <th>hash</th>\n",
       "      <th>geometry</th>\n",
       "    </tr>\n",
       "  </thead>\n",
       "  <tbody>\n",
       "    <tr>\n",
       "      <th>0</th>\n",
       "      <td>WEST HIGGINS ROAD</td>\n",
       "      <td>4589</td>\n",
       "      <td></td>\n",
       "      <td>Hoffman Estates</td>\n",
       "      <td></td>\n",
       "      <td></td>\n",
       "      <td>60192</td>\n",
       "      <td></td>\n",
       "      <td>7e424765c7c8f0c0</td>\n",
       "      <td>POINT (-88.19043809999999 42.0741614)</td>\n",
       "    </tr>\n",
       "    <tr>\n",
       "      <th>1</th>\n",
       "      <td>SOUTH HOUGH STREET</td>\n",
       "      <td>125</td>\n",
       "      <td></td>\n",
       "      <td>Barrington</td>\n",
       "      <td></td>\n",
       "      <td></td>\n",
       "      <td>60010</td>\n",
       "      <td></td>\n",
       "      <td>099b736c8dfa0f1f</td>\n",
       "      <td>POINT (-88.1358051 42.1534529)</td>\n",
       "    </tr>\n",
       "    <tr>\n",
       "      <th>2</th>\n",
       "      <td>QUEENS COVE</td>\n",
       "      <td>104</td>\n",
       "      <td></td>\n",
       "      <td>Barrington</td>\n",
       "      <td></td>\n",
       "      <td></td>\n",
       "      <td>60010</td>\n",
       "      <td></td>\n",
       "      <td>a924636168daf4ed</td>\n",
       "      <td>POINT (-88.1226772 42.1474372)</td>\n",
       "    </tr>\n",
       "    <tr>\n",
       "      <th>3</th>\n",
       "      <td>WEST ALGONQUIN ROAD</td>\n",
       "      <td>1732</td>\n",
       "      <td></td>\n",
       "      <td>Hoffman Estates</td>\n",
       "      <td></td>\n",
       "      <td></td>\n",
       "      <td>60120</td>\n",
       "      <td></td>\n",
       "      <td>dc1563d64be36394</td>\n",
       "      <td>POINT (-88.1229055 42.0928783)</td>\n",
       "    </tr>\n",
       "    <tr>\n",
       "      <th>4</th>\n",
       "      <td>WEST ALGONQUIN ROAD</td>\n",
       "      <td>1736</td>\n",
       "      <td></td>\n",
       "      <td>Hoffman Estates</td>\n",
       "      <td></td>\n",
       "      <td></td>\n",
       "      <td>60120</td>\n",
       "      <td></td>\n",
       "      <td>9efa31fc81d103e7</td>\n",
       "      <td>POINT (-88.1230529 42.0928784)</td>\n",
       "    </tr>\n",
       "  </tbody>\n",
       "</table>\n",
       "</div>"
      ],
      "text/plain": [
       "                street number unit             city district region postcode  \\\n",
       "0    WEST HIGGINS ROAD   4589       Hoffman Estates                    60192   \n",
       "1   SOUTH HOUGH STREET    125            Barrington                    60010   \n",
       "2          QUEENS COVE    104            Barrington                    60010   \n",
       "3  WEST ALGONQUIN ROAD   1732       Hoffman Estates                    60120   \n",
       "4  WEST ALGONQUIN ROAD   1736       Hoffman Estates                    60120   \n",
       "\n",
       "  idd              hash                               geometry  \n",
       "0      7e424765c7c8f0c0  POINT (-88.19043809999999 42.0741614)  \n",
       "1      099b736c8dfa0f1f         POINT (-88.1358051 42.1534529)  \n",
       "2      a924636168daf4ed         POINT (-88.1226772 42.1474372)  \n",
       "3      dc1563d64be36394         POINT (-88.1229055 42.0928783)  \n",
       "4      9efa31fc81d103e7         POINT (-88.1230529 42.0928784)  "
      ]
     },
     "execution_count": 14,
     "metadata": {},
     "output_type": "execute_result"
    }
   ],
   "source": [
    "frame = address.read_to_geo_frame(filename, \"il\", \"cook\")\n",
    "frame.head()"
   ]
  },
  {
   "cell_type": "code",
   "execution_count": 15,
   "metadata": {
    "collapsed": false
   },
   "outputs": [
    {
     "data": {
      "text/plain": [
       "array(['Hoffman Estates', 'Barrington', 'Barrington Hills', 'Inverness',\n",
       "       'South Barrington', 'BARRINGTON TWP', 'SOUTH BARRINGTON',\n",
       "       'Palatine', 'Rolling Meadows', 'Schaumburg', 'Arlington Heights',\n",
       "       'Deer Park', 'PALATINE TWP', 'SCHAUMBURG', 'Prospect Heights',\n",
       "       'Mount Prospect', 'Wheeling', 'Des Plaines', 'Buffalo Grove',\n",
       "       'Glenview', 'Northbrook', 'WHEELING TWP', 'BUFFALO GROVE',\n",
       "       'ARLINGTON HEIGHTS', '', 'Northfield', 'Deerfield', 'Glencoe',\n",
       "       'Wilmette', 'NORTHFIELD TWP', 'NEW TRIER TWP', 'NORTHFIELD',\n",
       "       'NORTHBROOK', 'GLENVIEW', 'Winnetka', 'Kenilworth', 'Evanston',\n",
       "       'Elgin', 'Streamwood', 'Hanover Park', 'Bartlett', 'HANOVER TWP',\n",
       "       'Roselle', 'Elk Grove Village', 'SCHAUMBURG TWP', 'ELK GROVE TWP',\n",
       "       'MOUNT PROSPECT', 'ELK GROVE VILLAGE', 'Park Ridge', 'Chicago',\n",
       "       'Rosemont', 'Niles', 'Morton Grove', 'MAINE TWP', 'Skokie', 'Golf',\n",
       "       'Lincolnwood', 'EVANSTON', 'Franklin Park', 'Schiller Park',\n",
       "       'Norridge', 'Melrose Park', 'Elmwood Park', 'Northlake',\n",
       "       'River Grove', 'Harwood Heights', 'Bensenville', 'LEYDEN TWP',\n",
       "       'NORWOOD PARK TWP', 'MELROSE PARK', 'FRANKLIN PARK', 'BENSENVILLE',\n",
       "       'Westchester', 'Hillside', 'Stone Park', 'Maywood', 'Riverside',\n",
       "       'Bellwood', 'Berkeley', 'Broadview', 'Forest Park',\n",
       "       'La Grange Park', 'North Riverside', 'River Forest', 'Brookfield',\n",
       "       'Western Springs', 'Elmhurst', 'Oak Brook', 'Lyons', 'PROVISO TWP',\n",
       "       'HILLSIDE', 'PROVISIO TWP', 'RIVERSIDE TWP', 'Cicero', 'Berwyn',\n",
       "       'Oak Park', 'Stickney', 'Justice', 'Bridgeview', 'Hickory Hills',\n",
       "       'Bedford Park', 'Summit', 'Hodgkins', 'Mc Cook', 'Burr Ridge',\n",
       "       'La Grange', 'Willow Springs', 'Countryside', 'Indian Head Park',\n",
       "       'Hinsdale', 'COUNTRYSIDE', 'LYONS TWP', 'Forest View', 'Burbank',\n",
       "       'STICKNEY TWP', 'Lemont', 'LEMONT TWP', 'PALOS PARK', 'LEMONT',\n",
       "       'Palos Heights', 'Worth', 'Palos Park', 'Orland Park',\n",
       "       'Palos Hills', 'PALOS TWP', 'Hometown', 'Merrionette Park',\n",
       "       'Chicago Ridge', 'Oak Lawn', 'Evergreen Park', 'Alsip',\n",
       "       'Blue Island', 'Robbins', 'Crestwood', 'WORTH TWP', 'Calumet Park',\n",
       "       'Riverdale', 'CALUMET TWP', 'Tinley Park', 'Orland Hills',\n",
       "       'ORLAND TWP', 'ORLAND PARK', 'TINLEY PARK', 'Hazel Crest', 'Posen',\n",
       "       'Markham', 'Country Club Hills', 'Oak Forest', 'Midlothian',\n",
       "       'Harvey', 'Homewood', 'BREMEN TWP', 'COUNTRY CLUB HILLS',\n",
       "       'Calumet City', 'Lansing', 'South Holland', 'Dolton', 'Thornton',\n",
       "       'Glenwood', 'East Hazel Crest', 'Dixmoor', 'Burnham', 'Phoenix',\n",
       "       'THORNTON TWP', 'LANSING', 'Olympia Fields', 'Matteson',\n",
       "       'Park Forest', 'Richton Park', 'Flossmoor', 'University Park',\n",
       "       'RICH TWP', 'UNIVERSITY PARK', 'RICHTON PARK', 'Sauk Village',\n",
       "       'Chicago Heights', 'Steger', 'Ford Heights',\n",
       "       'South Chicago Heights', 'Lynwood', 'BLOOM TWP', 'SAUK VILLAGE',\n",
       "       'FORD HEIGHTS', 'LYNWOOD'], dtype=object)"
      ]
     },
     "execution_count": 15,
     "metadata": {},
     "output_type": "execute_result"
    }
   ],
   "source": [
    "frame.city.unique()"
   ]
  },
  {
   "cell_type": "code",
   "execution_count": 16,
   "metadata": {
    "collapsed": false
   },
   "outputs": [
    {
     "data": {
      "text/html": [
       "<div>\n",
       "<table border=\"1\" class=\"dataframe\">\n",
       "  <thead>\n",
       "    <tr style=\"text-align: right;\">\n",
       "      <th></th>\n",
       "      <th>street</th>\n",
       "      <th>number</th>\n",
       "      <th>geometry</th>\n",
       "    </tr>\n",
       "  </thead>\n",
       "  <tbody>\n",
       "    <tr>\n",
       "      <th>233417</th>\n",
       "      <td>NORTH OZARK AVENUE</td>\n",
       "      <td>7042</td>\n",
       "      <td>POINT (-87.8203129 42.0090399)</td>\n",
       "    </tr>\n",
       "    <tr>\n",
       "      <th>233418</th>\n",
       "      <td>NORTH OWEN AVENUE</td>\n",
       "      <td>6908</td>\n",
       "      <td>POINT (-87.81927779999999 42.0057771)</td>\n",
       "    </tr>\n",
       "    <tr>\n",
       "      <th>233419</th>\n",
       "      <td>NORTH OLCOTT AVENUE</td>\n",
       "      <td>6947</td>\n",
       "      <td>POINT (-87.8133717 42.0074941)</td>\n",
       "    </tr>\n",
       "    <tr>\n",
       "      <th>233430</th>\n",
       "      <td>NORTH ORIOLE AVENUE</td>\n",
       "      <td>7420</td>\n",
       "      <td>POINT (-87.8166382 42.0157598)</td>\n",
       "    </tr>\n",
       "    <tr>\n",
       "      <th>233431</th>\n",
       "      <td>NORTH OTTAWA AVENUE</td>\n",
       "      <td>7401</td>\n",
       "      <td>POINT (-87.8172162 42.0152357)</td>\n",
       "    </tr>\n",
       "  </tbody>\n",
       "</table>\n",
       "</div>"
      ],
      "text/plain": [
       "                     street number                               geometry\n",
       "233417   NORTH OZARK AVENUE   7042         POINT (-87.8203129 42.0090399)\n",
       "233418    NORTH OWEN AVENUE   6908  POINT (-87.81927779999999 42.0057771)\n",
       "233419  NORTH OLCOTT AVENUE   6947         POINT (-87.8133717 42.0074941)\n",
       "233430  NORTH ORIOLE AVENUE   7420         POINT (-87.8166382 42.0157598)\n",
       "233431  NORTH OTTAWA AVENUE   7401         POINT (-87.8172162 42.0152357)"
      ]
     },
     "execution_count": 16,
     "metadata": {},
     "output_type": "execute_result"
    }
   ],
   "source": [
    "frame = frame[frame.city.str.upper() == \"CHICAGO\"]\n",
    "frame = frame.drop([\"unit\", \"city\", \"district\", \"region\", \"postcode\", \"idd\", \"hash\"], axis=1)\n",
    "frame.head()"
   ]
  },
  {
   "cell_type": "code",
   "execution_count": 17,
   "metadata": {
    "collapsed": true
   },
   "outputs": [],
   "source": [
    "frame.to_file(\"chicago_addresses\")"
   ]
  },
  {
   "cell_type": "code",
   "execution_count": null,
   "metadata": {
    "collapsed": true
   },
   "outputs": [],
   "source": []
  }
 ],
 "metadata": {
  "kernelspec": {
   "display_name": "Python 3",
   "language": "python",
   "name": "python3"
  },
  "language_info": {
   "codemirror_mode": {
    "name": "ipython",
    "version": 3
   },
   "file_extension": ".py",
   "mimetype": "text/x-python",
   "name": "python",
   "nbconvert_exporter": "python",
   "pygments_lexer": "ipython3",
   "version": "3.6.0"
  }
 },
 "nbformat": 4,
 "nbformat_minor": 2
}
