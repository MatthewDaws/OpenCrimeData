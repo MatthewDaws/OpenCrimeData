{
 "cells": [
  {
   "cell_type": "code",
   "execution_count": 1,
   "metadata": {
    "collapsed": true
   },
   "outputs": [],
   "source": [
    "import sys, os\n",
    "sys.path.insert(0, os.path.abspath(\"..\"))"
   ]
  },
  {
   "cell_type": "markdown",
   "metadata": {},
   "source": [
    "# Dallas points onto the street network\n",
    "\n",
    "Explore how the longitude/latitude coordinates in the Dallas dataset match up to the street network.\n",
    "\n",
    "Answer: Very Well"
   ]
  },
  {
   "cell_type": "code",
   "execution_count": 2,
   "metadata": {
    "collapsed": true
   },
   "outputs": [],
   "source": [
    "%matplotlib inline\n",
    "import matplotlib.pyplot as plt\n",
    "import numpy as np\n",
    "import os, lzma\n",
    "import open_cp.geometry\n",
    "open_cp.geometry.configure_gdal()\n",
    "import pyproj\n",
    "proj = pyproj.Proj({\"init\":\"EPSG:2845\"})\n",
    "\n",
    "import impute.tiger_lines\n",
    "import impute.dallas\n",
    "import impute.voroni"
   ]
  },
  {
   "cell_type": "code",
   "execution_count": 35,
   "metadata": {
    "collapsed": false
   },
   "outputs": [],
   "source": [
    "datadir = os.path.join(\"..\", \"..\", \"..\", \"..\", \"Data\")\n",
    "tigerdir = os.path.join(datadir, \"TIGER Data\")"
   ]
  },
  {
   "cell_type": "code",
   "execution_count": 4,
   "metadata": {
    "collapsed": false
   },
   "outputs": [],
   "source": [
    "streets = impute.tiger_lines.TigerLines(\n",
    "    os.path.join(tigerdir, \"tl_2016_48113_roads__dallas_county\"),\n",
    "    os.path.join(tigerdir, \"tl_2016_48113_edges__dallas_county\"),\n",
    "    proj)"
   ]
  },
  {
   "cell_type": "code",
   "execution_count": 5,
   "metadata": {
    "collapsed": false
   },
   "outputs": [
    {
     "data": {
      "text/plain": [
       "(123322,\n",
       " Row(code='276285-2016', crime_type='BURGLARY', crime_subtype='BURGLARY-RESIDENCE', start_time=datetime.datetime(2016, 11, 16, 11, 0), end_time=datetime.datetime(2016, 11, 18, 11, 0), call_time=datetime.datetime(2016, 11, 18, 11, 42, 26), address='5850 BELT LINE RD', city='DALLAS 75254', lonlat=(-96.807131, 32.953948), xy=(758206.7262484236, 2144003.9338816064)))"
      ]
     },
     "execution_count": 5,
     "metadata": {},
     "output_type": "execute_result"
    }
   ],
   "source": [
    "filename = os.path.join(datadir, \"Dallas_11_Sept_2017.csv.xz\")\n",
    "with lzma.open(filename, \"rt\") as file:\n",
    "    data = [row for row in impute.dallas.load_full(file)\n",
    "            if row.lonlat is not None and row.xy is not None]\n",
    "len(data), data[0]"
   ]
  },
  {
   "cell_type": "code",
   "execution_count": 6,
   "metadata": {
    "collapsed": true
   },
   "outputs": [],
   "source": [
    "graph, edge_list = streets.make_reduced_graph()"
   ]
  },
  {
   "cell_type": "code",
   "execution_count": 7,
   "metadata": {
    "collapsed": true
   },
   "outputs": [],
   "source": [
    "segments = list(open_cp.network.segment_graph(graph))"
   ]
  },
  {
   "cell_type": "markdown",
   "metadata": {},
   "source": [
    "# Project points to street network"
   ]
  },
  {
   "cell_type": "code",
   "execution_count": 8,
   "metadata": {
    "collapsed": false
   },
   "outputs": [
    {
     "data": {
      "text/plain": [
       "Row(code='276019-2015', crime_type='THEFT', crime_subtype='THEFT/BMV', start_time=datetime.datetime(2015, 11, 27, 14, 0), end_time=datetime.datetime(2015, 11, 27, 14, 1), call_time=datetime.datetime(2015, 11, 27, 14, 4, 13), address='1000 ROSS AVE', city='DALLAS 75202', lonlat=(-96.804652, 32.782395), xy=(758807.9029683657, 2124985.733644078))"
      ]
     },
     "execution_count": 8,
     "metadata": {},
     "output_type": "execute_result"
    }
   ],
   "source": [
    "row = data[32]\n",
    "row"
   ]
  },
  {
   "cell_type": "code",
   "execution_count": 9,
   "metadata": {
    "collapsed": false
   },
   "outputs": [
    {
     "data": {
      "text/plain": [
       "((258223, 258218), 0.11018072371517347)"
      ]
     },
     "execution_count": 9,
     "metadata": {},
     "output_type": "execute_result"
    }
   ],
   "source": [
    "x,y = proj(*row.lonlat)\n",
    "\n",
    "edge, t = graph.project_point_to_graph(x, y)\n",
    "edge, t"
   ]
  },
  {
   "cell_type": "code",
   "execution_count": 10,
   "metadata": {
    "collapsed": false
   },
   "outputs": [
    {
     "data": {
      "text/plain": [
       "222907"
      ]
     },
     "execution_count": 10,
     "metadata": {},
     "output_type": "execute_result"
    }
   ],
   "source": [
    "edge_index, _ = graph.find_edge(*edge)\n",
    "edge_index"
   ]
  },
  {
   "cell_type": "code",
   "execution_count": 11,
   "metadata": {
    "collapsed": false
   },
   "outputs": [
    {
     "data": {
      "text/plain": [
       "(edge_noline(fullname='Ross Ave', left_address_from='1001', left_address_to='1099', right_address_from='1000', right_address_to='1098'),\n",
       " {'Ross Ave'})"
      ]
     },
     "execution_count": 11,
     "metadata": {},
     "output_type": "execute_result"
    }
   ],
   "source": [
    "names = streets.merged_names[ edge_list[edge_index] ]\n",
    "names"
   ]
  },
  {
   "cell_type": "code",
   "execution_count": 12,
   "metadata": {
    "collapsed": false,
    "scrolled": false
   },
   "outputs": [
    {
     "name": "stdout",
     "output_type": "stream",
     "text": [
      "319728 edge_noline(fullname='Ross Ave', left_address_from='1001', left_address_to='1099', right_address_from='1000', right_address_to='1098')\n"
     ]
    }
   ],
   "source": [
    "a = names[0]\n",
    "for i, (b, _) in enumerate(streets.merged_names):\n",
    "    if a == b:\n",
    "        print(i, b)"
   ]
  },
  {
   "cell_type": "code",
   "execution_count": 13,
   "metadata": {
    "collapsed": false
   },
   "outputs": [
    {
     "name": "stdout",
     "output_type": "stream",
     "text": [
      "244512 (edge_noline(fullname='Ross Ave', left_address_from='901', left_address_to='999', right_address_from='900', right_address_to='998'), {'Ross Ave'})\n",
      "244513 (edge_noline(fullname='Ross Ave', left_address_from='901', left_address_to='999', right_address_from='900', right_address_to='998'), {'Ross Ave'})\n",
      "319728 (edge_noline(fullname='Ross Ave', left_address_from='1001', left_address_to='1099', right_address_from='1000', right_address_to='1098'), {'Ross Ave'})\n"
     ]
    }
   ],
   "source": [
    "for seg in segments:\n",
    "    if edge_index in seg:\n",
    "        for idx in seg:\n",
    "            i = edge_list[idx]\n",
    "            print(i, streets.merged_names[i])"
   ]
  },
  {
   "cell_type": "markdown",
   "metadata": {},
   "source": [
    "Maybe merge along \"segments\" in the reduced graph (again...)\n",
    "\n",
    "Looks promising..."
   ]
  },
  {
   "cell_type": "code",
   "execution_count": 14,
   "metadata": {
    "collapsed": false
   },
   "outputs": [
    {
     "data": {
      "image/png": "[encoded data removed]",
      "text/plain": [
       "<matplotlib.figure.Figure at 0x13bbe425898>"
      ]
     },
     "metadata": {},
     "output_type": "display_data"
    }
   ],
   "source": [
    "fig, ax = plt.subplots(figsize=(8,8))\n",
    "\n",
    "for seg in segments:\n",
    "    if edge_index in seg:\n",
    "        v1, v2 = graph.edges[edge_index]\n",
    "        x1, y1 = graph.vertices[v1]\n",
    "        x2, y2 = graph.vertices[v2]\n",
    "        ax.plot([x1,x2], [y1,y2])\n",
    "        \n",
    "ax.scatter(x,y)\n",
    "ax.scatter(*row.xy)\n",
    "ax.set_aspect(1)"
   ]
  },
  {
   "cell_type": "markdown",
   "metadata": {},
   "source": [
    "So we get a map from `xy` (orange dot) to the line.\n",
    "\n",
    "Then, for \"new\" `xy` coords, want to pick the \"most likely\" line..."
   ]
  },
  {
   "cell_type": "markdown",
   "metadata": {},
   "source": [
    "## Voroni again\n",
    "\n",
    "We form a voroni diagram around the `xy` points.  Use a \"redistributor\" as it supports fast finding of containing polygons."
   ]
  },
  {
   "cell_type": "code",
   "execution_count": 26,
   "metadata": {
    "collapsed": true
   },
   "outputs": [],
   "source": [
    "moved_points = np.asarray([row.xy for row in data])\n",
    "voroni = impute.voroni.Voroni(moved_points)\n",
    "redist = voroni.to_redistributor(None)"
   ]
  },
  {
   "cell_type": "code",
   "execution_count": 33,
   "metadata": {
    "collapsed": false
   },
   "outputs": [
    {
     "data": {
      "text/plain": [
       "[28156]"
      ]
     },
     "execution_count": 33,
     "metadata": {},
     "output_type": "execute_result"
    }
   ],
   "source": [
    "redist.find_containing_polygon(*moved_points[0])"
   ]
  },
  {
   "cell_type": "markdown",
   "metadata": {},
   "source": [
    "So the complete procedure is this:\n",
    "\n",
    "- Look at each point where we have both a lon/lat coordinate, and an `xy` coordinate.\n",
    "- Find the \"segment\" of the street network graph which the lon/lat coordinate falls in\n",
    "- Partition space into Voroni cells from the `xy` coordinate\n",
    "- Our map then takes the interior of the Voroni cell to the segment of the graph."
   ]
  },
  {
   "cell_type": "markdown",
   "metadata": {},
   "source": [
    "# Can we detect errors?\n",
    "\n",
    "How much is the jump between the two coordinates?"
   ]
  },
  {
   "cell_type": "code",
   "execution_count": 38,
   "metadata": {
    "collapsed": true
   },
   "outputs": [],
   "source": [
    "distances = []\n",
    "for row in data:\n",
    "    x, y = proj(*row.lonlat)\n",
    "    xx, yy = row.xy\n",
    "    distances.append(np.sqrt((x-xx)**2 + (y-yy)**2))\n",
    "    \n",
    "distances = np.sort(distances)"
   ]
  },
  {
   "cell_type": "code",
   "execution_count": 41,
   "metadata": {
    "collapsed": false
   },
   "outputs": [
    {
     "data": {
      "text/plain": [
       "[<matplotlib.lines.Line2D at 0x13c142a2e10>]"
      ]
     },
     "execution_count": 41,
     "metadata": {},
     "output_type": "execute_result"
    },
    {
     "data": {
      "image/png": "[encoded data removed]",
      "text/plain": [
       "<matplotlib.figure.Figure at 0x13c142a2da0>"
      ]
     },
     "metadata": {},
     "output_type": "display_data"
    }
   ],
   "source": [
    "fig, ax = plt.subplots(figsize=(16,5))\n",
    "\n",
    "ax.plot(np.log10(distances))"
   ]
  },
  {
   "cell_type": "code",
   "execution_count": 44,
   "metadata": {
    "collapsed": false
   },
   "outputs": [
    {
     "data": {
      "text/plain": [
       "2.1577658487536691"
      ]
     },
     "execution_count": 44,
     "metadata": {},
     "output_type": "execute_result"
    }
   ],
   "source": [
    "np.sum(x>250 for x in distances) / len(distances) * 100"
   ]
  },
  {
   "cell_type": "code",
   "execution_count": null,
   "metadata": {
    "collapsed": true
   },
   "outputs": [],
   "source": []
  }
 ],
 "metadata": {
  "kernelspec": {
   "display_name": "Python 3",
   "language": "python",
   "name": "python3"
  },
  "language_info": {
   "codemirror_mode": {
    "name": "ipython",
    "version": 3
   },
   "file_extension": ".py",
   "mimetype": "text/x-python",
   "name": "python",
   "nbconvert_exporter": "python",
   "pygments_lexer": "ipython3",
   "version": "3.6.0"
  }
 },
 "nbformat": 4,
 "nbformat_minor": 2
}
