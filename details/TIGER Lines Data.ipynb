{
 "cells": [
  {
   "cell_type": "markdown",
   "metadata": {},
   "source": [
    "# TIGER/Lines data\n",
    "\n",
    "We use these to get road names and address details.\n",
    "\n",
    "https://www.census.gov/geo/maps-data/data/tiger-line.html\n",
    "\n",
    "You need to know the [county](https://en.wikipedia.org/wiki/County_%28United_States%29) to download.\n",
    "\n",
    "\n",
    "There are three types of file which are of interest to us:\n",
    "\n",
    "### Roads\n",
    "\n",
    "These are long segments of roads, with a name, and very little other information.  Often the same (part of) a line appears twice with different names.\n",
    "\n",
    "### Edges\n",
    "\n",
    "These are short segments of roads, alleyways etc. with names (mostly) and address informtion (mostly).  The start/end points of each segment form the natural intersection points of the \"street network\".  Does not contain ambiguous information.\n",
    "\n",
    "### AddrFeat\n",
    "\n",
    "Contains similar data to `Edges` but with more address detail.  I have not found a way to use this extra detail.\n",
    "\n",
    "\n",
    "## Processing\n",
    "\n",
    "We have found it most useful to import the data into an `open_cp` Graph container."
   ]
  },
  {
   "cell_type": "code",
   "execution_count": 1,
   "metadata": {
    "collapsed": true
   },
   "outputs": [],
   "source": [
    "import geopandas as gpd\n",
    "import os, collections, lzma, json, bz2, csv\n",
    "import numpy as np\n",
    "\n",
    "import open_cp.network\n",
    "import open_cp.geometry\n",
    "\n",
    "import pyproj\n",
    "proj = pyproj.Proj({\"init\":\"EPSG:2768\"})"
   ]
  },
  {
   "cell_type": "markdown",
   "metadata": {},
   "source": [
    "# San Francisco\n",
    "\n",
    "### Road data"
   ]
  },
  {
   "cell_type": "code",
   "execution_count": 8,
   "metadata": {
    "collapsed": false
   },
   "outputs": [
    {
     "data": {
      "text/html": [
       "<div>\n",
       "<table border=\"1\" class=\"dataframe\">\n",
       "  <thead>\n",
       "    <tr style=\"text-align: right;\">\n",
       "      <th></th>\n",
       "      <th>FULLNAME</th>\n",
       "      <th>LINEARID</th>\n",
       "      <th>MTFCC</th>\n",
       "      <th>RTTYP</th>\n",
       "      <th>geometry</th>\n",
       "    </tr>\n",
       "  </thead>\n",
       "  <tbody>\n",
       "    <tr>\n",
       "      <th>0</th>\n",
       "      <td>Hwy 101 S Off Rmp</td>\n",
       "      <td>110498938773</td>\n",
       "      <td>S1400</td>\n",
       "      <td>M</td>\n",
       "      <td>LINESTRING (1832211.611075589 640258.304130751...</td>\n",
       "    </tr>\n",
       "    <tr>\n",
       "      <th>1</th>\n",
       "      <td>Hwy 101 N on Rmp</td>\n",
       "      <td>110498937425</td>\n",
       "      <td>S1400</td>\n",
       "      <td>M</td>\n",
       "      <td>LINESTRING (1826154.294312381 646875.714636406...</td>\n",
       "    </tr>\n",
       "    <tr>\n",
       "      <th>2</th>\n",
       "      <td>Ludlow Aly - No Acc</td>\n",
       "      <td>1103660229533</td>\n",
       "      <td>S1780</td>\n",
       "      <td>M</td>\n",
       "      <td>LINESTRING (1827299.763214375 639261.626965801...</td>\n",
       "    </tr>\n",
       "    <tr>\n",
       "      <th>3</th>\n",
       "      <td>25th Ave N</td>\n",
       "      <td>1103666896385</td>\n",
       "      <td>S1400</td>\n",
       "      <td>M</td>\n",
       "      <td>LINESTRING (1825113.024921212 644969.067008104...</td>\n",
       "    </tr>\n",
       "    <tr>\n",
       "      <th>4</th>\n",
       "      <td>Willard N</td>\n",
       "      <td>1103689702566</td>\n",
       "      <td>S1400</td>\n",
       "      <td>M</td>\n",
       "      <td>LINESTRING (1827616.018999128 643655.490359187...</td>\n",
       "    </tr>\n",
       "  </tbody>\n",
       "</table>\n",
       "</div>"
      ],
      "text/plain": [
       "              FULLNAME       LINEARID  MTFCC RTTYP  \\\n",
       "0    Hwy 101 S Off Rmp   110498938773  S1400     M   \n",
       "1     Hwy 101 N on Rmp   110498937425  S1400     M   \n",
       "2  Ludlow Aly - No Acc  1103660229533  S1780     M   \n",
       "3           25th Ave N  1103666896385  S1400     M   \n",
       "4            Willard N  1103689702566  S1400     M   \n",
       "\n",
       "                                            geometry  \n",
       "0  LINESTRING (1832211.611075589 640258.304130751...  \n",
       "1  LINESTRING (1826154.294312381 646875.714636406...  \n",
       "2  LINESTRING (1827299.763214375 639261.626965801...  \n",
       "3  LINESTRING (1825113.024921212 644969.067008104...  \n",
       "4  LINESTRING (1827616.018999128 643655.490359187...  "
      ]
     },
     "execution_count": 8,
     "metadata": {},
     "output_type": "execute_result"
    }
   ],
   "source": [
    "#tiger_path = os.path.join(\"/media\", \"disk\", \"TIGER Data\")\n",
    "tiger_path = os.path.join(\"..\", \"..\", \"..\", \"..\", \"Data\", \"TIGER Data\")\n",
    "filename = os.path.join(tiger_path, \"tl_2016_06075_roads__san_francisco\")\n",
    "sanfran_roads = gpd.GeoDataFrame.from_file(filename)\n",
    "sanfran_roads = sanfran_roads.to_crs({\"init\":\"EPSG:2768\"})\n",
    "sanfran_roads.head()"
   ]
  },
  {
   "cell_type": "code",
   "execution_count": 9,
   "metadata": {
    "collapsed": false
   },
   "outputs": [],
   "source": [
    "all_nodes = []\n",
    "for geo in sanfran_roads.geometry:\n",
    "    for pt in geo.coords:\n",
    "        all_nodes.append(pt)\n",
    "        \n",
    "b = open_cp.network.PlanarGraphNodeOneShot(all_nodes)\n",
    "name_lookup = collections.defaultdict(set)\n",
    "for geo, name in zip(sanfran_roads.geometry, sanfran_roads.FULLNAME):\n",
    "    path = list(geo.coords)\n",
    "    for e in b.add_path(path):\n",
    "        name_lookup[e].add(name)\n",
    "\n",
    "b.remove_duplicate_edges()\n",
    "graph = b.build()"
   ]
  },
  {
   "cell_type": "code",
   "execution_count": 10,
   "metadata": {
    "collapsed": false
   },
   "outputs": [
    {
     "data": {
      "text/plain": [
       "34961"
      ]
     },
     "execution_count": 10,
     "metadata": {},
     "output_type": "execute_result"
    }
   ],
   "source": [
    "edge_name_lookup = collections.defaultdict(set)\n",
    "for (v1,v2), names in name_lookup.items():\n",
    "    e, _ = graph.find_edge(v1, v2)\n",
    "    edge_name_lookup[e].update(names)\n",
    "assert list(range(graph.number_edges)) == list(edge_name_lookup)\n",
    "graph.number_edges"
   ]
  },
  {
   "cell_type": "markdown",
   "metadata": {},
   "source": [
    "### Duplicate names"
   ]
  },
  {
   "cell_type": "code",
   "execution_count": 11,
   "metadata": {
    "collapsed": false
   },
   "outputs": [
    {
     "data": {
      "text/plain": [
       "({'Bay Shore Blvd', 'Hwy 101 S Off Rmp'}, {'Kirkwood Ave', 'Kirkwood Ct'})"
      ]
     },
     "execution_count": 11,
     "metadata": {},
     "output_type": "execute_result"
    }
   ],
   "source": [
    "duplicates = { e : names for e, names in edge_name_lookup.items() if len(names) > 1}\n",
    "duplicates[0], duplicates[478]"
   ]
  },
  {
   "cell_type": "markdown",
   "metadata": {},
   "source": [
    "### Edge data"
   ]
  },
  {
   "cell_type": "code",
   "execution_count": 13,
   "metadata": {
    "collapsed": false
   },
   "outputs": [
    {
     "data": {
      "text/html": [
       "<div>\n",
       "<table border=\"1\" class=\"dataframe\">\n",
       "  <thead>\n",
       "    <tr style=\"text-align: right;\">\n",
       "      <th></th>\n",
       "      <th>ARTPATH</th>\n",
       "      <th>COUNTYFP</th>\n",
       "      <th>DECKEDROAD</th>\n",
       "      <th>DIVROAD</th>\n",
       "      <th>EXTTYP</th>\n",
       "      <th>FEATCAT</th>\n",
       "      <th>FULLNAME</th>\n",
       "      <th>GCSEFLG</th>\n",
       "      <th>HYDROFLG</th>\n",
       "      <th>LFROMADD</th>\n",
       "      <th>...</th>\n",
       "      <th>STATEFP</th>\n",
       "      <th>TFIDL</th>\n",
       "      <th>TFIDR</th>\n",
       "      <th>TLID</th>\n",
       "      <th>TNIDF</th>\n",
       "      <th>TNIDT</th>\n",
       "      <th>TTYP</th>\n",
       "      <th>ZIPL</th>\n",
       "      <th>ZIPR</th>\n",
       "      <th>geometry</th>\n",
       "    </tr>\n",
       "  </thead>\n",
       "  <tbody>\n",
       "    <tr>\n",
       "      <th>0</th>\n",
       "      <td>None</td>\n",
       "      <td>075</td>\n",
       "      <td>None</td>\n",
       "      <td>None</td>\n",
       "      <td>B</td>\n",
       "      <td>None</td>\n",
       "      <td>None</td>\n",
       "      <td>N</td>\n",
       "      <td>N</td>\n",
       "      <td>None</td>\n",
       "      <td>...</td>\n",
       "      <td>06</td>\n",
       "      <td>258290104.0</td>\n",
       "      <td>258290103.0</td>\n",
       "      <td>635284393</td>\n",
       "      <td>1822366</td>\n",
       "      <td>423213731</td>\n",
       "      <td>None</td>\n",
       "      <td>None</td>\n",
       "      <td>None</td>\n",
       "      <td>LINESTRING (1826382.879046002 636381.349933896...</td>\n",
       "    </tr>\n",
       "    <tr>\n",
       "      <th>1</th>\n",
       "      <td>None</td>\n",
       "      <td>075</td>\n",
       "      <td>None</td>\n",
       "      <td>None</td>\n",
       "      <td>B</td>\n",
       "      <td>None</td>\n",
       "      <td>None</td>\n",
       "      <td>N</td>\n",
       "      <td>N</td>\n",
       "      <td>None</td>\n",
       "      <td>...</td>\n",
       "      <td>06</td>\n",
       "      <td>212689366.0</td>\n",
       "      <td>212682954.0</td>\n",
       "      <td>192292313</td>\n",
       "      <td>1816511</td>\n",
       "      <td>1816516</td>\n",
       "      <td>None</td>\n",
       "      <td>None</td>\n",
       "      <td>None</td>\n",
       "      <td>LINESTRING (1828369.084484171 636443.246117267...</td>\n",
       "    </tr>\n",
       "    <tr>\n",
       "      <th>2</th>\n",
       "      <td>N</td>\n",
       "      <td>075</td>\n",
       "      <td>N</td>\n",
       "      <td>None</td>\n",
       "      <td>N</td>\n",
       "      <td>S</td>\n",
       "      <td>Liebig St</td>\n",
       "      <td>N</td>\n",
       "      <td>N</td>\n",
       "      <td>19</td>\n",
       "      <td>...</td>\n",
       "      <td>06</td>\n",
       "      <td>212688818.0</td>\n",
       "      <td>212682951.0</td>\n",
       "      <td>192296942</td>\n",
       "      <td>1821210</td>\n",
       "      <td>1816404</td>\n",
       "      <td>None</td>\n",
       "      <td>94112</td>\n",
       "      <td>94112</td>\n",
       "      <td>LINESTRING (1827552.630380671 635906.235163999...</td>\n",
       "    </tr>\n",
       "    <tr>\n",
       "      <th>3</th>\n",
       "      <td>None</td>\n",
       "      <td>075</td>\n",
       "      <td>None</td>\n",
       "      <td>None</td>\n",
       "      <td>N</td>\n",
       "      <td>None</td>\n",
       "      <td>None</td>\n",
       "      <td>N</td>\n",
       "      <td>N</td>\n",
       "      <td>None</td>\n",
       "      <td>...</td>\n",
       "      <td>06</td>\n",
       "      <td>262726237.0</td>\n",
       "      <td>261035014.0</td>\n",
       "      <td>644186113</td>\n",
       "      <td>1823215</td>\n",
       "      <td>1816540</td>\n",
       "      <td>None</td>\n",
       "      <td>None</td>\n",
       "      <td>None</td>\n",
       "      <td>LINESTRING (1828055.451165403 635878.422880249...</td>\n",
       "    </tr>\n",
       "    <tr>\n",
       "      <th>4</th>\n",
       "      <td>N</td>\n",
       "      <td>075</td>\n",
       "      <td>N</td>\n",
       "      <td>None</td>\n",
       "      <td>N</td>\n",
       "      <td>S</td>\n",
       "      <td>Mount Vernon Ave</td>\n",
       "      <td>N</td>\n",
       "      <td>N</td>\n",
       "      <td>None</td>\n",
       "      <td>...</td>\n",
       "      <td>06</td>\n",
       "      <td>212689874.0</td>\n",
       "      <td>212682966.0</td>\n",
       "      <td>192286502</td>\n",
       "      <td>1816727</td>\n",
       "      <td>1816722</td>\n",
       "      <td>None</td>\n",
       "      <td>None</td>\n",
       "      <td>None</td>\n",
       "      <td>LINESTRING (1828638.607432603 636673.755262291...</td>\n",
       "    </tr>\n",
       "  </tbody>\n",
       "</table>\n",
       "<p>5 rows × 32 columns</p>\n",
       "</div>"
      ],
      "text/plain": [
       "  ARTPATH COUNTYFP DECKEDROAD DIVROAD EXTTYP FEATCAT          FULLNAME  \\\n",
       "0    None      075       None    None      B    None              None   \n",
       "1    None      075       None    None      B    None              None   \n",
       "2       N      075          N    None      N       S         Liebig St   \n",
       "3    None      075       None    None      N    None              None   \n",
       "4       N      075          N    None      N       S  Mount Vernon Ave   \n",
       "\n",
       "  GCSEFLG HYDROFLG LFROMADD  \\\n",
       "0       N        N     None   \n",
       "1       N        N     None   \n",
       "2       N        N       19   \n",
       "3       N        N     None   \n",
       "4       N        N     None   \n",
       "\n",
       "                         ...                         STATEFP        TFIDL  \\\n",
       "0                        ...                              06  258290104.0   \n",
       "1                        ...                              06  212689366.0   \n",
       "2                        ...                              06  212688818.0   \n",
       "3                        ...                              06  262726237.0   \n",
       "4                        ...                              06  212689874.0   \n",
       "\n",
       "         TFIDR       TLID    TNIDF      TNIDT  TTYP   ZIPL   ZIPR  \\\n",
       "0  258290103.0  635284393  1822366  423213731  None   None   None   \n",
       "1  212682954.0  192292313  1816511    1816516  None   None   None   \n",
       "2  212682951.0  192296942  1821210    1816404  None  94112  94112   \n",
       "3  261035014.0  644186113  1823215    1816540  None   None   None   \n",
       "4  212682966.0  192286502  1816727    1816722  None   None   None   \n",
       "\n",
       "                                            geometry  \n",
       "0  LINESTRING (1826382.879046002 636381.349933896...  \n",
       "1  LINESTRING (1828369.084484171 636443.246117267...  \n",
       "2  LINESTRING (1827552.630380671 635906.235163999...  \n",
       "3  LINESTRING (1828055.451165403 635878.422880249...  \n",
       "4  LINESTRING (1828638.607432603 636673.755262291...  \n",
       "\n",
       "[5 rows x 32 columns]"
      ]
     },
     "execution_count": 13,
     "metadata": {},
     "output_type": "execute_result"
    }
   ],
   "source": [
    "#tiger_path = os.path.join(\"/media\", \"disk\", \"TIGER Data\")\n",
    "tiger_path = os.path.join(\"..\", \"..\", \"..\", \"..\", \"Data\", \"TIGER Data\")\n",
    "filename = os.path.join(tiger_path, \"tl_2016_06075_edges__san_francisco\")\n",
    "sanfran_edges = gpd.GeoDataFrame.from_file(filename)\n",
    "sanfran_edges = sanfran_edges.to_crs({\"init\":\"EPSG:2768\"})\n",
    "sanfran_edges.head()"
   ]
  },
  {
   "cell_type": "code",
   "execution_count": 14,
   "metadata": {
    "collapsed": false
   },
   "outputs": [],
   "source": [
    "all_nodes = []\n",
    "for geo in sanfran_edges.geometry:\n",
    "    for pt in geo.coords:\n",
    "        all_nodes.append(pt)\n",
    "        \n",
    "b = open_cp.network.PlanarGraphNodeOneShot(all_nodes)\n",
    "name_lookupe = collections.defaultdict(set)\n",
    "for index, row in sanfran_edges.iterrows():\n",
    "    geo = row.geometry\n",
    "    path = list(geo.coords)\n",
    "    data = (row.FULLNAME, row.LFROMADD, row.LTOADD, row.RFROMADD, row.RTOADD)\n",
    "    for e in b.add_path(path):\n",
    "        name_lookupe[e].add(data)\n",
    "\n",
    "b.remove_duplicate_edges()\n",
    "graphe = b.build()"
   ]
  },
  {
   "cell_type": "code",
   "execution_count": 15,
   "metadata": {
    "collapsed": false
   },
   "outputs": [
    {
     "data": {
      "text/plain": [
       "48915"
      ]
     },
     "execution_count": 15,
     "metadata": {},
     "output_type": "execute_result"
    }
   ],
   "source": [
    "edge_name_lookupe = collections.defaultdict(set)\n",
    "for (v1,v2), names in name_lookupe.items():\n",
    "    e, _ = graphe.find_edge(v1, v2)\n",
    "    edge_name_lookupe[e].update(names)\n",
    "assert list(range(graphe.number_edges)) == list(edge_name_lookupe)\n",
    "graphe.number_edges"
   ]
  },
  {
   "cell_type": "code",
   "execution_count": 16,
   "metadata": {
    "collapsed": false
   },
   "outputs": [],
   "source": [
    "assert all(len(names)==1 for names in edge_name_lookupe.values())"
   ]
  },
  {
   "cell_type": "markdown",
   "metadata": {},
   "source": [
    "## Combine data?\n",
    "\n",
    "The following checks that the name the `edges` dataset gives to each graph edge is at least one of the choices offered by the `roads` dataset.  We take this as the \"canonical\" name for that edge."
   ]
  },
  {
   "cell_type": "code",
   "execution_count": 17,
   "metadata": {
    "collapsed": true
   },
   "outputs": [],
   "source": [
    "# Cheat and use the builder; turns out all vertices are shared...\n",
    "graph_to_graphe_vertex_lookup = {v : b._lookup[pt] for v, pt in graph.vertices.items()}"
   ]
  },
  {
   "cell_type": "code",
   "execution_count": 18,
   "metadata": {
    "collapsed": false
   },
   "outputs": [],
   "source": [
    "canonical_names_lookup = dict()\n",
    "for e, (v1,v2) in enumerate(graph.edges):\n",
    "    ee, _ = graphe.find_edge(graph_to_graphe_vertex_lookup[v1], graph_to_graphe_vertex_lookup[v2])\n",
    "    addresses = list(edge_name_lookupe[ee])\n",
    "    assert len(addresses) == 1\n",
    "    address = addresses[0]\n",
    "    # `address' is the block name given by the `edges` dataset\n",
    "    if not address[0] in edge_name_lookup[e]:\n",
    "        print(e, edge_name_lookup[e], ee, edge_name_lookupe[ee])\n",
    "    canonical_names_lookup[e] = address"
   ]
  },
  {
   "cell_type": "markdown",
   "metadata": {},
   "source": [
    "# Library code"
   ]
  },
  {
   "cell_type": "code",
   "execution_count": 2,
   "metadata": {
    "collapsed": true
   },
   "outputs": [],
   "source": [
    "import os, sys\n",
    "sys.path.insert(0, os.path.abspath(\"..\"))"
   ]
  },
  {
   "cell_type": "code",
   "execution_count": 3,
   "metadata": {
    "collapsed": true
   },
   "outputs": [],
   "source": [
    "import open_cp.logger\n",
    "open_cp.logger.log_to_true_stdout(\"impute\")\n",
    "import impute.tiger_lines"
   ]
  },
  {
   "cell_type": "code",
   "execution_count": 4,
   "metadata": {
    "collapsed": false
   },
   "outputs": [],
   "source": [
    "tigerdir = os.path.join(\"..\", \"..\", \"..\", \"..\", \"Data\", \"TIGER Data\")\n",
    "tl = impute.tiger_lines.TigerLines(os.path.join(tigerdir, \"tl_2016_06075_roads__san_francisco\"),\n",
    "                             os.path.join(tigerdir, \"tl_2016_06075_edges__san_francisco\"), proj)"
   ]
  },
  {
   "cell_type": "code",
   "execution_count": 5,
   "metadata": {
    "collapsed": false
   },
   "outputs": [],
   "source": [
    "tl.check_null_edges()"
   ]
  },
  {
   "cell_type": "code",
   "execution_count": 6,
   "metadata": {
    "collapsed": false
   },
   "outputs": [
    {
     "data": {
      "text/plain": [
       "[]"
      ]
     },
     "execution_count": 6,
     "metadata": {},
     "output_type": "execute_result"
    }
   ],
   "source": [
    "tl.name_in_roads_only"
   ]
  },
  {
   "cell_type": "code",
   "execution_count": 7,
   "metadata": {
    "collapsed": false
   },
   "outputs": [
    {
     "data": {
      "text/plain": [
       "(34961, 48915)"
      ]
     },
     "execution_count": 7,
     "metadata": {},
     "output_type": "execute_result"
    }
   ],
   "source": [
    "tl.roads_graph.number_edges, tl.edges_graph.number_edges"
   ]
  },
  {
   "cell_type": "code",
   "execution_count": 11,
   "metadata": {
    "collapsed": false
   },
   "outputs": [
    {
     "data": {
      "text/plain": [
       "({'Cesar Chavez', 'Cesar Chavez St'}, {'US Hwy 101', 'Van Ness Ave'})"
      ]
     },
     "execution_count": 11,
     "metadata": {},
     "output_type": "execute_result"
    }
   ],
   "source": [
    "duplicates = { i : names for i, (_, names) in enumerate(tl.merged_names) if len(names) > 1 }\n",
    "duplicates[38], duplicates[4265]"
   ]
  },
  {
   "cell_type": "code",
   "execution_count": 12,
   "metadata": {
    "collapsed": false
   },
   "outputs": [
    {
     "data": {
      "text/html": [
       "<div>\n",
       "<table border=\"1\" class=\"dataframe\">\n",
       "  <thead>\n",
       "    <tr style=\"text-align: right;\">\n",
       "      <th></th>\n",
       "      <th>left_add_from</th>\n",
       "      <th>left_add_to</th>\n",
       "      <th>right_add_from</th>\n",
       "      <th>right_add_to</th>\n",
       "      <th>name0</th>\n",
       "      <th>name1</th>\n",
       "      <th>name2</th>\n",
       "      <th>geometry</th>\n",
       "    </tr>\n",
       "  </thead>\n",
       "  <tbody>\n",
       "    <tr>\n",
       "      <th>0</th>\n",
       "      <td>None</td>\n",
       "      <td>None</td>\n",
       "      <td>None</td>\n",
       "      <td>None</td>\n",
       "      <td>None</td>\n",
       "      <td>None</td>\n",
       "      <td>None</td>\n",
       "      <td>LINESTRING (1826382.879046002 636381.349933896...</td>\n",
       "    </tr>\n",
       "    <tr>\n",
       "      <th>1</th>\n",
       "      <td>None</td>\n",
       "      <td>None</td>\n",
       "      <td>None</td>\n",
       "      <td>None</td>\n",
       "      <td>None</td>\n",
       "      <td>None</td>\n",
       "      <td>None</td>\n",
       "      <td>LINESTRING (1828369.084484171 636443.246117267...</td>\n",
       "    </tr>\n",
       "    <tr>\n",
       "      <th>2</th>\n",
       "      <td>19</td>\n",
       "      <td>99</td>\n",
       "      <td>22</td>\n",
       "      <td>98</td>\n",
       "      <td>Liebig St</td>\n",
       "      <td>None</td>\n",
       "      <td>None</td>\n",
       "      <td>LINESTRING (1827552.630380671 635906.235163999...</td>\n",
       "    </tr>\n",
       "    <tr>\n",
       "      <th>3</th>\n",
       "      <td>None</td>\n",
       "      <td>None</td>\n",
       "      <td>None</td>\n",
       "      <td>None</td>\n",
       "      <td>None</td>\n",
       "      <td>None</td>\n",
       "      <td>None</td>\n",
       "      <td>LINESTRING (1828055.451165403 635878.422880249...</td>\n",
       "    </tr>\n",
       "    <tr>\n",
       "      <th>4</th>\n",
       "      <td>None</td>\n",
       "      <td>None</td>\n",
       "      <td>None</td>\n",
       "      <td>None</td>\n",
       "      <td>None</td>\n",
       "      <td>None</td>\n",
       "      <td>None</td>\n",
       "      <td>LINESTRING (1828040.824543123 635879.060763354...</td>\n",
       "    </tr>\n",
       "  </tbody>\n",
       "</table>\n",
       "</div>"
      ],
      "text/plain": [
       "  left_add_from left_add_to right_add_from right_add_to      name0 name1  \\\n",
       "0          None        None           None         None       None  None   \n",
       "1          None        None           None         None       None  None   \n",
       "2            19          99             22           98  Liebig St  None   \n",
       "3          None        None           None         None       None  None   \n",
       "4          None        None           None         None       None  None   \n",
       "\n",
       "  name2                                           geometry  \n",
       "0  None  LINESTRING (1826382.879046002 636381.349933896...  \n",
       "1  None  LINESTRING (1828369.084484171 636443.246117267...  \n",
       "2  None  LINESTRING (1827552.630380671 635906.235163999...  \n",
       "3  None  LINESTRING (1828055.451165403 635878.422880249...  \n",
       "4  None  LINESTRING (1828040.824543123 635879.060763354...  "
      ]
     },
     "execution_count": 12,
     "metadata": {},
     "output_type": "execute_result"
    }
   ],
   "source": [
    "tl.to_geodataframe().head()"
   ]
  },
  {
   "cell_type": "markdown",
   "metadata": {},
   "source": [
    "# Does correlating between points and this data help?\n",
    "\n",
    "- Obtain the same sort of spelling mistakes\n",
    "- Lots and lots of problems.\n",
    "  - Some, I think, will be due to crime events placed at the intersection of streets: it's possible that projecting to\n",
    "  the closest edge will fail here."
   ]
  },
  {
   "cell_type": "code",
   "execution_count": 12,
   "metadata": {
    "collapsed": true
   },
   "outputs": [],
   "source": [
    "datadir = os.path.join(\"/media\", \"disk\", \"Data\")\n",
    "filename = os.path.join(datadir, \"SF_Police_Department_Incidents.csv.bz2\")\n",
    "\n",
    "def gen():\n",
    "    with bz2.open(filename, \"rt\", encoding=\"UTF8\") as f:\n",
    "        reader = csv.reader(f)\n",
    "        yield from reader"
   ]
  },
  {
   "cell_type": "code",
   "execution_count": 13,
   "metadata": {
    "collapsed": true
   },
   "outputs": [],
   "source": [
    "block_to_points = collections.defaultdict(set)\n",
    "rows = gen()\n",
    "next(rows)\n",
    "data = []\n",
    "for row in rows:\n",
    "    block = row[8]\n",
    "    x, y = float(row[9]), float(row[10])\n",
    "    if np.abs(y-90) < 1e-5:\n",
    "        continue\n",
    "    block_to_points[block].add((x, y))\n",
    "block_to_points = {block : [proj(x,y) for x,y in pts] for block, pts in block_to_points.items()}"
   ]
  },
  {
   "cell_type": "code",
   "execution_count": 14,
   "metadata": {
    "collapsed": false
   },
   "outputs": [],
   "source": [
    "data = []\n",
    "for block in block_to_points:\n",
    "    for x,y in block_to_points[block]:\n",
    "        (v1, v2), t = graph.project_point_to_graph(x, y)\n",
    "        e, _ = graph.find_edge(v1, v2)\n",
    "        data.append((block, e))"
   ]
  },
  {
   "cell_type": "code",
   "execution_count": 15,
   "metadata": {
    "collapsed": false
   },
   "outputs": [
    {
     "name": "stdout",
     "output_type": "stream",
     "text": [
      "GREAT HY / LINCOLN WY {'GREAT HWY'}\n"
     ]
    },
    {
     "ename": "AssertionError",
     "evalue": "",
     "output_type": "error",
     "traceback": [
      "\u001b[0;31m---------------------------------------------------------------------------\u001b[0m",
      "\u001b[0;31mAssertionError\u001b[0m                            Traceback (most recent call last)",
      "\u001b[0;32m<ipython-input-15-d33b6544f1a8>\u001b[0m in \u001b[0;36m<module>\u001b[0;34m()\u001b[0m\n\u001b[1;32m     30\u001b[0m         \u001b[0;32mif\u001b[0m \u001b[0mtoskip\u001b[0m \u001b[0;34m<\u001b[0m \u001b[0;36m0\u001b[0m\u001b[0;34m:\u001b[0m\u001b[0;34m\u001b[0m\u001b[0m\n\u001b[1;32m     31\u001b[0m             \u001b[0mprint\u001b[0m\u001b[0;34m(\u001b[0m\u001b[0mblock\u001b[0m\u001b[0;34m,\u001b[0m \u001b[0mnames\u001b[0m\u001b[0;34m)\u001b[0m\u001b[0;34m\u001b[0m\u001b[0m\n\u001b[0;32m---> 32\u001b[0;31m             \u001b[0;32mraise\u001b[0m \u001b[0mAssertionError\u001b[0m\u001b[0;34m(\u001b[0m\u001b[0;34m)\u001b[0m\u001b[0;34m\u001b[0m\u001b[0m\n\u001b[0m",
      "\u001b[0;31mAssertionError\u001b[0m: "
     ]
    }
   ],
   "source": [
    "postfix = {\" AV\":\" AVE\", \"BL\":\"BLVD\"}\n",
    "change = {\" DEBOOM \":\" DE BOOM \", \" RHODEISLAND \":\" RHODE ISLAND \",\n",
    "         \" VANNESS \":\" VAN NESS \", \" SGTJOHNVYOUNG \":\" SERGEANT JOHN V YOUNG \",\n",
    "         \" CHARTEROAK \":\" CHARTER OAK \", \"LOSPALMOS \":\"LOS PALMOS \"}\n",
    "\n",
    "def norm_one(block):\n",
    "    for f,t in postfix.items():\n",
    "        if block.endswith(f):\n",
    "            block = block[:-len(f)] + t\n",
    "    for f,t in change.items():\n",
    "        block = block.replace(f, t)\n",
    "    return block\n",
    "\n",
    "def normalise(block):\n",
    "    if \" / \" in block:\n",
    "        parts = block.split(\" / \")\n",
    "        return \" / \".join(norm_one(p) for p in parts)\n",
    "    else:\n",
    "        return norm_one(block)\n",
    "\n",
    "assert normalise('700 Block of KIRKWOOD AV') == '700 Block of KIRKWOOD AVE'\n",
    "assert normalise('NEWCOMB AV / MENDELL ST') == 'NEWCOMB AVE / MENDELL ST'\n",
    "\n",
    "toskip = 9\n",
    "for block, edge in data:\n",
    "    block = normalise(block)\n",
    "    names = {s.upper() for s in edge_name_lookup[edge]}\n",
    "    if not any(n in block for n in names):\n",
    "        toskip -= 1\n",
    "        if toskip < 0:\n",
    "            print(block, names)\n",
    "            raise AssertionError()"
   ]
  },
  {
   "cell_type": "code",
   "execution_count": null,
   "metadata": {
    "collapsed": true
   },
   "outputs": [],
   "source": []
  },
  {
   "cell_type": "code",
   "execution_count": null,
   "metadata": {
    "collapsed": true
   },
   "outputs": [],
   "source": []
  }
 ],
 "metadata": {
  "kernelspec": {
   "display_name": "Python 3",
   "language": "python",
   "name": "python3"
  },
  "language_info": {
   "codemirror_mode": {
    "name": "ipython",
    "version": 3
   },
   "file_extension": ".py",
   "mimetype": "text/x-python",
   "name": "python",
   "nbconvert_exporter": "python",
   "pygments_lexer": "ipython3",
   "version": "3.6.0"
  }
 },
 "nbformat": 4,
 "nbformat_minor": 2
}
