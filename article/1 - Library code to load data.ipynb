{
 "cells": [
  {
   "cell_type": "code",
   "execution_count": 1,
   "metadata": {
    "collapsed": true
   },
   "outputs": [],
   "source": [
    "import sys, os\n",
    "sys.path.insert(0, os.path.abspath(os.path.join(\"..\")))"
   ]
  },
  {
   "cell_type": "markdown",
   "metadata": {},
   "source": [
    "# Library code to load data\n",
    "\n",
    "Here we demonstrate how to use the Python package to load data"
   ]
  },
  {
   "cell_type": "code",
   "execution_count": 2,
   "metadata": {
    "collapsed": false
   },
   "outputs": [],
   "source": [
    "import opencrimedata.san_francisco as sf\n",
    "import opencrimedata.chicago as chicago\n",
    "import opencrimedata.dallas as dallas\n",
    "import bz2, collections, lzma\n",
    "\n",
    "#datadir = os.path.join(\"/media\", \"disk\", \"Data\")\n",
    "datadir = os.path.join(\"..\", \"..\", \"..\", \"..\", \"Data\")"
   ]
  },
  {
   "cell_type": "markdown",
   "metadata": {},
   "source": [
    "## Chicago\n",
    "\n",
    "https://data.cityofchicago.org/Public-Safety/Crimes-2001-to-present/ijzp-q8t2\n",
    "\n",
    "We have similar code in `open_cp`, but this library is more flexible."
   ]
  },
  {
   "cell_type": "code",
   "execution_count": 27,
   "metadata": {
    "collapsed": true
   },
   "outputs": [],
   "source": [
    "filename = os.path.join(datadir, \"chicago_all.csv.xz\")\n",
    "filename_old = os.path.join(datadir, \"chicago_all_old.csv\")"
   ]
  },
  {
   "cell_type": "code",
   "execution_count": 28,
   "metadata": {
    "collapsed": false
   },
   "outputs": [
    {
     "data": {
      "text/plain": [
       "Row(id='5189091', crime_type='OFFENSE INVOLVING CHILDREN', crime_subtype='CHILD ABUSE', location='RESIDENCE', address='108XX S AVENUE G', datetime=datetime.datetime(2006, 10, 12, 10, 58), point=(-87.531655723, 41.698387427))"
      ]
     },
     "execution_count": 28,
     "metadata": {},
     "output_type": "execute_result"
    }
   ],
   "source": [
    "with lzma.open(filename, \"rt\", encoding=\"utf8\") as f:\n",
    "    gen = chicago.load(f)\n",
    "    row = next(gen)\n",
    "row"
   ]
  },
  {
   "cell_type": "code",
   "execution_count": 29,
   "metadata": {
    "collapsed": false
   },
   "outputs": [
    {
     "name": "stdout",
     "output_type": "stream",
     "text": [
      "6405860\n"
     ]
    }
   ],
   "source": [
    "with lzma.open(filename, \"rt\", encoding=\"utf8\") as f:\n",
    "    print(len(list(chicago.load(f))))"
   ]
  },
  {
   "cell_type": "markdown",
   "metadata": {},
   "source": [
    "Or we can load skipping data which isn't geocoded correctly."
   ]
  },
  {
   "cell_type": "code",
   "execution_count": 30,
   "metadata": {
    "collapsed": false
   },
   "outputs": [
    {
     "name": "stdout",
     "output_type": "stream",
     "text": [
      "6323451\n"
     ]
    }
   ],
   "source": [
    "with lzma.open(filename, \"rt\", encoding=\"utf8\") as f:\n",
    "    print(len(list(chicago.load_only_with_point(f))))"
   ]
  },
  {
   "cell_type": "code",
   "execution_count": 35,
   "metadata": {
    "collapsed": false
   },
   "outputs": [
    {
     "data": {
      "text/html": [
       "<div>\n",
       "<table border=\"1\" class=\"dataframe\">\n",
       "  <thead>\n",
       "    <tr style=\"text-align: right;\">\n",
       "      <th></th>\n",
       "      <th>id</th>\n",
       "      <th>crime_type</th>\n",
       "      <th>crime_subtype</th>\n",
       "      <th>location</th>\n",
       "      <th>address</th>\n",
       "      <th>datetime</th>\n",
       "      <th>geometry</th>\n",
       "    </tr>\n",
       "  </thead>\n",
       "  <tbody>\n",
       "    <tr>\n",
       "      <th>0</th>\n",
       "      <td>5189119</td>\n",
       "      <td>BURGLARY</td>\n",
       "      <td>FORCIBLE ENTRY</td>\n",
       "      <td>RESIDENCE</td>\n",
       "      <td>110XX S ASHLAND AVE</td>\n",
       "      <td>2006-12-15 03:40:00</td>\n",
       "      <td>POINT (-87.661870593 41.693088458)</td>\n",
       "    </tr>\n",
       "    <tr>\n",
       "      <th>1</th>\n",
       "      <td>5189120</td>\n",
       "      <td>BURGLARY</td>\n",
       "      <td>HOME INVASION</td>\n",
       "      <td>RESIDENCE</td>\n",
       "      <td>043XX W CERMAK RD</td>\n",
       "      <td>2006-12-16 13:00:00</td>\n",
       "      <td>POINT (-87.733721827 41.851409307)</td>\n",
       "    </tr>\n",
       "    <tr>\n",
       "      <th>2</th>\n",
       "      <td>5189166</td>\n",
       "      <td>BURGLARY</td>\n",
       "      <td>FORCIBLE ENTRY</td>\n",
       "      <td>RESIDENCE</td>\n",
       "      <td>055XX S THROOP ST</td>\n",
       "      <td>2006-12-17 06:18:00</td>\n",
       "      <td>POINT (-87.657274157 41.793119033)</td>\n",
       "    </tr>\n",
       "    <tr>\n",
       "      <th>3</th>\n",
       "      <td>5189200</td>\n",
       "      <td>BURGLARY</td>\n",
       "      <td>FORCIBLE ENTRY</td>\n",
       "      <td>APARTMENT</td>\n",
       "      <td>033XX N HAMLIN AVE</td>\n",
       "      <td>2006-12-17 16:50:00</td>\n",
       "      <td>POINT (-87.722373658 41.941879259)</td>\n",
       "    </tr>\n",
       "    <tr>\n",
       "      <th>4</th>\n",
       "      <td>5189201</td>\n",
       "      <td>BURGLARY</td>\n",
       "      <td>FORCIBLE ENTRY</td>\n",
       "      <td>APARTMENT</td>\n",
       "      <td>008XX E 62ND ST</td>\n",
       "      <td>2006-12-11 01:00:00</td>\n",
       "      <td>POINT (-87.60552953200001 41.782237362)</td>\n",
       "    </tr>\n",
       "  </tbody>\n",
       "</table>\n",
       "</div>"
      ],
      "text/plain": [
       "        id crime_type   crime_subtype   location              address  \\\n",
       "0  5189119   BURGLARY  FORCIBLE ENTRY  RESIDENCE  110XX S ASHLAND AVE   \n",
       "1  5189120   BURGLARY   HOME INVASION  RESIDENCE    043XX W CERMAK RD   \n",
       "2  5189166   BURGLARY  FORCIBLE ENTRY  RESIDENCE    055XX S THROOP ST   \n",
       "3  5189200   BURGLARY  FORCIBLE ENTRY  APARTMENT   033XX N HAMLIN AVE   \n",
       "4  5189201   BURGLARY  FORCIBLE ENTRY  APARTMENT      008XX E 62ND ST   \n",
       "\n",
       "             datetime                                 geometry  \n",
       "0 2006-12-15 03:40:00       POINT (-87.661870593 41.693088458)  \n",
       "1 2006-12-16 13:00:00       POINT (-87.733721827 41.851409307)  \n",
       "2 2006-12-17 06:18:00       POINT (-87.657274157 41.793119033)  \n",
       "3 2006-12-17 16:50:00       POINT (-87.722373658 41.941879259)  \n",
       "4 2006-12-11 01:00:00  POINT (-87.60552953200001 41.782237362)  "
      ]
     },
     "execution_count": 35,
     "metadata": {},
     "output_type": "execute_result"
    }
   ],
   "source": [
    "def fil(row):\n",
    "    return row.crime_type == \"BURGLARY\"\n",
    "\n",
    "with lzma.open(filename, \"rt\", encoding=\"utf8\") as f:\n",
    "    frame = chicago.to_geoframe(f, fil)\n",
    "frame.head()"
   ]
  },
  {
   "cell_type": "markdown",
   "metadata": {},
   "source": [
    "### Street network"
   ]
  },
  {
   "cell_type": "code",
   "execution_count": 33,
   "metadata": {
    "collapsed": false
   },
   "outputs": [
    {
     "data": {
      "text/plain": [
       "Street(street_id=1782, street_name='S YALE AVE', length=67.22865483352807, source=StreetNode(street_id=2208, node_id=10809, street_address='245|W|ENGLEWOOD|AVE|'), destination=StreetNode(street_id=0, node_id=16581, street_address='6250|S|||'), left=StreetAddress(start=0, end=0, parity='O'), right=StreetAddress(start=6228, end=6248, parity='E'), line=array([[-87.63187018,  41.78080975],\n",
       "       [-87.63184648,  41.78038243],\n",
       "       [-87.63184505,  41.78035651],\n",
       "       [-87.63184151,  41.78020488]]))"
      ]
     },
     "execution_count": 33,
     "metadata": {},
     "output_type": "execute_result"
    }
   ],
   "source": [
    "gen = chicago.load_street_centre_lines(os.path.join(datadir, \"Chicago_Street Center Lines\"))\n",
    "next(gen)"
   ]
  },
  {
   "cell_type": "markdown",
   "metadata": {},
   "source": [
    "## San Francisco\n",
    "\n",
    "https://data.sfgov.org/Public-Safety/Police-Department-Incidents/tmnf-yvry"
   ]
  },
  {
   "cell_type": "code",
   "execution_count": 5,
   "metadata": {
    "collapsed": false
   },
   "outputs": [
    {
     "data": {
      "text/plain": [
       "Row(category='NON-CRIMINAL', description='LOST PROPERTY', datetime=datetime.datetime(2015, 1, 19, 14, 0), block='18TH ST / VALENCIA ST', point=(-122.42158168137, 37.7617007179518), idd='15006027571000', incident='150060275')"
      ]
     },
     "execution_count": 5,
     "metadata": {},
     "output_type": "execute_result"
    }
   ],
   "source": [
    "filename = os.path.join(datadir, \"SF_Police_Department_Incidents.csv.bz2\")\n",
    "def gen():\n",
    "    with bz2.open(filename, \"rt\", encoding=\"UTF8\") as f:\n",
    "        yield from sf.load(f)\n",
    "\n",
    "next(gen())"
   ]
  },
  {
   "cell_type": "code",
   "execution_count": 6,
   "metadata": {
    "collapsed": false
   },
   "outputs": [
    {
     "data": {
      "text/plain": [
       "2119901"
      ]
     },
     "execution_count": 6,
     "metadata": {},
     "output_type": "execute_result"
    }
   ],
   "source": [
    "len(list(gen()))"
   ]
  },
  {
   "cell_type": "code",
   "execution_count": 7,
   "metadata": {
    "collapsed": false
   },
   "outputs": [
    {
     "data": {
      "text/plain": [
       "87536"
      ]
     },
     "execution_count": 7,
     "metadata": {},
     "output_type": "execute_result"
    }
   ],
   "source": [
    "burg = [r for r in gen() if r.category==\"BURGLARY\"]\n",
    "len(burg)"
   ]
  },
  {
   "cell_type": "code",
   "execution_count": 8,
   "metadata": {
    "collapsed": false
   },
   "outputs": [
    {
     "data": {
      "text/plain": [
       "(datetime.datetime(2003, 1, 1, 0, 1), datetime.datetime(2017, 9, 13, 23, 0))"
      ]
     },
     "execution_count": 8,
     "metadata": {},
     "output_type": "execute_result"
    }
   ],
   "source": [
    "min((x.datetime for x in burg)), max((x.datetime for x in burg))"
   ]
  },
  {
   "cell_type": "code",
   "execution_count": 9,
   "metadata": {
    "collapsed": false
   },
   "outputs": [
    {
     "data": {
      "text/plain": [
       "5806"
      ]
     },
     "execution_count": 9,
     "metadata": {},
     "output_type": "execute_result"
    }
   ],
   "source": [
    "len([x for x in burg if x.datetime.year == 2016])"
   ]
  },
  {
   "cell_type": "markdown",
   "metadata": {},
   "source": [
    "You need to be careful, as there are repeated events."
   ]
  },
  {
   "cell_type": "code",
   "execution_count": 14,
   "metadata": {
    "collapsed": false
   },
   "outputs": [],
   "source": [
    "burg_by_incident = collections.defaultdict(list)\n",
    "for row in burg:\n",
    "    burg_by_incident[row.incident].append(row)"
   ]
  },
  {
   "cell_type": "code",
   "execution_count": 17,
   "metadata": {
    "collapsed": false
   },
   "outputs": [
    {
     "data": {
      "text/plain": [
       "[Row(category='BURGLARY', description='BURGLARY OF RESIDENCE, UNLAWFUL ENTRY', datetime=datetime.datetime(2015, 2, 6, 1, 41), block='0 Block of BEAUMONT AV', point=(-122.455197430222, 37.7807110127869), idd='15011317505043', incident='150113175'),\n",
       " Row(category='BURGLARY', description='BURGLARY, HOT PROWL, UNLAWFUL ENTRY', datetime=datetime.datetime(2015, 2, 6, 1, 41), block='0 Block of BEAUMONT AV', point=(-122.455197430222, 37.7807110127869), idd='15011317505083', incident='150113175')]"
      ]
     },
     "execution_count": 17,
     "metadata": {},
     "output_type": "execute_result"
    }
   ],
   "source": [
    "[col for col in burg_by_incident.values() if len(col)>1][0]"
   ]
  },
  {
   "cell_type": "code",
   "execution_count": 18,
   "metadata": {
    "collapsed": true
   },
   "outputs": [],
   "source": [
    "with bz2.open(filename, \"rt\", encoding=\"UTF8\") as f:\n",
    "    frame = sf.to_geoframe(f, lambda row : row.category == 'BURGLARY')"
   ]
  },
  {
   "cell_type": "code",
   "execution_count": 19,
   "metadata": {
    "collapsed": false
   },
   "outputs": [
    {
     "data": {
      "text/html": [
       "<div>\n",
       "<table border=\"1\" class=\"dataframe\">\n",
       "  <thead>\n",
       "    <tr style=\"text-align: right;\">\n",
       "      <th></th>\n",
       "      <th>category</th>\n",
       "      <th>description</th>\n",
       "      <th>datetime</th>\n",
       "      <th>block</th>\n",
       "      <th>idd</th>\n",
       "      <th>incident</th>\n",
       "      <th>geometry</th>\n",
       "    </tr>\n",
       "  </thead>\n",
       "  <tbody>\n",
       "    <tr>\n",
       "      <th>0</th>\n",
       "      <td>BURGLARY</td>\n",
       "      <td>BURGLARY OF STORE, UNLAWFUL ENTRY</td>\n",
       "      <td>2015-01-31 16:09:00</td>\n",
       "      <td>200 Block of STOCKTON ST</td>\n",
       "      <td>15009825405053</td>\n",
       "      <td>150098254</td>\n",
       "      <td>POINT (-122.40656817787 37.7878092959561)</td>\n",
       "    </tr>\n",
       "    <tr>\n",
       "      <th>1</th>\n",
       "      <td>BURGLARY</td>\n",
       "      <td>BURGLARY, UNLAWFUL ENTRY</td>\n",
       "      <td>2015-01-30 12:30:00</td>\n",
       "      <td>2600 Block of 18TH ST</td>\n",
       "      <td>15009883405073</td>\n",
       "      <td>150098834</td>\n",
       "      <td>POINT (-122.40867573409 37.761791195706)</td>\n",
       "    </tr>\n",
       "    <tr>\n",
       "      <th>2</th>\n",
       "      <td>BURGLARY</td>\n",
       "      <td>BURGLARY OF APARTMENT HOUSE, FORCIBLE ENTRY</td>\n",
       "      <td>2015-02-01 13:15:00</td>\n",
       "      <td>1800 Block of WAWONA ST</td>\n",
       "      <td>15009930905011</td>\n",
       "      <td>150099309</td>\n",
       "      <td>POINT (-122.486177330467 37.7368129188976)</td>\n",
       "    </tr>\n",
       "    <tr>\n",
       "      <th>3</th>\n",
       "      <td>BURGLARY</td>\n",
       "      <td>BURGLARY OF STORE, FORCIBLE ENTRY</td>\n",
       "      <td>2015-02-02 00:50:00</td>\n",
       "      <td>400 Block of VALENCIA ST</td>\n",
       "      <td>15009954705051</td>\n",
       "      <td>150099547</td>\n",
       "      <td>POINT (-122.42207304894 37.7661259454801)</td>\n",
       "    </tr>\n",
       "    <tr>\n",
       "      <th>4</th>\n",
       "      <td>BURGLARY</td>\n",
       "      <td>BURGLARY OF RESIDENCE, UNLAWFUL ENTRY</td>\n",
       "      <td>2015-02-01 21:00:00</td>\n",
       "      <td>300 Block of LEXINGTON ST</td>\n",
       "      <td>15009980405043</td>\n",
       "      <td>150099804</td>\n",
       "      <td>POINT (-122.420489911989 37.7577269207659)</td>\n",
       "    </tr>\n",
       "  </tbody>\n",
       "</table>\n",
       "</div>"
      ],
      "text/plain": [
       "   category                                  description            datetime  \\\n",
       "0  BURGLARY            BURGLARY OF STORE, UNLAWFUL ENTRY 2015-01-31 16:09:00   \n",
       "1  BURGLARY                     BURGLARY, UNLAWFUL ENTRY 2015-01-30 12:30:00   \n",
       "2  BURGLARY  BURGLARY OF APARTMENT HOUSE, FORCIBLE ENTRY 2015-02-01 13:15:00   \n",
       "3  BURGLARY            BURGLARY OF STORE, FORCIBLE ENTRY 2015-02-02 00:50:00   \n",
       "4  BURGLARY        BURGLARY OF RESIDENCE, UNLAWFUL ENTRY 2015-02-01 21:00:00   \n",
       "\n",
       "                       block             idd   incident  \\\n",
       "0   200 Block of STOCKTON ST  15009825405053  150098254   \n",
       "1      2600 Block of 18TH ST  15009883405073  150098834   \n",
       "2    1800 Block of WAWONA ST  15009930905011  150099309   \n",
       "3   400 Block of VALENCIA ST  15009954705051  150099547   \n",
       "4  300 Block of LEXINGTON ST  15009980405043  150099804   \n",
       "\n",
       "                                     geometry  \n",
       "0   POINT (-122.40656817787 37.7878092959561)  \n",
       "1    POINT (-122.40867573409 37.761791195706)  \n",
       "2  POINT (-122.486177330467 37.7368129188976)  \n",
       "3   POINT (-122.42207304894 37.7661259454801)  \n",
       "4  POINT (-122.420489911989 37.7577269207659)  "
      ]
     },
     "execution_count": 19,
     "metadata": {},
     "output_type": "execute_result"
    }
   ],
   "source": [
    "frame.head()"
   ]
  },
  {
   "cell_type": "markdown",
   "metadata": {
    "collapsed": true
   },
   "source": [
    "### Load street data\n",
    "\n",
    "https://data.sfgov.org/Geographic-Locations-and-Boundaries/San-Francisco-Basemap-Street-Centerlines/7hfy-8sz8"
   ]
  },
  {
   "cell_type": "code",
   "execution_count": 4,
   "metadata": {
    "collapsed": false
   },
   "outputs": [
    {
     "data": {
      "text/plain": [
       "Street(street_id=15145000, layer='PRIVATE', nhood='Twin Peaks', oneway='B', name='CROWN CT', left=None, right=None, line=array([[-122.44694245,   37.75722892],\n",
       "       [-122.44664129,   37.7572054 ],\n",
       "       [-122.44586702,   37.75693649]]))"
      ]
     },
     "execution_count": 4,
     "metadata": {},
     "output_type": "execute_result"
    }
   ],
   "source": [
    "gen = sf.load_street_centre_lines(os.path.join(datadir, \"San Francisco Basemap Street Centerlines\"))\n",
    "next(gen)"
   ]
  },
  {
   "cell_type": "markdown",
   "metadata": {
    "collapsed": true
   },
   "source": [
    "# Dallas data\n",
    "\n",
    "https://www.dallasopendata.com/Public-Safety/Police-Incidents/tbnj-w5hb\n",
    "\n",
    "There are multiple rows per crime event (coding for witnesses etc. etc.)  Both `load` methods return just one `Row` object per crime.  `load` takes a guess as to the entry with the most useful information; `load_full` loads the entire file and selects the best entry (so is slower, but better)."
   ]
  },
  {
   "cell_type": "code",
   "execution_count": 3,
   "metadata": {
    "collapsed": false
   },
   "outputs": [],
   "source": [
    "def gen():\n",
    "    with lzma.open(os.path.join(datadir, \"Dallas_11_Sept_2017.csv.xz\"), \"rt\") as file:\n",
    "        yield from dallas.load(file)\n",
    "        \n",
    "def gen_full():\n",
    "    with lzma.open(os.path.join(datadir, \"Dallas_11_Sept_2017.csv.xz\"), \"rt\") as file:\n",
    "        yield from dallas.load_full(file)"
   ]
  },
  {
   "cell_type": "code",
   "execution_count": 4,
   "metadata": {
    "collapsed": false
   },
   "outputs": [
    {
     "data": {
      "text/plain": [
       "Row(code='276285-2016', crime_type='BURGLARY', crime_subtype='BURGLARY-RESIDENCE', start_time=datetime.datetime(2016, 11, 16, 11, 0), end_time=datetime.datetime(2016, 11, 18, 11, 0), call_time=datetime.datetime(2016, 11, 18, 11, 42, 26), address='5850 BELT LINE RD', city='DALLAS 75254', lonlat=(-96.807131, 32.953948), xy=(758206.7262484236, 2144003.9338816064))"
      ]
     },
     "execution_count": 4,
     "metadata": {},
     "output_type": "execute_result"
    }
   ],
   "source": [
    "next(gen())"
   ]
  },
  {
   "cell_type": "code",
   "execution_count": 5,
   "metadata": {
    "collapsed": false
   },
   "outputs": [
    {
     "data": {
      "text/plain": [
       "Row(code='276285-2016', crime_type='BURGLARY', crime_subtype='BURGLARY-RESIDENCE', start_time=datetime.datetime(2016, 11, 16, 11, 0), end_time=datetime.datetime(2016, 11, 18, 11, 0), call_time=datetime.datetime(2016, 11, 18, 11, 42, 26), address='5850 BELT LINE RD', city='DALLAS 75254', lonlat=(-96.807131, 32.953948), xy=(758206.7262484236, 2144003.9338816064))"
      ]
     },
     "execution_count": 5,
     "metadata": {},
     "output_type": "execute_result"
    }
   ],
   "source": [
    "next(gen_full())"
   ]
  },
  {
   "cell_type": "code",
   "execution_count": 6,
   "metadata": {
    "collapsed": false
   },
   "outputs": [
    {
     "data": {
      "text/html": [
       "<div>\n",
       "<table border=\"1\" class=\"dataframe\">\n",
       "  <thead>\n",
       "    <tr style=\"text-align: right;\">\n",
       "      <th></th>\n",
       "      <th>code</th>\n",
       "      <th>crime_type</th>\n",
       "      <th>crime_subtype</th>\n",
       "      <th>start_time</th>\n",
       "      <th>end_time</th>\n",
       "      <th>call_time</th>\n",
       "      <th>address</th>\n",
       "      <th>city</th>\n",
       "      <th>x</th>\n",
       "      <th>y</th>\n",
       "      <th>lon</th>\n",
       "      <th>lat</th>\n",
       "      <th>geometry</th>\n",
       "    </tr>\n",
       "  </thead>\n",
       "  <tbody>\n",
       "    <tr>\n",
       "      <th>0</th>\n",
       "      <td>276285-2016</td>\n",
       "      <td>BURGLARY</td>\n",
       "      <td>BURGLARY-RESIDENCE</td>\n",
       "      <td>2016-11-16 11:00:00</td>\n",
       "      <td>2016-11-18 11:00:00</td>\n",
       "      <td>2016-11-18 11:42:26</td>\n",
       "      <td>5850 BELT LINE RD</td>\n",
       "      <td>DALLAS 75254</td>\n",
       "      <td>231101.872364</td>\n",
       "      <td>653493.706035</td>\n",
       "      <td>-96.807131</td>\n",
       "      <td>32.953948</td>\n",
       "      <td>POINT (231101.8723642642 653493.7060345256)</td>\n",
       "    </tr>\n",
       "    <tr>\n",
       "      <th>1</th>\n",
       "      <td>277474-2016</td>\n",
       "      <td>MOTOR VEHICLE ACCIDENT</td>\n",
       "      <td>ACCIDENT MV</td>\n",
       "      <td>2016-11-20 00:40:00</td>\n",
       "      <td>2016-11-20 00:45:00</td>\n",
       "      <td>2016-11-20 00:50:30</td>\n",
       "      <td>4400 W DAVIS ST</td>\n",
       "      <td>DALLAS 75211</td>\n",
       "      <td>228822.734527</td>\n",
       "      <td>646550.220798</td>\n",
       "      <td>-96.892956</td>\n",
       "      <td>32.749608</td>\n",
       "      <td>POINT (228822.7345272984 646550.2207975964)</td>\n",
       "    </tr>\n",
       "    <tr>\n",
       "      <th>2</th>\n",
       "      <td>276593-2016</td>\n",
       "      <td>FOUND PROPERTY</td>\n",
       "      <td>FOUND</td>\n",
       "      <td>2016-11-18 23:28:00</td>\n",
       "      <td>2016-11-18 23:28:00</td>\n",
       "      <td>2016-11-18 23:28:52</td>\n",
       "      <td>600 E COLORADO BLVD</td>\n",
       "      <td>DALLAS 75203</td>\n",
       "      <td>230981.469742</td>\n",
       "      <td>646893.413264</td>\n",
       "      <td>-96.815154</td>\n",
       "      <td>32.758751</td>\n",
       "      <td>POINT (230981.4697415552 646893.4132635808)</td>\n",
       "    </tr>\n",
       "    <tr>\n",
       "      <th>3</th>\n",
       "      <td>276430-2016</td>\n",
       "      <td>ROBBERY</td>\n",
       "      <td>ROBBERY-BUSINESS</td>\n",
       "      <td>2016-11-18 18:32:00</td>\n",
       "      <td>2016-11-18 18:32:00</td>\n",
       "      <td>2016-11-18 18:44:57</td>\n",
       "      <td>2231 SINGLETON BLVD</td>\n",
       "      <td>DALLAS 75212</td>\n",
       "      <td>229763.705344</td>\n",
       "      <td>647562.311509</td>\n",
       "      <td>-96.858248</td>\n",
       "      <td>32.778774</td>\n",
       "      <td>POINT (229763.7053437693 647562.3115085037)</td>\n",
       "    </tr>\n",
       "    <tr>\n",
       "      <th>4</th>\n",
       "      <td>277049-2016</td>\n",
       "      <td>THEFT</td>\n",
       "      <td>OTHER THEFTS</td>\n",
       "      <td>2016-11-18 01:30:00</td>\n",
       "      <td>2016-11-18 07:30:00</td>\n",
       "      <td>2016-11-19 14:08:16</td>\n",
       "      <td>400 CRESCENT CT</td>\n",
       "      <td>DALLAS 75201</td>\n",
       "      <td>231301.600446</td>\n",
       "      <td>648089.852187</td>\n",
       "      <td>-96.803880</td>\n",
       "      <td>32.794004</td>\n",
       "      <td>POINT (231301.600446244 648089.8521874177)</td>\n",
       "    </tr>\n",
       "  </tbody>\n",
       "</table>\n",
       "</div>"
      ],
      "text/plain": [
       "          code              crime_type       crime_subtype  \\\n",
       "0  276285-2016                BURGLARY  BURGLARY-RESIDENCE   \n",
       "1  277474-2016  MOTOR VEHICLE ACCIDENT         ACCIDENT MV   \n",
       "2  276593-2016          FOUND PROPERTY               FOUND   \n",
       "3  276430-2016                 ROBBERY    ROBBERY-BUSINESS   \n",
       "4  277049-2016                   THEFT        OTHER THEFTS   \n",
       "\n",
       "           start_time            end_time           call_time  \\\n",
       "0 2016-11-16 11:00:00 2016-11-18 11:00:00 2016-11-18 11:42:26   \n",
       "1 2016-11-20 00:40:00 2016-11-20 00:45:00 2016-11-20 00:50:30   \n",
       "2 2016-11-18 23:28:00 2016-11-18 23:28:00 2016-11-18 23:28:52   \n",
       "3 2016-11-18 18:32:00 2016-11-18 18:32:00 2016-11-18 18:44:57   \n",
       "4 2016-11-18 01:30:00 2016-11-18 07:30:00 2016-11-19 14:08:16   \n",
       "\n",
       "               address          city              x              y        lon  \\\n",
       "0    5850 BELT LINE RD  DALLAS 75254  231101.872364  653493.706035 -96.807131   \n",
       "1      4400 W DAVIS ST  DALLAS 75211  228822.734527  646550.220798 -96.892956   \n",
       "2  600 E COLORADO BLVD  DALLAS 75203  230981.469742  646893.413264 -96.815154   \n",
       "3  2231 SINGLETON BLVD  DALLAS 75212  229763.705344  647562.311509 -96.858248   \n",
       "4      400 CRESCENT CT  DALLAS 75201  231301.600446  648089.852187 -96.803880   \n",
       "\n",
       "         lat                                     geometry  \n",
       "0  32.953948  POINT (231101.8723642642 653493.7060345256)  \n",
       "1  32.749608  POINT (228822.7345272984 646550.2207975964)  \n",
       "2  32.758751  POINT (230981.4697415552 646893.4132635808)  \n",
       "3  32.778774  POINT (229763.7053437693 647562.3115085037)  \n",
       "4  32.794004   POINT (231301.600446244 648089.8521874177)  "
      ]
     },
     "execution_count": 6,
     "metadata": {},
     "output_type": "execute_result"
    }
   ],
   "source": [
    "with lzma.open(os.path.join(datadir, \"Dallas_11_Sept_2017.csv.xz\"), \"rt\") as file:\n",
    "    frame = dallas.to_geoframe(file)\n",
    "frame.head()"
   ]
  },
  {
   "cell_type": "markdown",
   "metadata": {
    "collapsed": true
   },
   "source": [
    "### Load street data\n",
    "\n",
    "https://www.dallasopendata.com/Geography-Boundaries/Streets-Shapefile-Polyline/cvgm-fp24\n",
    "\n",
    "Export as shapefile"
   ]
  },
  {
   "cell_type": "code",
   "execution_count": 8,
   "metadata": {
    "collapsed": false
   },
   "outputs": [],
   "source": [
    "streets = list(dallas.load_street_lines(os.path.join(datadir, \"Dallas Streets Shapefile - Polyline\")))"
   ]
  },
  {
   "cell_type": "code",
   "execution_count": 13,
   "metadata": {
    "collapsed": false
   },
   "outputs": [
    {
     "data": {
      "text/plain": [
       "Street(street_id=17331, clazz='MINOR ARTERIAL', name='RIDGEVIEW CIR', oneway=0, left=StreetAddress(start=6539, end=6555), right=StreetAddress(start=6538, end=6554), line=array([[-96.79318822,  32.92671109],\n",
       "       [-96.79306999,  32.927066  ],\n",
       "       [-96.79276672,  32.92781496]]))"
      ]
     },
     "execution_count": 13,
     "metadata": {},
     "output_type": "execute_result"
    }
   ],
   "source": [
    "streets[543]"
   ]
  },
  {
   "cell_type": "code",
   "execution_count": null,
   "metadata": {
    "collapsed": true
   },
   "outputs": [],
   "source": []
  }
 ],
 "metadata": {
  "kernelspec": {
   "display_name": "Python 3",
   "language": "python",
   "name": "python3"
  },
  "language_info": {
   "codemirror_mode": {
    "name": "ipython",
    "version": 3
   },
   "file_extension": ".py",
   "mimetype": "text/x-python",
   "name": "python",
   "nbconvert_exporter": "python",
   "pygments_lexer": "ipython3",
   "version": "3.6.0"
  }
 },
 "nbformat": 4,
 "nbformat_minor": 2
}
