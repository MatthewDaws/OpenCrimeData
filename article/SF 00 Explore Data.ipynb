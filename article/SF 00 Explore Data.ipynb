{
 "cells": [
  {
   "cell_type": "code",
   "execution_count": 1,
   "metadata": {
    "collapsed": true
   },
   "outputs": [],
   "source": [
    "%matplotlib inline\n",
    "import matplotlib.pyplot as plt\n",
    "import os, csv, bz2, collections, datetime, sys\n",
    "import geopandas as gpd\n",
    "import numpy as np\n",
    "import tilemapbase\n",
    "import shapely.geometry\n",
    "import pyproj\n",
    "proj = pyproj.Proj({\"init\":\"EPSG:2768\"})"
   ]
  },
  {
   "cell_type": "code",
   "execution_count": 2,
   "metadata": {
    "collapsed": true
   },
   "outputs": [],
   "source": [
    "datadir = os.path.join(\"..\", \"..\", \"..\", \"..\", \"Data\")\n",
    "#datadir = os.path.join(\"/media\", \"disk\", \"Data\")\n",
    "filename = os.path.join(datadir, \"SF_Police_Department_Incidents.csv.bz2\")\n",
    "\n",
    "def gen():\n",
    "    with bz2.open(filename, \"rt\", encoding=\"UTF8\") as f:\n",
    "        reader = csv.reader(f)\n",
    "        yield from reader"
   ]
  },
  {
   "cell_type": "code",
   "execution_count": 3,
   "metadata": {
    "collapsed": false
   },
   "outputs": [
    {
     "name": "stdout",
     "output_type": "stream",
     "text": [
      "['IncidntNum', 'Category', 'Descript', 'DayOfWeek', 'Date', 'Time', 'PdDistrict', 'Resolution', 'Address', 'X', 'Y', 'Location', 'PdId']\n"
     ]
    }
   ],
   "source": [
    "print(next(gen()))"
   ]
  },
  {
   "cell_type": "markdown",
   "metadata": {},
   "source": [
    "The fields:\n",
    "\n",
    "- `IncidntNum` : Seems not to be quite unique.  The _vast_ majority of repeats are multiple offenses committed at the same time/place.  A rather small are linked crimes across different times (often stolen vehicle later recovered).\n",
    "- `Category` : The crime type, from a small list (see below)\n",
    "- `Descript` : For each `Category`, gives the sub type of the crime (_lots_ of choices!)\n",
    "- `DayOfWeek` : \"Monday\" etc. agrees with `Date`\n",
    "- `Date` : Month/Day/Year like \"05/26/2017\"\n",
    "- `Time` : Standard 24 hour clock like \"23:12\" or \"05:07\"\n",
    "- `PdDistrict` : Blank, or one of a small number of district names.\n",
    "- `Resolution` : One of a small number of resolutions.\n",
    "- `Address`\n",
    "- `X`, `Y` : Longitude and Latitude.  A very small number of locations are false '(90, -120.5)'\n",
    "- `Location` : Always \"(Latitude, Longitude)\"\n",
    "- `PdId` : Unique ID"
   ]
  },
  {
   "cell_type": "markdown",
   "metadata": {},
   "source": [
    "Check for repeats in `IncidntNum`: there are loads"
   ]
  },
  {
   "cell_type": "code",
   "execution_count": 8,
   "metadata": {
    "collapsed": false
   },
   "outputs": [
    {
     "data": {
      "text/plain": [
       "(2120044, 1673403)"
      ]
     },
     "execution_count": 8,
     "metadata": {},
     "output_type": "execute_result"
    }
   ],
   "source": [
    "rows = gen()\n",
    "next(rows)\n",
    "IncidntNum = [row[0] for row in rows]\n",
    "len(IncidntNum), len(set(IncidntNum))"
   ]
  },
  {
   "cell_type": "markdown",
   "metadata": {},
   "source": [
    "But `PdId` is unique."
   ]
  },
  {
   "cell_type": "code",
   "execution_count": 9,
   "metadata": {
    "collapsed": false
   },
   "outputs": [
    {
     "data": {
      "text/plain": [
       "(2120044, 2120044)"
      ]
     },
     "execution_count": 9,
     "metadata": {},
     "output_type": "execute_result"
    }
   ],
   "source": [
    "rows = gen()\n",
    "next(rows)\n",
    "PdId = [row[12] for row in rows]\n",
    "len(PdId), len(set(PdId))"
   ]
  },
  {
   "cell_type": "markdown",
   "metadata": {},
   "source": [
    "Look at `Category` : \"main crime type\""
   ]
  },
  {
   "cell_type": "code",
   "execution_count": 10,
   "metadata": {
    "collapsed": false
   },
   "outputs": [
    {
     "data": {
      "text/plain": [
       "{'ARSON',\n",
       " 'ASSAULT',\n",
       " 'BAD CHECKS',\n",
       " 'BRIBERY',\n",
       " 'BURGLARY',\n",
       " 'DISORDERLY CONDUCT',\n",
       " 'DRIVING UNDER THE INFLUENCE',\n",
       " 'DRUG/NARCOTIC',\n",
       " 'DRUNKENNESS',\n",
       " 'EMBEZZLEMENT',\n",
       " 'EXTORTION',\n",
       " 'FAMILY OFFENSES',\n",
       " 'FORGERY/COUNTERFEITING',\n",
       " 'FRAUD',\n",
       " 'GAMBLING',\n",
       " 'KIDNAPPING',\n",
       " 'LARCENY/THEFT',\n",
       " 'LIQUOR LAWS',\n",
       " 'LOITERING',\n",
       " 'MISSING PERSON',\n",
       " 'NON-CRIMINAL',\n",
       " 'OTHER OFFENSES',\n",
       " 'PORNOGRAPHY/OBSCENE MAT',\n",
       " 'PROSTITUTION',\n",
       " 'RECOVERED VEHICLE',\n",
       " 'ROBBERY',\n",
       " 'RUNAWAY',\n",
       " 'SECONDARY CODES',\n",
       " 'SEX OFFENSES, FORCIBLE',\n",
       " 'SEX OFFENSES, NON FORCIBLE',\n",
       " 'STOLEN PROPERTY',\n",
       " 'SUICIDE',\n",
       " 'SUSPICIOUS OCC',\n",
       " 'TREA',\n",
       " 'TRESPASS',\n",
       " 'VANDALISM',\n",
       " 'VEHICLE THEFT',\n",
       " 'WARRANTS',\n",
       " 'WEAPON LAWS'}"
      ]
     },
     "execution_count": 10,
     "metadata": {},
     "output_type": "execute_result"
    }
   ],
   "source": [
    "rows = gen()\n",
    "next(rows)\n",
    "set(row[1] for row in rows)"
   ]
  },
  {
   "cell_type": "markdown",
   "metadata": {},
   "source": [
    "Look at `Descript` and join to `Category`.  Lots of choices."
   ]
  },
  {
   "cell_type": "code",
   "execution_count": 11,
   "metadata": {
    "collapsed": false
   },
   "outputs": [
    {
     "data": {
      "text/plain": [
       "{'ARSON',\n",
       " 'ARSON OF A COMMERCIAL BUILDING',\n",
       " 'ARSON OF A POLICE BUILDING',\n",
       " 'ARSON OF A POLICE VEHICLE',\n",
       " 'ARSON OF A VACANT BUILDING',\n",
       " 'ARSON OF A VEHICLE',\n",
       " 'ARSON OF AN INHABITED DWELLING',\n",
       " 'ARSON WITH GREAT BODILY INJURY',\n",
       " 'ATTEMPTED ARSON',\n",
       " 'FIRE, UNLAWFULLY CAUSING'}"
      ]
     },
     "execution_count": 11,
     "metadata": {},
     "output_type": "execute_result"
    }
   ],
   "source": [
    "rows = gen()\n",
    "next(rows)\n",
    "types = collections.defaultdict(set)\n",
    "for row in rows:\n",
    "    types[row[1]].add(row[2])\n",
    "types[\"ARSON\"]"
   ]
  },
  {
   "cell_type": "code",
   "execution_count": 12,
   "metadata": {
    "collapsed": false
   },
   "outputs": [
    {
     "name": "stdout",
     "output_type": "stream",
     "text": [
      "NON-CRIMINAL 40\n",
      "ROBBERY 74\n",
      "ASSAULT 64\n",
      "SECONDARY CODES 9\n",
      "VANDALISM 25\n",
      "BURGLARY 57\n",
      "LARCENY/THEFT 63\n",
      "DRUG/NARCOTIC 75\n",
      "WARRANTS 10\n",
      "VEHICLE THEFT 18\n",
      "OTHER OFFENSES 179\n",
      "WEAPON LAWS 46\n",
      "ARSON 10\n",
      "MISSING PERSON 3\n",
      "DRIVING UNDER THE INFLUENCE 4\n",
      "SUSPICIOUS OCC 8\n",
      "RECOVERED VEHICLE 7\n",
      "DRUNKENNESS 1\n",
      "TRESPASS 5\n",
      "FRAUD 42\n",
      "DISORDERLY CONDUCT 9\n",
      "SEX OFFENSES, FORCIBLE 28\n",
      "FORGERY/COUNTERFEITING 23\n",
      "KIDNAPPING 9\n",
      "EMBEZZLEMENT 17\n",
      "STOLEN PROPERTY 8\n",
      "LIQUOR LAWS 14\n",
      "FAMILY OFFENSES 9\n",
      "LOITERING 12\n",
      "BAD CHECKS 2\n",
      "TREA 1\n",
      "GAMBLING 5\n",
      "RUNAWAY 1\n",
      "BRIBERY 4\n",
      "PROSTITUTION 14\n",
      "PORNOGRAPHY/OBSCENE MAT 3\n",
      "SEX OFFENSES, NON FORCIBLE 4\n",
      "SUICIDE 18\n",
      "EXTORTION 2\n"
     ]
    }
   ],
   "source": [
    "for key in types:\n",
    "    print(key, len(types[key]))"
   ]
  },
  {
   "cell_type": "code",
   "execution_count": 13,
   "metadata": {
    "collapsed": false
   },
   "outputs": [
    {
     "data": {
      "text/plain": [
       "{'BURGLARY OF APARTMENT HOUSE, ATT FORCIBLE ENTRY',\n",
       " 'BURGLARY OF APARTMENT HOUSE, FORCIBLE ENTRY',\n",
       " 'BURGLARY OF APARTMENT HOUSE, UNLAWFUL ENTRY',\n",
       " 'BURGLARY OF FLAT, ATTEMPTED FORCIBLE ENTRY',\n",
       " 'BURGLARY OF FLAT, FORCIBLE ENTRY',\n",
       " 'BURGLARY OF FLAT, UNLAWFUL ENTRY',\n",
       " 'BURGLARY OF HOTEL ROOM, ATTEMPTED FORCIBLE ENTRY',\n",
       " 'BURGLARY OF HOTEL ROOM, FORCIBLE ENTRY',\n",
       " 'BURGLARY OF HOTEL ROOM, UNLAWFUL ENTRY',\n",
       " 'BURGLARY OF RESIDENCE, ATTEMPTED FORCIBLE ENTRY',\n",
       " 'BURGLARY OF RESIDENCE, FORCIBLE ENTRY',\n",
       " 'BURGLARY OF RESIDENCE, UNLAWFUL ENTRY',\n",
       " 'BURGLARY OF STORE, ATTEMPTED FORCIBLE ENTRY',\n",
       " 'BURGLARY OF STORE, FORCIBLE ENTRY',\n",
       " 'BURGLARY OF STORE, UNLAWFUL ENTRY',\n",
       " 'BURGLARY OF WAREHOUSE, ATTEMPTED FORCIBLE ENTRY',\n",
       " 'BURGLARY OF WAREHOUSE, FORCIBLE ENTRY',\n",
       " 'BURGLARY OF WAREHOUSE, UNLAWFUL ENTRY',\n",
       " 'BURGLARY, ATTEMPTED FORCIBLE ENTRY',\n",
       " 'BURGLARY, FORCIBLE ENTRY',\n",
       " 'BURGLARY, HOT PROWL, ATTEMPTED FORCIBLE ENTRY',\n",
       " 'BURGLARY, HOT PROWL, FORCIBLE ENTRY',\n",
       " 'BURGLARY, HOT PROWL, UNLAWFUL ENTRY',\n",
       " 'BURGLARY, UNLAWFUL ENTRY',\n",
       " 'BURGLARY, VEHICLE (ARREST MADE)',\n",
       " 'BURGLARY, VEHICLE, ATT. (ARREST MADE)',\n",
       " 'BURGLARY,APT UNDER CONSTRUCTION, ATT. FORCIBLE',\n",
       " 'BURGLARY,APT UNDER CONSTRUCTION, FORCIBLE ENTRY',\n",
       " 'BURGLARY,APT UNDER CONSTRUCTION, UNLAWFUL ENTRY',\n",
       " 'BURGLARY,BLDG. UNDER CONSTRUCTION, ATT. FORCIBLE',\n",
       " 'BURGLARY,BLDG. UNDER CONSTRUCTION, FORCIBLE ENTRY',\n",
       " 'BURGLARY,BLDG. UNDER CONSTRUCTION, UNLAWFUL ENTRY',\n",
       " 'BURGLARY,FLAT UNDER CONSTRUCTION, ATT. FORCIBLE',\n",
       " 'BURGLARY,FLAT UNDER CONSTRUCTION, FORCIBLE ENTRY',\n",
       " 'BURGLARY,FLAT UNDER CONSTRUCTION, UNLAWFUL ENTRY',\n",
       " 'BURGLARY,HOTEL UNDER CONSTRUCTION, ATT. FORCIBLE',\n",
       " 'BURGLARY,HOTEL UNDER CONSTRUCTION, FORCIBLE ENTRY',\n",
       " 'BURGLARY,HOTEL UNDER CONSTRUCTION, UNLAWFUL ENTRY',\n",
       " 'BURGLARY,RESIDENCE UNDER CONSTRT, ATT. FORCIBLE',\n",
       " 'BURGLARY,RESIDENCE UNDER CONSTRT, FORCIBLE ENTRY',\n",
       " 'BURGLARY,RESIDENCE UNDER CONSTRT, UNLAWFUL ENTRY',\n",
       " 'BURGLARY,STORE UNDER CONSTRUCTION, ATT. FORCIBLE',\n",
       " 'BURGLARY,STORE UNDER CONSTRUCTION, FORCIBLE ENTRY',\n",
       " 'BURGLARY,STORE UNDER CONSTRUCTION, UNLAWFUL ENTRY',\n",
       " 'BURGLARY,WAREHOUSE UNDER CONSTRT, ATT. FORCIBLE',\n",
       " 'BURGLARY,WAREHOUSE UNDER CONSTRT, FORCIBLE ENTRY',\n",
       " 'BURGLARY,WAREHOUSE UNDER CONSTRT, UNLAWFUL ENTRY',\n",
       " 'SAFE BURGLARY',\n",
       " 'SAFE BURGLARY OF A FLAT',\n",
       " 'SAFE BURGLARY OF A HOTEL',\n",
       " 'SAFE BURGLARY OF A RESIDENCE',\n",
       " 'SAFE BURGLARY OF A RESIDENCE WITH EXPLOSIVES',\n",
       " 'SAFE BURGLARY OF A STORE',\n",
       " 'SAFE BURGLARY OF A WAREHOUSE',\n",
       " 'SAFE BURGLARY OF A WAREHOUSE WITH EXPLOSIVES',\n",
       " 'SAFE BURGLARY OF AN APARTMENT',\n",
       " 'SAFE BURGLARY WITH EXPLOSIVES'}"
      ]
     },
     "execution_count": 13,
     "metadata": {},
     "output_type": "execute_result"
    }
   ],
   "source": [
    "types[\"BURGLARY\"]"
   ]
  },
  {
   "cell_type": "markdown",
   "metadata": {},
   "source": [
    "Look at `PdDistrict`"
   ]
  },
  {
   "cell_type": "code",
   "execution_count": 14,
   "metadata": {
    "collapsed": false
   },
   "outputs": [
    {
     "data": {
      "text/plain": [
       "Counter({'': 1,\n",
       "         'BAYVIEW': 212319,\n",
       "         'CENTRAL': 213899,\n",
       "         'INGLESIDE': 187014,\n",
       "         'MISSION': 286559,\n",
       "         'NORTHERN': 259985,\n",
       "         'PARK': 120598,\n",
       "         'RICHMOND': 111435,\n",
       "         'SOUTHERN': 382295,\n",
       "         'TARAVAL': 159729,\n",
       "         'TENDERLOIN': 186210})"
      ]
     },
     "execution_count": 14,
     "metadata": {},
     "output_type": "execute_result"
    }
   ],
   "source": [
    "rows = gen()\n",
    "next(rows)\n",
    "collections.Counter(row[6] for row in rows)"
   ]
  },
  {
   "cell_type": "markdown",
   "metadata": {},
   "source": [
    "Look at `Resolution`"
   ]
  },
  {
   "cell_type": "code",
   "execution_count": 15,
   "metadata": {
    "collapsed": false
   },
   "outputs": [
    {
     "data": {
      "text/plain": [
       "Counter({'ARREST, BOOKED': 502931,\n",
       "         'ARREST, CITED': 154759,\n",
       "         'CLEARED-CONTACT JUVENILE FOR MORE INFO': 669,\n",
       "         'COMPLAINANT REFUSES TO PROSECUTE': 8089,\n",
       "         'DISTRICT ATTORNEY REFUSES TO PROSECUTE': 7955,\n",
       "         'EXCEPTIONAL CLEARANCE': 4157,\n",
       "         'JUVENILE ADMONISHED': 3004,\n",
       "         'JUVENILE BOOKED': 13569,\n",
       "         'JUVENILE CITED': 6586,\n",
       "         'JUVENILE DIVERTED': 688,\n",
       "         'LOCATED': 34461,\n",
       "         'NONE': 1317932,\n",
       "         'NOT PROSECUTED': 7717,\n",
       "         'PROSECUTED BY OUTSIDE AGENCY': 5070,\n",
       "         'PROSECUTED FOR LESSER OFFENSE': 84,\n",
       "         'PSYCHOPATHIC CASE': 29181,\n",
       "         'UNFOUNDED': 23192})"
      ]
     },
     "execution_count": 15,
     "metadata": {},
     "output_type": "execute_result"
    }
   ],
   "source": [
    "rows = gen()\n",
    "next(rows)\n",
    "collections.Counter(row[7] for row in rows)"
   ]
  },
  {
   "cell_type": "markdown",
   "metadata": {},
   "source": [
    "Look at `DayOfWeek` and `Date`.  These agree."
   ]
  },
  {
   "cell_type": "code",
   "execution_count": 16,
   "metadata": {
    "collapsed": false
   },
   "outputs": [],
   "source": [
    "rows = gen()\n",
    "next(rows)\n",
    "for row in rows:\n",
    "    dt = datetime.datetime.strptime(row[4], \"%m/%d/%Y\")\n",
    "    assert dt.strftime(\"%A\") == row[3]"
   ]
  },
  {
   "cell_type": "markdown",
   "metadata": {},
   "source": [
    "Combine `Date` and `Time` and check these parse."
   ]
  },
  {
   "cell_type": "code",
   "execution_count": 17,
   "metadata": {
    "collapsed": false
   },
   "outputs": [
    {
     "data": {
      "text/plain": [
       "(datetime.datetime(2003, 1, 1, 0, 1), datetime.datetime(2017, 9, 13, 23, 30))"
      ]
     },
     "execution_count": 17,
     "metadata": {},
     "output_type": "execute_result"
    }
   ],
   "source": [
    "timestamps = []\n",
    "rows = gen()\n",
    "next(rows)\n",
    "for row in rows:\n",
    "    dt = datetime.datetime.strptime(row[4] + \" \" + row[5], \"%m/%d/%Y %H:%M\")\n",
    "    timestamps.append(dt)\n",
    "min(timestamps), max(timestamps)"
   ]
  },
  {
   "cell_type": "markdown",
   "metadata": {},
   "source": [
    "Check `Location` is the same as `X` and `Y`."
   ]
  },
  {
   "cell_type": "code",
   "execution_count": 18,
   "metadata": {
    "collapsed": false
   },
   "outputs": [],
   "source": [
    "rows = gen()\n",
    "next(rows)\n",
    "for row in rows:\n",
    "    x, y = row[9], row[10]\n",
    "    xx, yy = float(x), float(y)\n",
    "    assert row[11] == \"({}, {})\".format(y, x)"
   ]
  },
  {
   "cell_type": "markdown",
   "metadata": {},
   "source": [
    "Find the small number of \"false\" coordinates"
   ]
  },
  {
   "cell_type": "code",
   "execution_count": 19,
   "metadata": {
    "collapsed": false
   },
   "outputs": [
    {
     "data": {
      "text/plain": [
       "143"
      ]
     },
     "execution_count": 19,
     "metadata": {},
     "output_type": "execute_result"
    }
   ],
   "source": [
    "rows = gen()\n",
    "next(rows)\n",
    "count = 0\n",
    "for row in rows:\n",
    "    x, y = row[9], row[10]\n",
    "    xx, yy = float(x), float(y)\n",
    "    if abs(yy - 90) < 1e-9:\n",
    "        assert abs(xx + 120.5) < 1e-9\n",
    "        count += 1\n",
    "count"
   ]
  },
  {
   "cell_type": "markdown",
   "metadata": {},
   "source": [
    "Look at repeats in `IncidntNum` (there are 326120) and check that the vast majority differ _only_ in `Category`,  `Descript` and/or `Resolution`."
   ]
  },
  {
   "cell_type": "code",
   "execution_count": 20,
   "metadata": {
    "collapsed": false
   },
   "outputs": [],
   "source": [
    "rows = gen()\n",
    "next(rows)\n",
    "byid = collections.defaultdict(list)\n",
    "for row in rows:\n",
    "    byid[row[0]].append(row[1:])"
   ]
  },
  {
   "cell_type": "code",
   "execution_count": 21,
   "metadata": {
    "collapsed": true
   },
   "outputs": [],
   "source": [
    "byid = {k:v for k,v in byid.items() if len(v)>1}"
   ]
  },
  {
   "cell_type": "code",
   "execution_count": 22,
   "metadata": {
    "collapsed": false
   },
   "outputs": [],
   "source": [
    "unexpecteds = dict()\n",
    "for key, value in byid.items():\n",
    "    if not ( (len(set(tuple(row[2:6]) for row in value)) == 1) and\n",
    "        (len(set(tuple(row[7:-1]) for row in value)) == 1) ):\n",
    "        unexpecteds[key] = value"
   ]
  },
  {
   "cell_type": "code",
   "execution_count": 23,
   "metadata": {
    "collapsed": false
   },
   "outputs": [
    {
     "data": {
      "text/plain": [
       "(326120, 331)"
      ]
     },
     "execution_count": 23,
     "metadata": {},
     "output_type": "execute_result"
    }
   ],
   "source": [
    "len(byid), len(unexpecteds)"
   ]
  },
  {
   "cell_type": "markdown",
   "metadata": {},
   "source": [
    "The following is typical of the repeats"
   ]
  },
  {
   "cell_type": "code",
   "execution_count": 24,
   "metadata": {
    "collapsed": false
   },
   "outputs": [
    {
     "data": {
      "text/plain": [
       "('150100542',\n",
       " [['ASSAULT',\n",
       "   'BATTERY',\n",
       "   'Friday',\n",
       "   '01/30/2015',\n",
       "   '15:45',\n",
       "   'TARAVAL',\n",
       "   'NONE',\n",
       "   '100 Block of APTOS AV',\n",
       "   '-122.466758005159',\n",
       "   '37.7291845796038',\n",
       "   '(37.7291845796038, -122.466758005159)',\n",
       "   '15010054204134'],\n",
       "  ['SECONDARY CODES',\n",
       "   'JUVENILE INVOLVED',\n",
       "   'Friday',\n",
       "   '01/30/2015',\n",
       "   '15:45',\n",
       "   'TARAVAL',\n",
       "   'NONE',\n",
       "   '100 Block of APTOS AV',\n",
       "   '-122.466758005159',\n",
       "   '37.7291845796038',\n",
       "   '(37.7291845796038, -122.466758005159)',\n",
       "   '15010054215500'],\n",
       "  ['OTHER OFFENSES',\n",
       "   'INCIDENT ON SCHOOL GROUNDS',\n",
       "   'Friday',\n",
       "   '01/30/2015',\n",
       "   '15:45',\n",
       "   'TARAVAL',\n",
       "   'NONE',\n",
       "   '100 Block of APTOS AV',\n",
       "   '-122.466758005159',\n",
       "   '37.7291845796038',\n",
       "   '(37.7291845796038, -122.466758005159)',\n",
       "   '15010054219089']])"
      ]
     },
     "execution_count": 24,
     "metadata": {},
     "output_type": "execute_result"
    }
   ],
   "source": [
    "list(byid.items())[52]"
   ]
  },
  {
   "cell_type": "markdown",
   "metadata": {},
   "source": [
    "The following is typical of the `unexpecteds`"
   ]
  },
  {
   "cell_type": "code",
   "execution_count": 25,
   "metadata": {
    "collapsed": false
   },
   "outputs": [
    {
     "data": {
      "text/plain": [
       "('150251214',\n",
       " [['VEHICLE THEFT',\n",
       "   'STOLEN AUTOMOBILE',\n",
       "   'Thursday',\n",
       "   '03/19/2015',\n",
       "   '13:00',\n",
       "   'BAYVIEW',\n",
       "   'ARREST, BOOKED',\n",
       "   'BURROWS ST / BRUSSELS ST',\n",
       "   '-122.406082132929',\n",
       "   '37.728316332742',\n",
       "   '(37.728316332742, -122.406082132929)',\n",
       "   '15025121407021'],\n",
       "  ['RECOVERED VEHICLE',\n",
       "   'VEHICLE, RECOVERED, AUTO',\n",
       "   'Monday',\n",
       "   '03/23/2015',\n",
       "   '09:30',\n",
       "   'INGLESIDE',\n",
       "   'ARREST, BOOKED',\n",
       "   '400 Block of CORTLAND AV',\n",
       "   '-122.417439996239',\n",
       "   '37.7390953736683',\n",
       "   '(37.7390953736683, -122.417439996239)',\n",
       "   '15025121407041'],\n",
       "  ['STOLEN PROPERTY',\n",
       "   'STOLEN PROPERTY, POSSESSION WITH KNOWLEDGE, RECEIVING',\n",
       "   'Thursday',\n",
       "   '03/19/2015',\n",
       "   '13:00',\n",
       "   'BAYVIEW',\n",
       "   'ARREST, BOOKED',\n",
       "   'BURROWS ST / BRUSSELS ST',\n",
       "   '-122.406082132929',\n",
       "   '37.728316332742',\n",
       "   '(37.728316332742, -122.406082132929)',\n",
       "   '15025121411012'],\n",
       "  ['OTHER OFFENSES',\n",
       "   'TRAFFIC COLLISION, HIT & RUN, PROPERTY DAMAGE',\n",
       "   'Thursday',\n",
       "   '03/19/2015',\n",
       "   '13:00',\n",
       "   'BAYVIEW',\n",
       "   'ARREST, BOOKED',\n",
       "   'BURROWS ST / BRUSSELS ST',\n",
       "   '-122.406082132929',\n",
       "   '37.728316332742',\n",
       "   '(37.728316332742, -122.406082132929)',\n",
       "   '15025121468060']])"
      ]
     },
     "execution_count": 25,
     "metadata": {},
     "output_type": "execute_result"
    }
   ],
   "source": [
    "list(unexpecteds.items())[7]"
   ]
  },
  {
   "cell_type": "markdown",
   "metadata": {},
   "source": [
    "## Look at the `address` field.\n",
    "\n",
    "Always of the form:\n",
    "\n",
    "- `200 Block of ...`\n",
    "- `... / ...`\n",
    "\n",
    "where \"...\" is a street name."
   ]
  },
  {
   "cell_type": "code",
   "execution_count": 26,
   "metadata": {
    "collapsed": false
   },
   "outputs": [
    {
     "data": {
      "text/plain": [
       "25093"
      ]
     },
     "execution_count": 26,
     "metadata": {},
     "output_type": "execute_result"
    }
   ],
   "source": [
    "rows = gen()\n",
    "next(rows)\n",
    "addresses = set(row[8] for row in rows)\n",
    "len(addresses)"
   ]
  },
  {
   "cell_type": "code",
   "execution_count": 27,
   "metadata": {
    "collapsed": false
   },
   "outputs": [
    {
     "data": {
      "text/plain": [
       "['ONONDAGA AV / ALEMANY BL',\n",
       " '3100 Block of FILLMORE ST',\n",
       " 'SHIPLEY ST / 6TH ST',\n",
       " '500 Block of DUBOCE AV',\n",
       " '0 Block of 10TH ST']"
      ]
     },
     "execution_count": 27,
     "metadata": {},
     "output_type": "execute_result"
    }
   ],
   "source": [
    "list(addresses)[:5]"
   ]
  },
  {
   "cell_type": "code",
   "execution_count": 28,
   "metadata": {
    "collapsed": false
   },
   "outputs": [
    {
     "data": {
      "text/plain": [
       "['GENEVA AV /', 'TEHAMA ST /', 'CLEMENTINA ST /']"
      ]
     },
     "execution_count": 28,
     "metadata": {},
     "output_type": "execute_result"
    }
   ],
   "source": [
    "unexpected = []\n",
    "streets = set()\n",
    "\n",
    "for address in addresses:\n",
    "    if \" Block of \" in address:\n",
    "        i = address.index(\" Block of \")\n",
    "        num = int(address[:i])\n",
    "        assert num % 100 == 0\n",
    "        streets.add(address[i+10:])\n",
    "        continue\n",
    "    if \" / \" in address:\n",
    "        assert len(address.split(\" / \")) == 2\n",
    "        for p in address.split(\" / \"):\n",
    "            streets.add(p)\n",
    "        continue\n",
    "    unexpected.append(address)\n",
    "unexpected"
   ]
  },
  {
   "cell_type": "code",
   "execution_count": 29,
   "metadata": {
    "collapsed": false
   },
   "outputs": [
    {
     "data": {
      "text/plain": [
       "2139"
      ]
     },
     "execution_count": 29,
     "metadata": {},
     "output_type": "execute_result"
    }
   ],
   "source": [
    "streets = list(streets)\n",
    "streets.sort()\n",
    "len(streets)"
   ]
  },
  {
   "cell_type": "code",
   "execution_count": null,
   "metadata": {
    "collapsed": true
   },
   "outputs": [],
   "source": []
  },
  {
   "cell_type": "code",
   "execution_count": null,
   "metadata": {
    "collapsed": true
   },
   "outputs": [],
   "source": []
  }
 ],
 "metadata": {
  "kernelspec": {
   "display_name": "Python 3",
   "language": "python",
   "name": "python3"
  },
  "language_info": {
   "codemirror_mode": {
    "name": "ipython",
    "version": 3
   },
   "file_extension": ".py",
   "mimetype": "text/x-python",
   "name": "python",
   "nbconvert_exporter": "python",
   "pygments_lexer": "ipython3",
   "version": "3.6.0"
  }
 },
 "nbformat": 4,
 "nbformat_minor": 2
}
