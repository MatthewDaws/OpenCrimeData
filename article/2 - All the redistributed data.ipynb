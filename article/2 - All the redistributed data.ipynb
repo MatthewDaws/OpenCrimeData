{
 "cells": [
  {
   "cell_type": "markdown",
   "metadata": {},
   "source": [
    "# All redistributions"
   ]
  },
  {
   "cell_type": "code",
   "execution_count": 1,
   "metadata": {
    "collapsed": false
   },
   "outputs": [],
   "source": [
    "%matplotlib inline\n",
    "import matplotlib.pyplot as plt\n",
    "import numpy as np\n",
    "import os, bz2, collections, lzma\n",
    "\n",
    "import opencrimedata.san_francisco\n",
    "import opencrimedata.chicago\n",
    "import opencrimedata.dallas"
   ]
  },
  {
   "cell_type": "markdown",
   "metadata": {},
   "source": [
    "# San Francisco"
   ]
  },
  {
   "cell_type": "code",
   "execution_count": 20,
   "metadata": {
    "collapsed": false
   },
   "outputs": [],
   "source": [
    "#datadir = os.path.join(\"/media\", \"disk\", \"Data\")\n",
    "datadir = os.path.join(\"..\", \"..\", \"..\", \"..\", \"Data\")\n",
    "\n",
    "def gen_sf_original():\n",
    "    filename = os.path.join(datadir, \"SF_Police_Department_Incidents.csv.bz2\")\n",
    "    with bz2.open(filename, \"rt\", encoding=\"UTF8\") as f:\n",
    "        yield from opencrimedata.san_francisco.load(f)\n",
    "        \n",
    "def gen_sf_1():\n",
    "    filename = os.path.join(datadir, \"SF_Redist_1.csv.bz2\")\n",
    "    with bz2.open(filename, \"rt\", encoding=\"UTF8\") as f:\n",
    "        yield from opencrimedata.san_francisco.load(f)\n",
    "        \n",
    "def gen_sf_2():\n",
    "    filename = os.path.join(datadir, \"SF_Redist_2.csv.bz2\")\n",
    "    with bz2.open(filename, \"rt\", encoding=\"UTF8\") as f:\n",
    "        yield from opencrimedata.san_francisco.load(f)\n",
    "        \n",
    "def gen_sf_3():\n",
    "    filename = os.path.join(datadir, \"SF_Redist_3.csv.bz2\")\n",
    "    with bz2.open(filename, \"rt\", encoding=\"UTF8\") as f:\n",
    "        yield from opencrimedata.san_francisco.load(f)\n",
    "\n",
    "def gen_sf_3a():\n",
    "    filename = os.path.join(datadir, \"SF_Redist_3a.csv.bz2\")\n",
    "    with bz2.open(filename, \"rt\", encoding=\"UTF8\") as f:\n",
    "        yield from opencrimedata.san_francisco.load(f)\n",
    "        \n",
    "def gen_sf_4():\n",
    "    filename = os.path.join(datadir, \"SF_Redist_4.csv.bz2\")\n",
    "    with bz2.open(filename, \"rt\", encoding=\"UTF8\") as f:\n",
    "        yield from opencrimedata.san_francisco.load(f)\n",
    "\n",
    "def gen_sf_4a():\n",
    "    filename = os.path.join(datadir, \"SF_Redist_4a.csv.bz2\")\n",
    "    with bz2.open(filename, \"rt\", encoding=\"UTF8\") as f:\n",
    "        yield from opencrimedata.san_francisco.load(f)"
   ]
  },
  {
   "cell_type": "code",
   "execution_count": 21,
   "metadata": {
    "collapsed": false
   },
   "outputs": [
    {
     "data": {
      "text/plain": [
       "Row(category='NON-CRIMINAL', description='LOST PROPERTY', datetime=datetime.datetime(2015, 1, 19, 14, 0), block='18TH ST / VALENCIA ST', point=(-122.42158168137, 37.7617007179518), idd='15006027571000', incident='150060275')"
      ]
     },
     "execution_count": 21,
     "metadata": {},
     "output_type": "execute_result"
    }
   ],
   "source": [
    "next(gen_sf_original())"
   ]
  },
  {
   "cell_type": "code",
   "execution_count": 22,
   "metadata": {
    "collapsed": false
   },
   "outputs": [
    {
     "data": {
      "text/plain": [
       "Row(category='NON-CRIMINAL', description='LOST PROPERTY', datetime=datetime.datetime(2015, 1, 19, 14, 0), block='18TH ST / VALENCIA ST', point=(-122.42147427556684, 37.76146314127105), idd='15006027571000', incident='150060275')"
      ]
     },
     "execution_count": 22,
     "metadata": {},
     "output_type": "execute_result"
    }
   ],
   "source": [
    "next(gen_sf_1())"
   ]
  },
  {
   "cell_type": "code",
   "execution_count": 23,
   "metadata": {
    "collapsed": false
   },
   "outputs": [
    {
     "data": {
      "text/plain": [
       "Row(category='NON-CRIMINAL', description='LOST PROPERTY', datetime=datetime.datetime(2015, 1, 19, 14, 0), block='18TH ST / VALENCIA ST', point=(-122.42155516185261, 37.761458259089395), idd='15006027571000', incident='150060275')"
      ]
     },
     "execution_count": 23,
     "metadata": {},
     "output_type": "execute_result"
    }
   ],
   "source": [
    "next(gen_sf_2())"
   ]
  },
  {
   "cell_type": "code",
   "execution_count": 24,
   "metadata": {
    "collapsed": false
   },
   "outputs": [
    {
     "data": {
      "text/plain": [
       "Row(category='NON-CRIMINAL', description='LOST PROPERTY', datetime=datetime.datetime(2015, 1, 19, 14, 0), block='18TH ST / VALENCIA ST', point=(-122.42150458627911, 37.76093014121479), idd='15006027571000', incident='150060275')"
      ]
     },
     "execution_count": 24,
     "metadata": {},
     "output_type": "execute_result"
    }
   ],
   "source": [
    "next(gen_sf_3())"
   ]
  },
  {
   "cell_type": "code",
   "execution_count": 27,
   "metadata": {
    "collapsed": false
   },
   "outputs": [
    {
     "data": {
      "text/plain": [
       "Row(category='NON-CRIMINAL', description='LOST PROPERTY', datetime=datetime.datetime(2015, 1, 19, 14, 0), block='18TH ST / VALENCIA ST', point=(-122.42158032473093, 37.76172529925472), idd='15006027571000', incident='150060275')"
      ]
     },
     "execution_count": 27,
     "metadata": {},
     "output_type": "execute_result"
    }
   ],
   "source": [
    "next(gen_sf_3a())"
   ]
  },
  {
   "cell_type": "code",
   "execution_count": 28,
   "metadata": {
    "collapsed": false
   },
   "outputs": [
    {
     "data": {
      "text/plain": [
       "Row(category='NON-CRIMINAL', description='LOST PROPERTY', datetime=datetime.datetime(2015, 1, 19, 14, 0), block='18TH ST / VALENCIA ST', point=(-122.4209017, 37.76048959999974), idd='15006027571000', incident='150060275')"
      ]
     },
     "execution_count": 28,
     "metadata": {},
     "output_type": "execute_result"
    }
   ],
   "source": [
    "next(gen_sf_4())"
   ]
  },
  {
   "cell_type": "code",
   "execution_count": 29,
   "metadata": {
    "collapsed": false
   },
   "outputs": [
    {
     "data": {
      "text/plain": [
       "Row(category='NON-CRIMINAL', description='LOST PROPERTY', datetime=datetime.datetime(2015, 1, 19, 14, 0), block='18TH ST / VALENCIA ST', point=(-122.4218242, 37.76095719999975), idd='15006027571000', incident='150060275')"
      ]
     },
     "execution_count": 29,
     "metadata": {},
     "output_type": "execute_result"
    }
   ],
   "source": [
    "next(gen_sf_4a())"
   ]
  },
  {
   "cell_type": "code",
   "execution_count": 37,
   "metadata": {
    "collapsed": false
   },
   "outputs": [],
   "source": [
    "sources = [gen_sf_original, gen_sf_1, gen_sf_2, gen_sf_3, gen_sf_3a, gen_sf_4, gen_sf_4a]\n",
    "names = [\"original\", \"1\", \"2\", \"3\", \"3a\", \"4\", \"4a\"]\n",
    "\n",
    "all_sf_points = collections.defaultdict(dict)\n",
    "for source, name in zip(sources, names):\n",
    "    for row in source():\n",
    "        all_sf_points[row.idd][name] = row.point"
   ]
  },
  {
   "cell_type": "code",
   "execution_count": 38,
   "metadata": {
    "collapsed": false
   },
   "outputs": [
    {
     "data": {
      "text/plain": [
       "(2115909, 2119901)"
      ]
     },
     "execution_count": 38,
     "metadata": {},
     "output_type": "execute_result"
    }
   ],
   "source": [
    "keys = [key for key in all_sf_points if len(all_sf_points[key])==7]\n",
    "len(keys), len(all_sf_points)"
   ]
  },
  {
   "cell_type": "code",
   "execution_count": 42,
   "metadata": {
    "collapsed": false
   },
   "outputs": [
    {
     "data": {
      "text/plain": [
       "(2115909, 7, 2)"
      ]
     },
     "execution_count": 42,
     "metadata": {},
     "output_type": "execute_result"
    }
   ],
   "source": [
    "all_rows = [tuple(all_sf_points[key][name] for name in names) for key in keys]\n",
    "all_rows = np.asarray(all_rows)\n",
    "all_rows.shape"
   ]
  },
  {
   "cell_type": "code",
   "execution_count": 46,
   "metadata": {
    "collapsed": false
   },
   "outputs": [],
   "source": [
    "for i in range(all_rows.shape[1]):\n",
    "    all_rows[:,i,0], all_rows[:,i,1] = proj(all_rows[:,i,0], all_rows[:,i,1])"
   ]
  },
  {
   "cell_type": "code",
   "execution_count": 60,
   "metadata": {
    "collapsed": false
   },
   "outputs": [
    {
     "data": {
      "image/png": "[encoded data removed]",
      "text/plain": [
       "<matplotlib.figure.Figure at 0x1b3ad6769e8>"
      ]
     },
     "metadata": {},
     "output_type": "display_data"
    }
   ],
   "source": [
    "fig, ax = plt.subplots(figsize=(10,5))\n",
    "\n",
    "for y in range(-4,4):\n",
    "    ax.plot([0, all_rows.shape[0]], [y, y], linewidth=0.5, color=\"black\")\n",
    "\n",
    "names = [\"\", \"Voroni\", \"Projected to network\",\n",
    "            \"Flow along street lines\", \"Flow along TIGER/Lines\",\n",
    "            \"To buildings from street lines\", \"To buildings from TIGER/Lines\"]\n",
    "linestyles = [\"\", \"-\", \"--\", \"-.\", \":\", (0,(3,1,1,1,1,1)), (0,(2,5,1,5))]\n",
    "\n",
    "for i, (name, ls) in enumerate(zip(names, linestyles)):\n",
    "    if i == 0:\n",
    "        continue\n",
    "    dists = np.sqrt(np.sum((all_rows[:,0,:] - all_rows[:,i,:])**2, axis=-1))\n",
    "    dists = np.sort(dists)\n",
    "    ax.plot(np.log10(dists), label=name, color=\"black\", linestyle=ls)\n",
    "ax.legend(loc=\"lower right\")\n",
    "ax.set(ylabel=\"$\\log_{10}$ distance (meters)\")\n",
    "None"
   ]
  },
  {
   "cell_type": "markdown",
   "metadata": {},
   "source": [
    "# Chicago"
   ]
  },
  {
   "cell_type": "code",
   "execution_count": 2,
   "metadata": {
    "collapsed": true
   },
   "outputs": [],
   "source": [
    "#datadir = os.path.join(\"/media\", \"disk\", \"Data\")\n",
    "datadir = os.path.join(\"..\", \"..\", \"..\", \"..\", \"Data\")\n",
    "\n",
    "def gen_chicago_original():\n",
    "    with lzma.open(os.path.join(datadir, \"chicago_all.csv.xz\"), \"rt\") as f:\n",
    "        yield from opencrimedata.chicago.load_only_with_point(f)\n",
    "\n",
    "def gen_chicago_1():\n",
    "    with lzma.open(os.path.join(datadir, \"chicago_redist_street_network.csv.xz\"), \"rt\") as f:\n",
    "        yield from opencrimedata.chicago.load_only_with_point(f)\n",
    "        \n",
    "def gen_chicago_2():\n",
    "    with lzma.open(os.path.join(datadir, \"chicago_redist_cluster.csv.xz\"), \"rt\") as f:\n",
    "        yield from opencrimedata.chicago.load_only_with_point(f)\n",
    "\n",
    "def gen_chicago_3():\n",
    "    with lzma.open(os.path.join(datadir, \"chicago_redist_to_buildings.csv.xz\"), \"rt\") as f:\n",
    "        yield from opencrimedata.chicago.load_only_with_point(f)\n",
    "\n",
    "def gen_chicago_4():\n",
    "    with lzma.open(os.path.join(datadir, \"Chicago_redist_network_flow.csv.xz\"), \"rt\") as f:\n",
    "        yield from opencrimedata.chicago.load_only_with_point(f)\n",
    "        \n",
    "def gen_chicago_5():\n",
    "    with lzma.open(os.path.join(datadir, \"chicago_redist_network_flow_to_buildings.csv.xz\"), \"rt\") as f:\n",
    "        yield from opencrimedata.chicago.load_only_with_point(f)\n",
    "        \n",
    "def gen_chicago_6():\n",
    "    with lzma.open(os.path.join(datadir, \"chicago_redist_network_flow_to_buildings_network.csv.xz\"), \"rt\") as f:\n",
    "        yield from opencrimedata.chicago.load_only_with_point(f)"
   ]
  },
  {
   "cell_type": "code",
   "execution_count": 3,
   "metadata": {
    "collapsed": false
   },
   "outputs": [
    {
     "data": {
      "text/plain": [
       "Row(id='5189091', crime_type='OFFENSE INVOLVING CHILDREN', crime_subtype='CHILD ABUSE', location='RESIDENCE', address='108XX S AVENUE G', datetime=datetime.datetime(2006, 10, 12, 10, 58), point=(-87.531655723, 41.698387427))"
      ]
     },
     "execution_count": 3,
     "metadata": {},
     "output_type": "execute_result"
    }
   ],
   "source": [
    "next(gen_chicago_original())"
   ]
  },
  {
   "cell_type": "code",
   "execution_count": 4,
   "metadata": {
    "collapsed": false
   },
   "outputs": [
    {
     "data": {
      "text/plain": [
       "Row(id='5189091', crime_type='OFFENSE INVOLVING CHILDREN', crime_subtype='CHILD ABUSE', location='RESIDENCE', address='108XX S AVENUE G', datetime=datetime.datetime(2006, 10, 12, 10, 58), point=(-87.53132445093954, 41.69779186169136))"
      ]
     },
     "execution_count": 4,
     "metadata": {},
     "output_type": "execute_result"
    }
   ],
   "source": [
    "next(gen_chicago_1())"
   ]
  },
  {
   "cell_type": "code",
   "execution_count": 5,
   "metadata": {
    "collapsed": false
   },
   "outputs": [
    {
     "data": {
      "text/plain": [
       "Row(id='5189091', crime_type='OFFENSE INVOLVING CHILDREN', crime_subtype='CHILD ABUSE', location='RESIDENCE', address='108XX S AVENUE G', datetime=datetime.datetime(2006, 10, 12, 10, 58), point=(-87.53132670470409, 41.697879961880076))"
      ]
     },
     "execution_count": 5,
     "metadata": {},
     "output_type": "execute_result"
    }
   ],
   "source": [
    "next(gen_chicago_2())"
   ]
  },
  {
   "cell_type": "code",
   "execution_count": 6,
   "metadata": {
    "collapsed": false
   },
   "outputs": [
    {
     "data": {
      "text/plain": [
       "Row(id='5189091', crime_type='OFFENSE INVOLVING CHILDREN', crime_subtype='CHILD ABUSE', location='RESIDENCE', address='108XX S AVENUE G', datetime=datetime.datetime(2006, 10, 12, 10, 58), point=(-87.53189599999996, 41.69779459999998))"
      ]
     },
     "execution_count": 6,
     "metadata": {},
     "output_type": "execute_result"
    }
   ],
   "source": [
    "next(gen_chicago_3())"
   ]
  },
  {
   "cell_type": "code",
   "execution_count": 7,
   "metadata": {
    "collapsed": false
   },
   "outputs": [
    {
     "data": {
      "text/plain": [
       "Row(id='5189091', crime_type='OFFENSE INVOLVING CHILDREN', crime_subtype='CHILD ABUSE', location='RESIDENCE', address='108XX S AVENUE G', datetime=datetime.datetime(2006, 10, 12, 10, 58), point=(-87.53143112166953, 41.69726910890651))"
      ]
     },
     "execution_count": 7,
     "metadata": {},
     "output_type": "execute_result"
    }
   ],
   "source": [
    "next(gen_chicago_4())"
   ]
  },
  {
   "cell_type": "code",
   "execution_count": 8,
   "metadata": {
    "collapsed": false
   },
   "outputs": [
    {
     "data": {
      "text/plain": [
       "Row(id='5189091', crime_type='OFFENSE INVOLVING CHILDREN', crime_subtype='CHILD ABUSE', location='RESIDENCE', address='108XX S AVENUE G', datetime=datetime.datetime(2006, 10, 12, 10, 58), point=(-87.53136569999997, 41.696266899999976))"
      ]
     },
     "execution_count": 8,
     "metadata": {},
     "output_type": "execute_result"
    }
   ],
   "source": [
    "next(gen_chicago_5())"
   ]
  },
  {
   "cell_type": "code",
   "execution_count": 9,
   "metadata": {
    "collapsed": false
   },
   "outputs": [
    {
     "data": {
      "text/plain": [
       "Row(id='5189091', crime_type='OFFENSE INVOLVING CHILDREN', crime_subtype='CHILD ABUSE', location='RESIDENCE', address='108XX S AVENUE G', datetime=datetime.datetime(2006, 10, 12, 10, 58), point=(-87.53135129999995, 41.69713059999998))"
      ]
     },
     "execution_count": 9,
     "metadata": {},
     "output_type": "execute_result"
    }
   ],
   "source": [
    "next(gen_chicago_6())"
   ]
  },
  {
   "cell_type": "code",
   "execution_count": 10,
   "metadata": {
    "collapsed": false
   },
   "outputs": [
    {
     "name": "stdout",
     "output_type": "stream",
     "text": [
      "Done original\n",
      "Done voroni from street\n",
      "Done voroni from clusters\n",
      "Done to buildings\n",
      "Done network flow\n",
      "Done flow to buildings\n",
      "Done flow to buildings from network\n"
     ]
    }
   ],
   "source": [
    "sources = [gen_chicago_original, gen_chicago_1, gen_chicago_2, gen_chicago_3, gen_chicago_4,\n",
    "           gen_chicago_5, gen_chicago_6]\n",
    "names = [\"original\", \"voroni from street\", \"voroni from clusters\", \"to buildings\",\n",
    "         \"network flow\", \"flow to buildings\", \"flow to buildings from network\"]\n",
    "\n",
    "all_chicago_points = dict()\n",
    "for i, (source, name) in enumerate(zip(sources, names)):\n",
    "    for row in source():\n",
    "        if row.id not in all_chicago_points:\n",
    "            all_chicago_points[row.id] = np.zeros((len(sources),2))\n",
    "        all_chicago_points[row.id][i] = row.point\n",
    "    print(\"Done\", name)"
   ]
  },
  {
   "cell_type": "code",
   "execution_count": 11,
   "metadata": {
    "collapsed": false
   },
   "outputs": [
    {
     "data": {
      "text/plain": [
       "(5840468, 6323451)"
      ]
     },
     "execution_count": 11,
     "metadata": {},
     "output_type": "execute_result"
    }
   ],
   "source": [
    "keys = [key for key in all_chicago_points if sum(x!=0 for x in all_chicago_points[key][:,0])==7]\n",
    "len(keys), len(all_chicago_points)"
   ]
  },
  {
   "cell_type": "code",
   "execution_count": 12,
   "metadata": {
    "collapsed": false
   },
   "outputs": [
    {
     "data": {
      "text/plain": [
       "(5840468, 7, 2)"
      ]
     },
     "execution_count": 12,
     "metadata": {},
     "output_type": "execute_result"
    }
   ],
   "source": [
    "all_rows = [all_chicago_points[key] for key in keys]\n",
    "all_rows = np.asarray(all_rows)\n",
    "all_rows.shape"
   ]
  },
  {
   "cell_type": "code",
   "execution_count": 13,
   "metadata": {
    "collapsed": false
   },
   "outputs": [],
   "source": [
    "proj = opencrimedata.chicago.projector()\n",
    "for i in range(all_rows.shape[1]):\n",
    "    all_rows[:,i,0], all_rows[:,i,1] = proj(all_rows[:,i,0], all_rows[:,i,1])"
   ]
  },
  {
   "cell_type": "code",
   "execution_count": 16,
   "metadata": {
    "collapsed": false
   },
   "outputs": [
    {
     "data": {
      "image/png": "[encoded data removed]",
      "text/plain": [
       "<matplotlib.figure.Figure at 0x1a858477c50>"
      ]
     },
     "metadata": {},
     "output_type": "display_data"
    }
   ],
   "source": [
    "fig, ax = plt.subplots(figsize=(10,5))\n",
    "\n",
    "for y in range(-3,4):\n",
    "    ax.plot([0, all_rows.shape[0]], [y, y], linewidth=0.5, color=\"black\")\n",
    "\n",
    "linestyles = [\"\", \"-\", \"--\", \"-.\", \":\", (0,(3,1,1,1,1,1)), (0,(2,5,1,5))]\n",
    "\n",
    "for i, (name, ls) in enumerate(zip(names, linestyles)):\n",
    "    if i == 0:\n",
    "        continue\n",
    "    dists = np.sqrt(np.sum((all_rows[:,0,:] - all_rows[:,i,:])**2, axis=-1))\n",
    "    dists = np.sort(dists)\n",
    "    ax.plot(np.log10(dists), label=name, color=\"black\", linestyle=ls)\n",
    "ax.legend(loc=\"lower right\")\n",
    "ax.set(ylabel=\"$\\log_{10}$ distance (meters)\")\n",
    "None"
   ]
  },
  {
   "cell_type": "code",
   "execution_count": 17,
   "metadata": {
    "collapsed": false
   },
   "outputs": [
    {
     "data": {
      "image/png": "[encoded data removed]",
      "text/plain": [
       "<matplotlib.figure.Figure at 0x1a858aba0b8>"
      ]
     },
     "metadata": {},
     "output_type": "display_data"
    }
   ],
   "source": [
    "fig, axes = plt.subplots(ncols=3, nrows=2, figsize=(16,10))\n",
    "\n",
    "for ax in axes.flat:\n",
    "    for y in range(-3,4):\n",
    "        ax.plot([0, all_rows.shape[0]], [y, y], linewidth=0.5, color=\"black\")\n",
    "\n",
    "linestyles = [\"\", \"-\", \"--\", \"-.\", \":\", (0,(3,1,1,1,1,1)), (0,(2,5,1,5))]\n",
    "\n",
    "for i, (name, ls) in enumerate(zip(names, linestyles)):\n",
    "    if i == 0:\n",
    "        continue\n",
    "    dists = np.sqrt(np.sum((all_rows[:,0,:] - all_rows[:,i,:])**2, axis=-1))\n",
    "    dists = np.sort(dists)\n",
    "    ax = axes.flatten()[i-1]\n",
    "    ax.plot(np.log10(dists), label=name, color=\"black\", linestyle=ls)\n",
    "    ax.set_title(name)\n",
    "None"
   ]
  },
  {
   "cell_type": "markdown",
   "metadata": {},
   "source": [
    "# Dallas\n",
    "\n",
    "Remember that we believe the \"original\" xy coordinates to be \"wrong\", so we expect large distances here."
   ]
  },
  {
   "cell_type": "code",
   "execution_count": 6,
   "metadata": {
    "collapsed": false
   },
   "outputs": [],
   "source": [
    "#datadir = os.path.join(\"/media\", \"disk\", \"Data\")\n",
    "datadir = os.path.join(\"..\", \"..\", \"..\", \"..\", \"Data\")\n",
    "\n",
    "def gen_dallas_original():\n",
    "    with lzma.open(os.path.join(datadir, \"Dallas_7_Dec_2017.csv.xz\"), \"rt\") as file:\n",
    "        for row in opencrimedata.dallas.load_full(file):\n",
    "            if row.xy is not None:\n",
    "                yield row\n",
    "\n",
    "def gen_dallas_1():\n",
    "    with lzma.open(os.path.join(datadir, \"Dallas_Redist_1.csv.xz\"), \"rt\") as file:\n",
    "        for row in opencrimedata.dallas.load_full(file):\n",
    "            assert row.xy is not None\n",
    "            yield row\n",
    "\n",
    "def gen_dallas_2():\n",
    "    with lzma.open(os.path.join(datadir, \"Dallas_Redist_2.csv.xz\"), \"rt\") as file:\n",
    "        for row in opencrimedata.dallas.load_full(file):\n",
    "            assert row.xy is not None\n",
    "            yield row"
   ]
  },
  {
   "cell_type": "code",
   "execution_count": 7,
   "metadata": {
    "collapsed": false
   },
   "outputs": [
    {
     "data": {
      "text/plain": [
       "Row(code='276285-2016', crime_type='BURGLARY', crime_subtype='BURGLARY-RESIDENCE', start_time=datetime.datetime(2016, 11, 16, 11, 0), end_time=datetime.datetime(2016, 11, 18, 11, 0), call_time=datetime.datetime(2016, 11, 18, 11, 42, 26), address='5850 BELT LINE RD', city='DALLAS 75254', lonlat=(-96.807131, 32.953948), xy=(758206.7262484236, 2144003.9338816064))"
      ]
     },
     "execution_count": 7,
     "metadata": {},
     "output_type": "execute_result"
    }
   ],
   "source": [
    "next(gen_dallas_original())"
   ]
  },
  {
   "cell_type": "code",
   "execution_count": 8,
   "metadata": {
    "collapsed": false
   },
   "outputs": [
    {
     "data": {
      "text/plain": [
       "Row(code='276285-2016', crime_type='BURGLARY', crime_subtype='BURGLARY-RESIDENCE', start_time=datetime.datetime(2016, 11, 16, 11, 0), end_time=datetime.datetime(2016, 11, 18, 11, 0), call_time=datetime.datetime(2016, 11, 18, 11, 42, 26), address='5850 BELT LINE RD', city='DALLAS 75254', lonlat=None, xy=(758190.6762580645, 2144023.8988102614))"
      ]
     },
     "execution_count": 8,
     "metadata": {},
     "output_type": "execute_result"
    }
   ],
   "source": [
    "next(gen_dallas_1())"
   ]
  },
  {
   "cell_type": "code",
   "execution_count": 9,
   "metadata": {
    "collapsed": false
   },
   "outputs": [
    {
     "data": {
      "text/plain": [
       "Row(code='276285-2016', crime_type='BURGLARY', crime_subtype='BURGLARY-RESIDENCE', start_time=datetime.datetime(2016, 11, 16, 11, 0), end_time=datetime.datetime(2016, 11, 18, 11, 0), call_time=datetime.datetime(2016, 11, 18, 11, 42, 26), address='5850 BELT LINE RD', city='DALLAS 75254', lonlat=None, xy=(758108.9156951993, 2143910.795561087))"
      ]
     },
     "execution_count": 9,
     "metadata": {},
     "output_type": "execute_result"
    }
   ],
   "source": [
    "next(gen_dallas_2())"
   ]
  },
  {
   "cell_type": "code",
   "execution_count": 12,
   "metadata": {
    "collapsed": false
   },
   "outputs": [
    {
     "name": "stdout",
     "output_type": "stream",
     "text": [
      "Done original xy\n",
      "Done to streets\n",
      "Done to buildings\n"
     ]
    }
   ],
   "source": [
    "sources = [gen_dallas_original, gen_dallas_1, gen_dallas_2]\n",
    "names = [\"original xy\", \"to streets\", \"to buildings\"]\n",
    "\n",
    "all_dallas_points = dict()\n",
    "for i, (source, name) in enumerate(zip(sources, names)):\n",
    "    for row in source():\n",
    "        if row.code not in all_dallas_points:\n",
    "            all_dallas_points[row.code] = np.zeros((len(sources),2))\n",
    "        all_dallas_points[row.code][i] = row.xy\n",
    "    print(\"Done\", name)"
   ]
  },
  {
   "cell_type": "code",
   "execution_count": 15,
   "metadata": {
    "collapsed": false
   },
   "outputs": [
    {
     "data": {
      "text/plain": [
       "(293349, 293401)"
      ]
     },
     "execution_count": 15,
     "metadata": {},
     "output_type": "execute_result"
    }
   ],
   "source": [
    "keys = [key for key in all_dallas_points if sum(x!=0 for x in all_dallas_points[key][:,0])==3]\n",
    "len(keys), len(all_dallas_points)"
   ]
  },
  {
   "cell_type": "code",
   "execution_count": 24,
   "metadata": {
    "collapsed": false
   },
   "outputs": [],
   "source": [
    "all_rows = [all_dallas_points[key] for key in keys]\n",
    "all_rows = np.asarray(all_rows)"
   ]
  },
  {
   "cell_type": "code",
   "execution_count": 26,
   "metadata": {
    "collapsed": false
   },
   "outputs": [
    {
     "data": {
      "image/png": "[encoded data removed]",
      "text/plain": [
       "<matplotlib.figure.Figure at 0x1999a85bdd8>"
      ]
     },
     "metadata": {},
     "output_type": "display_data"
    }
   ],
   "source": [
    "fig, ax = plt.subplots(figsize=(10,5))\n",
    "\n",
    "for y in range(-1,4):\n",
    "    ax.plot([0, all_rows.shape[0]], [y, y], linewidth=0.5, color=\"black\")\n",
    "\n",
    "linestyles = [\"\", \"-\", \"--\", \"-.\", \":\", (0,(3,1,1,1,1,1)), (0,(2,5,1,5))]\n",
    "\n",
    "for i, (name, ls) in enumerate(zip(names, linestyles)):\n",
    "    if i == 0:\n",
    "        continue\n",
    "    dists = np.sqrt(np.sum((all_rows[:,0,:] - all_rows[:,i,:])**2, axis=-1))\n",
    "    dists = np.sort(dists)\n",
    "    ax.plot(np.log10(dists), label=name, color=\"black\", linestyle=ls)\n",
    "ax.legend(loc=\"lower right\")\n",
    "ax.set(ylabel=\"$\\log_{10}$ distance (meters)\")\n",
    "None"
   ]
  },
  {
   "cell_type": "code",
   "execution_count": null,
   "metadata": {
    "collapsed": true
   },
   "outputs": [],
   "source": []
  }
 ],
 "metadata": {
  "kernelspec": {
   "display_name": "Python 3",
   "language": "python",
   "name": "python3"
  },
  "language_info": {
   "codemirror_mode": {
    "name": "ipython",
    "version": 3
   },
   "file_extension": ".py",
   "mimetype": "text/x-python",
   "name": "python",
   "nbconvert_exporter": "python",
   "pygments_lexer": "ipython3",
   "version": "3.6.0"
  }
 },
 "nbformat": 4,
 "nbformat_minor": 2
}
